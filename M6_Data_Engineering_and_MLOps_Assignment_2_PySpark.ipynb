{
  "nbformat": 4,
  "nbformat_minor": 0,
  "metadata": {
    "colab": {
      "provenance": [],
      "authorship_tag": "ABX9TyOOyUuRObM5/ZsX/KVSA6gR",
      "include_colab_link": true
    },
    "kernelspec": {
      "name": "python3",
      "display_name": "Python 3"
    },
    "language_info": {
      "name": "python"
    }
  },
  "cells": [
    {
      "cell_type": "markdown",
      "metadata": {
        "id": "view-in-github",
        "colab_type": "text"
      },
      "source": [
        "<a href=\"https://colab.research.google.com/github/Kasper-Raupach-Haurum/M6-Data-Engineering-and-MLOps/blob/main/M6_Data_Engineering_and_MLOps_Assignment_2_PySpark.ipynb\" target=\"_parent\"><img src=\"https://colab.research.google.com/assets/colab-badge.svg\" alt=\"Open In Colab\"/></a>"
      ]
    },
    {
      "cell_type": "markdown",
      "source": [
        "# Assignment 2: Select one of your previous projects or a large dataset of your choice, such as a dataset with millions of rows, and use either Apache Spark or Polars to perform the complete EDA report.\n",
        "\n",
        "This colab and code was made by Raiyan M.D, and Kasper R. Haurum on the Business data science master at their 2nd semester, for Module 6: Data Engineering and MLOps."
      ],
      "metadata": {
        "id": "juRBN-Tr3aWP"
      }
    },
    {
      "cell_type": "markdown",
      "source": [
        "In this assignment 2, we will use the \"Nomadlist\" dataset, which is a dataset used in our 1st semester within the M1 - Applied Data Science and Machine Learning module.\n",
        "\n",
        "Lastly, we will use Apache Spark to perform the EDA & data operations."
      ],
      "metadata": {
        "id": "LjwjkLAj3q97"
      }
    },
    {
      "cell_type": "markdown",
      "source": [
        "##Loading the dataset and basic EDA"
      ],
      "metadata": {
        "id": "GqvUD6Nw7Bab"
      }
    },
    {
      "cell_type": "markdown",
      "source": [
        "Here we are loading the dataset and performing basic exploratory data analysis (EDA) using PySpark. The purpose of this analysis is to understand the structure of the data, filter relevant observations, and obtain summary statistics or metrics."
      ],
      "metadata": {
        "id": "Cu6pVOPFLF4-"
      }
    },
    {
      "cell_type": "code",
      "source": [
        "!pip install pyspark --q"
      ],
      "metadata": {
        "id": "JUioywu74Cgz"
      },
      "execution_count": 1,
      "outputs": []
    },
    {
      "cell_type": "code",
      "execution_count": 2,
      "metadata": {
        "id": "0x2iRKce3Q6n"
      },
      "outputs": [],
      "source": [
        "from pyspark.sql import SparkSession\n",
        "from pyspark.sql.functions import col, count, when, isnan, min, max, mean\n",
        "import pandas as pd\n",
        "import pyspark.sql.functions as F"
      ]
    },
    {
      "cell_type": "markdown",
      "source": [
        "`spark = SparkSession.builder.appName(\"TripsEDA\").getOrCreate()` is a line of code in PySpark that creates a Spark session.\n",
        "\n",
        "A Spark session is the entry point to using Spark functionality. It serves as a unified entry point for accessing Spark services and provides a way to manage the SparkContext, which is the main object that controls the behavior of Spark.\n",
        "\n",
        "In this line of code, a Spark session is created using the `SparkSession.builder` method and setting the appName to `\"TripsEDA\"`. The `getOrCreate` method is used to either get an existing Spark session or create a new one if none exists. This ensures that only one Spark session is created for the entire analysis."
      ],
      "metadata": {
        "id": "iC85i9axLhDU"
      }
    },
    {
      "cell_type": "code",
      "source": [
        "spark = SparkSession.builder.appName(\"TripsEDA\").getOrCreate()"
      ],
      "metadata": {
        "id": "E-jXBKHsKzXJ"
      },
      "execution_count": 3,
      "outputs": []
    },
    {
      "cell_type": "markdown",
      "source": [
        "In this part of the code we are using the ` urllib.request — Extensible library` for opening URLs. This is required because we want to download down the trips.csv dataset from a github repo. It downloads the dataset from the specified URL using the urllib.request module.\n",
        "\n",
        "The URL of the dataset is stored in a variable url and the name of the file is stored in a variable filename. We also implemented a print() for both prior, and after using the request function of the urllib, as we want to make sure we get a confirmation that it worked."
      ],
      "metadata": {
        "id": "9XwwFyVXL2wk"
      }
    },
    {
      "cell_type": "code",
      "source": [
        "#Download the dataset\n",
        "import urllib.request\n",
        "\n",
        "url = 'https://sds-aau.github.io/SDS-master/M1/data/trips.csv'\n",
        "filename = 'trips.csv'\n",
        "\n",
        "print('Downloading the dataset')\n",
        "urllib.request.urlretrieve(url, filename)\n",
        "print('Dataset downloaded successfully')"
      ],
      "metadata": {
        "colab": {
          "base_uri": "https://localhost:8080/"
        },
        "id": "UwDCV2ejK11p",
        "outputId": "49fb294a-0581-4db8-8474-9f190a893fc1"
      },
      "execution_count": 4,
      "outputs": [
        {
          "output_type": "stream",
          "name": "stdout",
          "text": [
            "Downloading the dataset...\n",
            "Dataset downloaded successfully.\n"
          ]
        }
      ]
    },
    {
      "cell_type": "markdown",
      "source": [
        "This part of the code loads the dataset into a Spark dataframe and performs basic exploratory data analysis (EDA) to understand the structure of the data.\n",
        "\n",
        "The following line of code loads the dataset into a Spark dataframe:\n",
        "\n",
        "`df = spark.read.format('csv').options(header='true', inferSchema='true').load(filename)`\n",
        "\n",
        "The load method is used to load the data from the specified file (filename) into a Spark dataframe (df).\n",
        "\n",
        "Finally, the message \"Dataset loaded successfully\" is printed to again act as a canary bird to inform us that the spark command worked."
      ],
      "metadata": {
        "id": "riGxQx6ENSSu"
      }
    },
    {
      "cell_type": "code",
      "source": [
        "#Step 1: Load the dataset into the platform and perform basic exploratory data analysis (EDA) to understand the structure of the data. \n",
        "#Load the dataset into a Spark dataframe\n",
        "print('Loading the dataset into a Spark dataframe')\n",
        "df = spark.read.format('csv').options(header='true', inferSchema='true').load(filename)\n",
        "print('Dataset loaded successfully')"
      ],
      "metadata": {
        "colab": {
          "base_uri": "https://localhost:8080/"
        },
        "id": "xb4mzgvBLP2h",
        "outputId": "470138ae-1d83-4224-a7b6-9d7b7f15e0e5"
      },
      "execution_count": 5,
      "outputs": [
        {
          "output_type": "stream",
          "name": "stdout",
          "text": [
            "Loading the dataset into a Spark dataframe...\n",
            "Dataset loaded successfully.\n"
          ]
        }
      ]
    },
    {
      "cell_type": "markdown",
      "source": [
        "Here we have written a combined function which prints the dimensions of the Trips dataset, which is 46510 rows, and 11 columns. Accompanying this print() comes the data types of the different columns, and lastly, the missing values found in the dataset. As seen, this is as high as 601 missing values found in `country_code`, and some without any missing values."
      ],
      "metadata": {
        "id": "COipu7MrNy--"
      }
    },
    {
      "cell_type": "code",
      "source": [
        "# Perform basic exploratory data analysis\n",
        "print(\"Dimensions of the dataset: ({}, {})\".format(df.count(), len(df.columns)))\n",
        "print(\"Data types:\")\n",
        "df.printSchema()\n",
        "print(\"Missing values:\")\n",
        "df.select([count(when(isnan(c) | col(c).isNull(), c)).alias(c) for c in df.columns]).show(truncate=False)"
      ],
      "metadata": {
        "colab": {
          "base_uri": "https://localhost:8080/"
        },
        "id": "-rNNoSpDLghq",
        "outputId": "57aeb0c7-3d5f-4c31-c5f5-cc609c221dc4"
      },
      "execution_count": 6,
      "outputs": [
        {
          "output_type": "stream",
          "name": "stdout",
          "text": [
            "Dimensions of the dataset: (46510, 11)\n",
            "Data types:\n",
            "root\n",
            " |-- _c0: integer (nullable = true)\n",
            " |-- username: string (nullable = true)\n",
            " |-- country: string (nullable = true)\n",
            " |-- country_code: string (nullable = true)\n",
            " |-- country_slug: string (nullable = true)\n",
            " |-- date_end: string (nullable = true)\n",
            " |-- date_start: string (nullable = true)\n",
            " |-- latitude: integer (nullable = true)\n",
            " |-- longitude: integer (nullable = true)\n",
            " |-- place: string (nullable = true)\n",
            " |-- place_slug: string (nullable = true)\n",
            "\n",
            "Missing values:\n",
            "+---+--------+-------+------------+------------+--------+----------+--------+---------+-----+----------+\n",
            "|_c0|username|country|country_code|country_slug|date_end|date_start|latitude|longitude|place|place_slug|\n",
            "+---+--------+-------+------------+------------+--------+----------+--------+---------+-----+----------+\n",
            "|0  |0       |37     |601         |37          |175     |0         |0       |0        |2    |37        |\n",
            "+---+--------+-------+------------+------------+--------+----------+--------+---------+-----+----------+\n",
            "\n"
          ]
        }
      ]
    },
    {
      "cell_type": "markdown",
      "source": [
        "Since we detected there was missing values, we want to ensure of course that these missing values are removed. To ensure this, we do the following to filter the data to include only the relevant observations.\n",
        "\n",
        "`df = df.filter((col(\"date_end\") > col(\"date_start\")) & (col(\"latitude\").isNotNull()) & (col(\"longitude\").isNotNull())) `\n",
        "\n",
        "This code filters the data based on three conditions:\n",
        " \n",
        "1.   col(\"date_end\") > col(\"date_start\"): The end date of the trip must be greater than the start date. In other words, the end_date is always greater as when days passes by, the value increases. 1/1/2023 is smaller then 7/1/2023. This is to ensure the trips are not negative in duration, and we wanted to make a duration-filter, so this is it.\n",
        "\n",
        "2.   col(\"latitude\").isNotNull(): The latitude of the trip must not be null. \n",
        "\n",
        "3.   col(\"longitude\").isNotNull(): The longitude of the trip must not be null.\n",
        "The filtered data is stored in the same dataframe df.\n",
        "\n",
        "2 + 3 is to ensure that the trips have a location data point"
      ],
      "metadata": {
        "id": "pXcaZepoOjN2"
      }
    },
    {
      "cell_type": "code",
      "source": [
        "# Step 2: Filter the data to include only the relevant observations\n",
        "print(\"Filtering the data to include only the relevant observations...\")\n",
        "df = df.filter((col(\"date_end\") > col(\"date_start\")) & (col(\"latitude\").isNotNull()) & (col(\"longitude\").isNotNull()))"
      ],
      "metadata": {
        "colab": {
          "base_uri": "https://localhost:8080/"
        },
        "id": "QaceMaGPLj8B",
        "outputId": "3390bb37-8d3f-41ef-8ee3-b15060bbdb32"
      },
      "execution_count": 7,
      "outputs": [
        {
          "output_type": "stream",
          "name": "stdout",
          "text": [
            "Filtering the data to include only the relevant observations...\n"
          ]
        }
      ]
    },
    {
      "cell_type": "markdown",
      "source": [
        "Now that we have set the conditions for which the data in the trips data is filtered, we want to group.by some of the variables in the dataset. What we want to look at in this example is where most digital nomads travel to, be it either country, or place, and which digital nomad is the most frequent flier.\n",
        "\n",
        "To find this information, we do the following:\n",
        "\n",
        "* `df.groupBy(\"country\").agg(count(\"*\").alias(\"count\")):` The data is grouped by the country and the number of trips per country is counted.\n",
        "\n",
        "* `df.groupBy(\"place\").agg(count(\"*\").alias(\"count\")):` The data is grouped by the place and the number of trips per place is counted.\n",
        "\n",
        "* `df.groupBy(\"username\").agg(count(\"*\").alias(\"count\")):` The data is grouped by the username and the number of trips per username is counted."
      ],
      "metadata": {
        "id": "9_rk_MOrP0am"
      }
    },
    {
      "cell_type": "code",
      "source": [
        "# Step 3: Aggregate the data to obtain summary statistics or metrics\n",
        "print(\"Aggregating the data to obtain summary statistics or metrics...\")\n",
        "print(\"Number of trips per country:\")\n",
        "df.groupBy(\"country\").agg(count(\"*\").alias(\"count\")).show(truncate=False)\n",
        "print(\"Number of trips per place:\")\n",
        "df.groupBy(\"place\").agg(count(\"*\").alias(\"count\")).show(truncate=False)\n",
        "print(\"Number of trips per username:\")\n",
        "df.groupBy(\"username\").agg(count(\"*\").alias(\"count\")).show(truncate=False)"
      ],
      "metadata": {
        "colab": {
          "base_uri": "https://localhost:8080/"
        },
        "id": "68Icy1BBLnyY",
        "outputId": "1982b850-1fc3-4463-c05b-710a1283a8d8"
      },
      "execution_count": 8,
      "outputs": [
        {
          "output_type": "stream",
          "name": "stdout",
          "text": [
            "Aggregating the data to obtain summary statistics or metrics...\n",
            "Number of trips per country:\n",
            "+----------------------------+-----+\n",
            "|country                     |count|\n",
            "+----------------------------+-----+\n",
            "|Côte d'Ivoire               |1    |\n",
            "|Chad                        |1    |\n",
            "|Russia                      |491  |\n",
            "|Paraguay                    |15   |\n",
            "|Anguilla                    |2    |\n",
            "|Bethlehem                   |1    |\n",
            "|U.S. Virgin Islands         |6    |\n",
            "|Yemen                       |1    |\n",
            "|Pristina District           |1    |\n",
            "|Senegal                     |11   |\n",
            "|Collectivity of Saint Martin|3    |\n",
            "|Sweden                      |361  |\n",
            "|Mediterranean Sea           |3    |\n",
            "|Svalbard and Jan Mayen      |6    |\n",
            "|Philippines                 |376  |\n",
            "|11000                       |1    |\n",
            "|Iguazu Falls                |1    |\n",
            "|Tonga                       |2    |\n",
            "|Djibouti                    |1    |\n",
            "|Malaysia                    |872  |\n",
            "+----------------------------+-----+\n",
            "only showing top 20 rows\n",
            "\n",
            "Number of trips per place:\n",
            "+----------------------------------+-----+\n",
            "|place                             |count|\n",
            "+----------------------------------+-----+\n",
            "|Da Nang                           |70   |\n",
            "|Sant Llorenç de Morunys           |1    |\n",
            "|Bangalore                         |61   |\n",
            "|Antwerp                           |24   |\n",
            "|Palermo                           |12   |\n",
            "|Thessaloniki                      |24   |\n",
            "|Hanover                           |1    |\n",
            "|Magdeburg                         |1    |\n",
            "|Mainz                             |5    |\n",
            "|Volgograd                         |13   |\n",
            "|Seogwipo-si                       |1    |\n",
            "|Hargeisa                          |1    |\n",
            "|Samarkand                         |2    |\n",
            "|Nukus                             |1    |\n",
            "|Villahermosa                      |5    |\n",
            "|Carbost                           |1    |\n",
            "|Canyon de Chelly National Monument|1    |\n",
            "|Songpan                           |1    |\n",
            "|Worcester                         |2    |\n",
            "|Banlung                           |1    |\n",
            "+----------------------------------+-----+\n",
            "only showing top 20 rows\n",
            "\n",
            "Number of trips per username:\n",
            "+---------------+-----+\n",
            "|username       |count|\n",
            "+---------------+-----+\n",
            "|@alanbezanson  |9    |\n",
            "|@johana        |61   |\n",
            "|@bg26892       |3    |\n",
            "|@tpaktop       |10   |\n",
            "|@ashukumar27   |8    |\n",
            "|@sten          |4    |\n",
            "|@lesly         |4    |\n",
            "|@unfulvio      |25   |\n",
            "|@sdrth_        |1    |\n",
            "|@colinw        |99   |\n",
            "|@emeliefagel   |14   |\n",
            "|@napadeu       |20   |\n",
            "|@shoinwolfe    |46   |\n",
            "|@belle_88      |11   |\n",
            "|@ricardomorgado|64   |\n",
            "|@evilbilly     |42   |\n",
            "|@sweaver       |4    |\n",
            "|@sadokx        |6    |\n",
            "|@kuany870      |4    |\n",
            "|@hella_gela    |50   |\n",
            "+---------------+-----+\n",
            "only showing top 20 rows\n",
            "\n"
          ]
        }
      ]
    },
    {
      "cell_type": "markdown",
      "source": [
        "As you saw above, the output is a mess as far as what is high, and what is low, and we don't want messy data, we want clean data. So, to make clean data we want to find the min, max, and mean values for the groupby.data. To begin, we find the min, max, and mean value for the country and the number of trips per country. As seen, the most popular country recieved 7337 digital nomads, and countries on average gets 181 visitors, and the lowest of the low gets just 1 nomad, likely one who felt very lonely sitting in some sweaty hotel lobby, and sipping on a bottle of Stella artois"
      ],
      "metadata": {
        "id": "xaB91NxwQXxw"
      }
    },
    {
      "cell_type": "code",
      "source": [
        "# Calculating summary statistics for trips per country\n",
        "country_stats = df.groupBy(\"country\").agg(count(\"*\").alias(\"count\"))\n",
        "country_stats.select(min(\"count\").alias(\"Min\"), max(\"count\").alias(\"Max\"), mean(\"count\").alias(\"Mean\")).show()"
      ],
      "metadata": {
        "colab": {
          "base_uri": "https://localhost:8080/"
        },
        "id": "K-1AVNUD1uf2",
        "outputId": "39f36649-425c-4c98-f1fe-821ec608ee16"
      },
      "execution_count": 9,
      "outputs": [
        {
          "output_type": "stream",
          "name": "stdout",
          "text": [
            "+---+----+-----------------+\n",
            "|Min| Max|             Mean|\n",
            "+---+----+-----------------+\n",
            "|  1|7337|181.1093117408907|\n",
            "+---+----+-----------------+\n",
            "\n"
          ]
        }
      ]
    },
    {
      "cell_type": "markdown",
      "source": [
        "We do the same for place locations"
      ],
      "metadata": {
        "id": "eUuCfxd2R5cI"
      }
    },
    {
      "cell_type": "code",
      "source": [
        "# Calculating summary statistics for trips per place\n",
        "place_stats = df.groupBy(\"place\").agg(count(\"*\").alias(\"count\"))\n",
        "place_stats.select(min(\"count\").alias(\"Min\"), max(\"count\").alias(\"Max\"), mean(\"count\").alias(\"Mean\")).show()"
      ],
      "metadata": {
        "colab": {
          "base_uri": "https://localhost:8080/"
        },
        "id": "Wd20wfeT23Y-",
        "outputId": "3dddac79-604a-44f4-9fa8-20bc2d30e85d"
      },
      "execution_count": 10,
      "outputs": [
        {
          "output_type": "stream",
          "name": "stdout",
          "text": [
            "+---+----+-----------------+\n",
            "|Min| Max|             Mean|\n",
            "+---+----+-----------------+\n",
            "|  1|1247|9.896902654867256|\n",
            "+---+----+-----------------+\n",
            "\n"
          ]
        }
      ]
    },
    {
      "cell_type": "markdown",
      "source": [
        "And the same for users on the nomadlist"
      ],
      "metadata": {
        "id": "hyOfY7SeR-sH"
      }
    },
    {
      "cell_type": "code",
      "source": [
        "# Calculating summary statistics for trips per username\n",
        "username_stats = df.groupBy(\"username\").agg(count(\"*\").alias(\"count\"))\n",
        "username_stats.select(min(\"count\").alias(\"Min\"), max(\"count\").alias(\"Max\"), mean(\"count\").alias(\"Mean\")).show()"
      ],
      "metadata": {
        "colab": {
          "base_uri": "https://localhost:8080/"
        },
        "id": "7TS-ycif250t",
        "outputId": "05d721ca-ef18-4564-ef82-ee8ba01348c1"
      },
      "execution_count": 11,
      "outputs": [
        {
          "output_type": "stream",
          "name": "stdout",
          "text": [
            "+---+---+------------------+\n",
            "|Min|Max|              Mean|\n",
            "+---+---+------------------+\n",
            "|  1|835|15.630328441649196|\n",
            "+---+---+------------------+\n",
            "\n"
          ]
        }
      ]
    },
    {
      "cell_type": "markdown",
      "source": [
        "The code block` \"# Show the top 10 countries, places, and usernames\"` displays the top 10 countries, places, and usernames with the most number of trips. The code orders the data based on the number of trips in descending order and then shows the top 10 entries. The truncate=False option is used to display all the data without truncating it."
      ],
      "metadata": {
        "id": "K7yD0FxjS_yf"
      }
    },
    {
      "cell_type": "code",
      "source": [
        "# Show the top 10 countries, places, and usernames\n",
        "print(\"Top 10 countries:\")\n",
        "country_stats.orderBy(F.desc(\"count\")).show(10, truncate=False)\n",
        "print(\"Top 10 places:\")\n",
        "place_stats.orderBy(F.desc(\"count\")).show(10, truncate=False)\n",
        "print(\"Top 10 usernames:\")\n",
        "username_stats.orderBy(F.desc(\"count\")).show(10, truncate=False)"
      ],
      "metadata": {
        "colab": {
          "base_uri": "https://localhost:8080/"
        },
        "id": "Tr2pIxWw29qV",
        "outputId": "a2ee1b76-dce2-4a4a-a83f-f511592dbb04"
      },
      "execution_count": 12,
      "outputs": [
        {
          "output_type": "stream",
          "name": "stdout",
          "text": [
            "Top 10 countries:\n",
            "+--------------+-----+\n",
            "|country       |count|\n",
            "+--------------+-----+\n",
            "|United States |7337 |\n",
            "|Thailand      |3305 |\n",
            "|United Kingdom|2135 |\n",
            "|Spain         |1927 |\n",
            "|Germany       |1907 |\n",
            "|France        |1448 |\n",
            "|Indonesia     |1322 |\n",
            "|China         |1091 |\n",
            "|Italy         |1061 |\n",
            "|Netherlands   |1046 |\n",
            "+--------------+-----+\n",
            "only showing top 10 rows\n",
            "\n",
            "Top 10 places:\n",
            "+-------------+-----+\n",
            "|place        |count|\n",
            "+-------------+-----+\n",
            "|Bangkok      |1247 |\n",
            "|London       |1224 |\n",
            "|Chiang Mai   |905  |\n",
            "|New York City|902  |\n",
            "|Berlin       |851  |\n",
            "|San Francisco|808  |\n",
            "|Paris        |707  |\n",
            "|Amsterdam    |703  |\n",
            "|Barcelona    |644  |\n",
            "|Kuala Lumpur |544  |\n",
            "+-------------+-----+\n",
            "only showing top 10 rows\n",
            "\n",
            "Top 10 usernames:\n",
            "+------------+-----+\n",
            "|username    |count|\n",
            "+------------+-----+\n",
            "|@scottbrills|835  |\n",
            "|@adamnowek  |548  |\n",
            "|@replay     |297  |\n",
            "|@raoul      |233  |\n",
            "|@tkrunning  |233  |\n",
            "|@levelsio   |215  |\n",
            "|@mv         |200  |\n",
            "|@iamfledge  |187  |\n",
            "|@jackveiga  |186  |\n",
            "|@kumi       |183  |\n",
            "+------------+-----+\n",
            "only showing top 10 rows\n",
            "\n"
          ]
        }
      ]
    },
    {
      "cell_type": "markdown",
      "source": [
        "And here, we instead display the bottom 10 countries, places, and usernames with the least number of trips. It arranges the data based on the number of trips in increasing order and then shows the top 10 entries. The truncate=False option means that all the data will be displayed without being cut off."
      ],
      "metadata": {
        "id": "kX3gYHOcTrEn"
      }
    },
    {
      "cell_type": "code",
      "source": [
        "# Show the bottom 10 countries, places, and usernames\n",
        "print(\"Bottom 10 countries:\")\n",
        "country_stats.orderBy(F.asc(\"count\")).show(10, truncate=False)\n",
        "print(\"Bottom 10 places:\")\n",
        "place_stats.orderBy(F.asc(\"count\")).show(10, truncate=False)\n",
        "print(\"Bottom 10 usernames:\")\n",
        "username_stats.orderBy(F.asc(\"count\")).show(10, truncate=False)"
      ],
      "metadata": {
        "colab": {
          "base_uri": "https://localhost:8080/"
        },
        "id": "qR_TLxva3afG",
        "outputId": "1bca56e6-8126-404a-9f1c-76a871ddfdc3"
      },
      "execution_count": 13,
      "outputs": [
        {
          "output_type": "stream",
          "name": "stdout",
          "text": [
            "Bottom 10 countries:\n",
            "+-----------------+-----+\n",
            "|country          |count|\n",
            "+-----------------+-----+\n",
            "|Prishtina        |1    |\n",
            "|Lower Subansiri  |1    |\n",
            "|Europe           |1    |\n",
            "|Chad             |1    |\n",
            "|Palau            |1    |\n",
            "|Bethlehem        |1    |\n",
            "|Finnland         |1    |\n",
            "|Pristina District|1    |\n",
            "|Abkhazia         |1    |\n",
            "|11000            |1    |\n",
            "+-----------------+-----+\n",
            "only showing top 10 rows\n",
            "\n",
            "Bottom 10 places:\n",
            "+----------------------------------+-----+\n",
            "|place                             |count|\n",
            "+----------------------------------+-----+\n",
            "|Hargeisa                          |1    |\n",
            "|Sant Llorenç de Morunys           |1    |\n",
            "|Hanover                           |1    |\n",
            "|Magdeburg                         |1    |\n",
            "|Seogwipo-si                       |1    |\n",
            "|Nukus                             |1    |\n",
            "|Carbost                           |1    |\n",
            "|Canyon de Chelly National Monument|1    |\n",
            "|Songpan                           |1    |\n",
            "|Banlung                           |1    |\n",
            "+----------------------------------+-----+\n",
            "only showing top 10 rows\n",
            "\n",
            "Bottom 10 usernames:\n",
            "+------------+-----+\n",
            "|username    |count|\n",
            "+------------+-----+\n",
            "|@acallaghan |1    |\n",
            "|@tijmensmit |1    |\n",
            "|@sejogacara |1    |\n",
            "|@jdcastle4  |1    |\n",
            "|@lionisis   |1    |\n",
            "|@officialtob|1    |\n",
            "|@ompemi     |1    |\n",
            "|@eimantas   |1    |\n",
            "|@stephane   |1    |\n",
            "|@arsie      |1    |\n",
            "+------------+-----+\n",
            "only showing top 10 rows\n",
            "\n"
          ]
        }
      ]
    },
    {
      "cell_type": "code",
      "source": [
        "# Step 5: Visualize the data\n",
        "# Import the necessary libraries\n",
        "import matplotlib.pyplot as plt"
      ],
      "metadata": {
        "id": "lX2tRhi2LsAg"
      },
      "execution_count": 121,
      "outputs": []
    },
    {
      "cell_type": "code",
      "source": [
        "# Set the figure size\n",
        "plt.figure(figsize=(15,5))"
      ],
      "metadata": {
        "colab": {
          "base_uri": "https://localhost:8080/",
          "height": 53
        },
        "id": "XsYWF5q9JQsD",
        "outputId": "9e7aaa8a-6cae-4215-90ab-b872c5e1b7b5"
      },
      "execution_count": 122,
      "outputs": [
        {
          "output_type": "execute_result",
          "data": {
            "text/plain": [
              "<Figure size 1500x500 with 0 Axes>"
            ]
          },
          "metadata": {},
          "execution_count": 122
        },
        {
          "output_type": "display_data",
          "data": {
            "text/plain": [
              "<Figure size 1500x500 with 0 Axes>"
            ]
          },
          "metadata": {}
        }
      ]
    },
    {
      "cell_type": "code",
      "source": [
        "# Group the data by place and count the number of trips in each group\n",
        "trips_by_place = df.groupBy(\"place\").agg(count(\"*\").alias(\"count\"))"
      ],
      "metadata": {
        "id": "W7tQnseAJSML"
      },
      "execution_count": 123,
      "outputs": []
    },
    {
      "cell_type": "code",
      "source": [
        "# Select the top 10 most visited places\n",
        "top_places = trips_by_place.orderBy(F.desc(\"count\")).limit(10)"
      ],
      "metadata": {
        "id": "YrfUJyWWJTrk"
      },
      "execution_count": 124,
      "outputs": []
    },
    {
      "cell_type": "code",
      "source": [
        "# Convert the data to a Pandas dataframe and plot a bar chart\n",
        "top_places.toPandas().plot(kind=\"bar\", x=\"place\", y=\"count\")\n",
        "plt.title(\"Top 10 Most Visited Places\")\n",
        "plt.xlabel(\"Place\")\n",
        "plt.ylabel(\"Number of Trips\")"
      ],
      "metadata": {
        "colab": {
          "base_uri": "https://localhost:8080/",
          "height": 571
        },
        "id": "DVBpXU1BJVAL",
        "outputId": "e84b6cac-6963-40d4-f084-3f6dc843bab8"
      },
      "execution_count": 125,
      "outputs": [
        {
          "output_type": "execute_result",
          "data": {
            "text/plain": [
              "Text(0, 0.5, 'Number of Trips')"
            ]
          },
          "metadata": {},
          "execution_count": 125
        },
        {
          "output_type": "display_data",
          "data": {
            "text/plain": [
              "<Figure size 640x480 with 1 Axes>"
            ],
            "image/png": "[encoded data removed]"
          },
          "metadata": {}
        }
      ]
    },
    {
      "cell_type": "code",
      "source": [
        "# Set the figure size\n",
        "plt.figure(figsize=(15,5))"
      ],
      "metadata": {
        "colab": {
          "base_uri": "https://localhost:8080/",
          "height": 53
        },
        "id": "GUpsrQfLJXnT",
        "outputId": "1bbee937-e67f-4f88-d7e8-6767427d353f"
      },
      "execution_count": 126,
      "outputs": [
        {
          "output_type": "execute_result",
          "data": {
            "text/plain": [
              "<Figure size 1500x500 with 0 Axes>"
            ]
          },
          "metadata": {},
          "execution_count": 126
        },
        {
          "output_type": "display_data",
          "data": {
            "text/plain": [
              "<Figure size 1500x500 with 0 Axes>"
            ]
          },
          "metadata": {}
        }
      ]
    },
    {
      "cell_type": "code",
      "source": [
        "# Group the data by username and count the number of trips in each group\n",
        "trips_by_username = df.groupBy(\"username\").agg(count(\"*\").alias(\"count\"))"
      ],
      "metadata": {
        "id": "Hd6cgYmCJZKb"
      },
      "execution_count": 127,
      "outputs": []
    },
    {
      "cell_type": "code",
      "source": [
        "# Select the top 10 most visited usernames\n",
        "top_usernames = trips_by_username.orderBy(F.desc(\"count\")).limit(10)"
      ],
      "metadata": {
        "id": "8PaHbGwPJatr"
      },
      "execution_count": 128,
      "outputs": []
    },
    {
      "cell_type": "code",
      "source": [
        "# Convert the data to a Pandas dataframe and plot a bar chart\n",
        "top_usernames.toPandas().plot(kind=\"bar\", x=\"username\", y=\"count\")\n",
        "plt.title(\"Top 10 Most Visited Usernames\")\n",
        "plt.xlabel(\"Username\")\n",
        "plt.ylabel(\"Number of Trips\")"
      ],
      "metadata": {
        "colab": {
          "base_uri": "https://localhost:8080/",
          "height": 574
        },
        "id": "tAKzUyztJcP8",
        "outputId": "22834d43-204d-44e4-c596-f6af3ebe3f44"
      },
      "execution_count": 129,
      "outputs": [
        {
          "output_type": "execute_result",
          "data": {
            "text/plain": [
              "Text(0, 0.5, 'Number of Trips')"
            ]
          },
          "metadata": {},
          "execution_count": 129
        },
        {
          "output_type": "display_data",
          "data": {
            "text/plain": [
              "<Figure size 640x480 with 1 Axes>"
            ],
            "image/png": "[encoded data removed]"
          },
          "metadata": {}
        }
      ]
    },
    {
      "cell_type": "code",
      "source": [
        "# Set the figure size\n",
        "plt.figure(figsize=(15,5))"
      ],
      "metadata": {
        "colab": {
          "base_uri": "https://localhost:8080/",
          "height": 53
        },
        "id": "asdOthR8Jfa_",
        "outputId": "b71d822e-496c-42a5-ab9c-b2785581893a"
      },
      "execution_count": 130,
      "outputs": [
        {
          "output_type": "execute_result",
          "data": {
            "text/plain": [
              "<Figure size 1500x500 with 0 Axes>"
            ]
          },
          "metadata": {},
          "execution_count": 130
        },
        {
          "output_type": "display_data",
          "data": {
            "text/plain": [
              "<Figure size 1500x500 with 0 Axes>"
            ]
          },
          "metadata": {}
        }
      ]
    },
    {
      "cell_type": "code",
      "source": [
        "# Group the data by country and count the number of trips in each group\n",
        "trips_by_country = df.groupBy(\"country\").agg(count(\"*\").alias(\"count\"))"
      ],
      "metadata": {
        "id": "Fz_zkkOOJgw0"
      },
      "execution_count": 131,
      "outputs": []
    },
    {
      "cell_type": "code",
      "source": [
        "# Select the top 10 most visited countries\n",
        "top_countries = trips_by_country.orderBy(F.desc(\"count\")).limit(10)"
      ],
      "metadata": {
        "id": "xaQZKOwlJitU"
      },
      "execution_count": 132,
      "outputs": []
    },
    {
      "cell_type": "code",
      "source": [
        "# Convert the data to a Pandas dataframe and plot a bar chart\n",
        "top_countries.toPandas().plot(kind=\"bar\", x=\"country\", y=\"count\")\n",
        "plt.title(\"Top 10 Most Visited Countries\")\n",
        "plt.xlabel(\"Country\")\n",
        "plt.ylabel(\"Number of Trips\")"
      ],
      "metadata": {
        "colab": {
          "base_uri": "https://localhost:8080/",
          "height": 587
        },
        "id": "baVsxdd8Jkc0",
        "outputId": "d742df15-cdd8-464d-feb4-d8d8a2e7fabc"
      },
      "execution_count": 133,
      "outputs": [
        {
          "output_type": "execute_result",
          "data": {
            "text/plain": [
              "Text(0, 0.5, 'Number of Trips')"
            ]
          },
          "metadata": {},
          "execution_count": 133
        },
        {
          "output_type": "display_data",
          "data": {
            "text/plain": [
              "<Figure size 640x480 with 1 Axes>"
            ],
            "image/png": "[encoded data removed]"
          },
          "metadata": {}
        }
      ]
    }
  ]
}