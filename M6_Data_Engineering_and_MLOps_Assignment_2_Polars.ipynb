{
  "nbformat": 4,
  "nbformat_minor": 0,
  "metadata": {
    "colab": {
      "provenance": [],
      "include_colab_link": true
    },
    "kernelspec": {
      "name": "python3",
      "display_name": "Python 3"
    },
    "language_info": {
      "name": "python"
    }
  },
  "cells": [
    {
      "cell_type": "markdown",
      "metadata": {
        "id": "view-in-github",
        "colab_type": "text"
      },
      "source": [
        "<a href=\"https://colab.research.google.com/github/Kasper-Raupach-Haurum/M6-Data-Engineering-and-MLOps/blob/main/M6_Data_Engineering_and_MLOps_Assignment_2_Polars.ipynb\" target=\"_parent\"><img src=\"https://colab.research.google.com/assets/colab-badge.svg\" alt=\"Open In Colab\"/></a>"
      ]
    },
    {
      "cell_type": "markdown",
      "source": [
        "### **Step 1 - Checking the dimensions of the dataset, examining the data types, and identifying missing values.**"
      ],
      "metadata": {
        "id": "s9Fvty61S9BY"
      }
    },
    {
      "cell_type": "code",
      "source": [
        "!pip install polars --q"
      ],
      "metadata": {
        "id": "fgYjZH5BR_mP"
      },
      "execution_count": null,
      "outputs": []
    },
    {
      "cell_type": "code",
      "source": [
        "import pandas as pd\n",
        "\n",
        "dfhr = pd.read_csv(\"/content/general_data.csv\", encoding=\"ISO-8859-1\")\n",
        "dfhr.to_csv('general_data.csv', index=False)"
      ],
      "metadata": {
        "id": "Ap2tkVZCSWIe"
      },
      "execution_count": null,
      "outputs": []
    },
    {
      "cell_type": "code",
      "source": [
        "import polars as pl\n",
        "\n",
        "hrDF = pl.read_csv(\"/content/general_data.csv\")\n",
        "hrDF.head(5)"
      ],
      "metadata": {
        "colab": {
          "base_uri": "https://localhost:8080/",
          "height": 361
        },
        "id": "GmiwXvaNG0_s",
        "outputId": "e45a7422-2b34-45a7-f15c-f00579e806f2"
      },
      "execution_count": null,
      "outputs": [
        {
          "output_type": "execute_result",
          "data": {
            "text/plain": [
              "shape: (5, 24)\n",
              "┌─────┬───────────┬────────────┬──────────┬───┬────────────┬────────────┬────────────┬────────────┐\n",
              "│ Age ┆ Attrition ┆ BusinessTr ┆ Departme ┆ … ┆ TrainingTi ┆ YearsAtCom ┆ YearsSince ┆ YearsWithC │\n",
              "│ --- ┆ ---       ┆ avel       ┆ nt       ┆   ┆ mesLastYea ┆ pany       ┆ LastPromot ┆ urrManager │\n",
              "│ i64 ┆ str       ┆ ---        ┆ ---      ┆   ┆ r          ┆ ---        ┆ ion        ┆ ---        │\n",
              "│     ┆           ┆ str        ┆ str      ┆   ┆ ---        ┆ i64        ┆ ---        ┆ i64        │\n",
              "│     ┆           ┆            ┆          ┆   ┆ i64        ┆            ┆ i64        ┆            │\n",
              "╞═════╪═══════════╪════════════╪══════════╪═══╪════════════╪════════════╪════════════╪════════════╡\n",
              "│ 51  ┆ No        ┆ Travel_Rar ┆ Sales    ┆ … ┆ 6          ┆ 1          ┆ 0          ┆ 0          │\n",
              "│     ┆           ┆ ely        ┆          ┆   ┆            ┆            ┆            ┆            │\n",
              "│ 31  ┆ Yes       ┆ Travel_Fre ┆ Research ┆ … ┆ 3          ┆ 5          ┆ 1          ┆ 4          │\n",
              "│     ┆           ┆ quently    ┆ & Develo ┆   ┆            ┆            ┆            ┆            │\n",
              "│     ┆           ┆            ┆ pment    ┆   ┆            ┆            ┆            ┆            │\n",
              "│ 32  ┆ No        ┆ Travel_Fre ┆ Research ┆ … ┆ 2          ┆ 5          ┆ 0          ┆ 3          │\n",
              "│     ┆           ┆ quently    ┆ & Develo ┆   ┆            ┆            ┆            ┆            │\n",
              "│     ┆           ┆            ┆ pment    ┆   ┆            ┆            ┆            ┆            │\n",
              "│ 38  ┆ No        ┆ Non-Travel ┆ Research ┆ … ┆ 5          ┆ 8          ┆ 7          ┆ 5          │\n",
              "│     ┆           ┆            ┆ & Develo ┆   ┆            ┆            ┆            ┆            │\n",
              "│     ┆           ┆            ┆ pment    ┆   ┆            ┆            ┆            ┆            │\n",
              "│ 32  ┆ No        ┆ Travel_Rar ┆ Research ┆ … ┆ 2          ┆ 6          ┆ 0          ┆ 4          │\n",
              "│     ┆           ┆ ely        ┆ & Develo ┆   ┆            ┆            ┆            ┆            │\n",
              "│     ┆           ┆            ┆ pment    ┆   ┆            ┆            ┆            ┆            │\n",
              "└─────┴───────────┴────────────┴──────────┴───┴────────────┴────────────┴────────────┴────────────┘"
            ],
            "text/html": [
              "<div><style>\n",
              ".dataframe > thead > tr > th,\n",
              ".dataframe > tbody > tr > td {\n",
              "  text-align: right;\n",
              "}\n",
              "</style>\n",
              "<small>shape: (5, 24)</small><table border=\"1\" class=\"dataframe\"><thead><tr><th>Age</th><th>Attrition</th><th>BusinessTravel</th><th>Department</th><th>DistanceFromHome</th><th>Education</th><th>EducationField</th><th>EmployeeCount</th><th>EmployeeID</th><th>Gender</th><th>JobLevel</th><th>JobRole</th><th>MaritalStatus</th><th>MonthlyIncome</th><th>NumCompaniesWorked</th><th>Over18</th><th>PercentSalaryHike</th><th>StandardHours</th><th>StockOptionLevel</th><th>TotalWorkingYears</th><th>TrainingTimesLastYear</th><th>YearsAtCompany</th><th>YearsSinceLastPromotion</th><th>YearsWithCurrManager</th></tr><tr><td>i64</td><td>str</td><td>str</td><td>str</td><td>i64</td><td>i64</td><td>str</td><td>i64</td><td>i64</td><td>str</td><td>i64</td><td>str</td><td>str</td><td>i64</td><td>f64</td><td>str</td><td>i64</td><td>i64</td><td>i64</td><td>f64</td><td>i64</td><td>i64</td><td>i64</td><td>i64</td></tr></thead><tbody><tr><td>51</td><td>&quot;No&quot;</td><td>&quot;Travel_Rarely&quot;</td><td>&quot;Sales&quot;</td><td>6</td><td>2</td><td>&quot;Life Sciences&quot;</td><td>1</td><td>1</td><td>&quot;Female&quot;</td><td>1</td><td>&quot;Healthcare Rep…</td><td>&quot;Married&quot;</td><td>131160</td><td>1.0</td><td>&quot;Y&quot;</td><td>11</td><td>8</td><td>0</td><td>1.0</td><td>6</td><td>1</td><td>0</td><td>0</td></tr><tr><td>31</td><td>&quot;Yes&quot;</td><td>&quot;Travel_Frequen…</td><td>&quot;Research &amp; Dev…</td><td>10</td><td>1</td><td>&quot;Life Sciences&quot;</td><td>1</td><td>2</td><td>&quot;Female&quot;</td><td>1</td><td>&quot;Research Scien…</td><td>&quot;Single&quot;</td><td>41890</td><td>0.0</td><td>&quot;Y&quot;</td><td>23</td><td>8</td><td>1</td><td>6.0</td><td>3</td><td>5</td><td>1</td><td>4</td></tr><tr><td>32</td><td>&quot;No&quot;</td><td>&quot;Travel_Frequen…</td><td>&quot;Research &amp; Dev…</td><td>17</td><td>4</td><td>&quot;Other&quot;</td><td>1</td><td>3</td><td>&quot;Male&quot;</td><td>4</td><td>&quot;Sales Executiv…</td><td>&quot;Married&quot;</td><td>193280</td><td>1.0</td><td>&quot;Y&quot;</td><td>15</td><td>8</td><td>3</td><td>5.0</td><td>2</td><td>5</td><td>0</td><td>3</td></tr><tr><td>38</td><td>&quot;No&quot;</td><td>&quot;Non-Travel&quot;</td><td>&quot;Research &amp; Dev…</td><td>2</td><td>5</td><td>&quot;Life Sciences&quot;</td><td>1</td><td>4</td><td>&quot;Male&quot;</td><td>3</td><td>&quot;Human Resource…</td><td>&quot;Married&quot;</td><td>83210</td><td>3.0</td><td>&quot;Y&quot;</td><td>11</td><td>8</td><td>3</td><td>13.0</td><td>5</td><td>8</td><td>7</td><td>5</td></tr><tr><td>32</td><td>&quot;No&quot;</td><td>&quot;Travel_Rarely&quot;</td><td>&quot;Research &amp; Dev…</td><td>10</td><td>1</td><td>&quot;Medical&quot;</td><td>1</td><td>5</td><td>&quot;Male&quot;</td><td>1</td><td>&quot;Sales Executiv…</td><td>&quot;Single&quot;</td><td>23420</td><td>4.0</td><td>&quot;Y&quot;</td><td>12</td><td>8</td><td>2</td><td>9.0</td><td>2</td><td>6</td><td>0</td><td>4</td></tr></tbody></table></div>"
            ]
          },
          "metadata": {},
          "execution_count": 3
        }
      ]
    },
    {
      "cell_type": "code",
      "source": [
        "rowCount = hrDF.shape[0]\n",
        "print(\"Total number of rows in the dataset:\", rowCount)"
      ],
      "metadata": {
        "colab": {
          "base_uri": "https://localhost:8080/"
        },
        "id": "62CQ4li0R78O",
        "outputId": "dcc86f08-c93c-47ff-8676-47d1e29feb49"
      },
      "execution_count": null,
      "outputs": [
        {
          "output_type": "stream",
          "name": "stdout",
          "text": [
            "Total number of rows in the dataset: 4410\n"
          ]
        }
      ]
    },
    {
      "cell_type": "code",
      "source": [
        "hrDF.columns"
      ],
      "metadata": {
        "colab": {
          "base_uri": "https://localhost:8080/"
        },
        "id": "pu6xrXkaTaiP",
        "outputId": "dc956cf8-1781-460d-97a6-d224498ff780"
      },
      "execution_count": null,
      "outputs": [
        {
          "output_type": "execute_result",
          "data": {
            "text/plain": [
              "['Age',\n",
              " 'Attrition',\n",
              " 'BusinessTravel',\n",
              " 'Department',\n",
              " 'DistanceFromHome',\n",
              " 'Education',\n",
              " 'EducationField',\n",
              " 'EmployeeCount',\n",
              " 'EmployeeID',\n",
              " 'Gender',\n",
              " 'JobLevel',\n",
              " 'JobRole',\n",
              " 'MaritalStatus',\n",
              " 'MonthlyIncome',\n",
              " 'NumCompaniesWorked',\n",
              " 'Over18',\n",
              " 'PercentSalaryHike',\n",
              " 'StandardHours',\n",
              " 'StockOptionLevel',\n",
              " 'TotalWorkingYears',\n",
              " 'TrainingTimesLastYear',\n",
              " 'YearsAtCompany',\n",
              " 'YearsSinceLastPromotion',\n",
              " 'YearsWithCurrManager']"
            ]
          },
          "metadata": {},
          "execution_count": 5
        }
      ]
    },
    {
      "cell_type": "code",
      "source": [
        "for col in hrDF.get_columns():\n",
        "    print(f'{col.name} - {col.is_null().sum()}')"
      ],
      "metadata": {
        "colab": {
          "base_uri": "https://localhost:8080/"
        },
        "id": "Yo5aX3CiViZ-",
        "outputId": "b962de68-7e2f-4cc2-bcf5-ac281b8e3395"
      },
      "execution_count": null,
      "outputs": [
        {
          "output_type": "stream",
          "name": "stdout",
          "text": [
            "Age - 0\n",
            "Attrition - 0\n",
            "BusinessTravel - 0\n",
            "Department - 0\n",
            "DistanceFromHome - 0\n",
            "Education - 0\n",
            "EducationField - 0\n",
            "EmployeeCount - 0\n",
            "EmployeeID - 0\n",
            "Gender - 0\n",
            "JobLevel - 0\n",
            "JobRole - 0\n",
            "MaritalStatus - 0\n",
            "MonthlyIncome - 0\n",
            "NumCompaniesWorked - 19\n",
            "Over18 - 0\n",
            "PercentSalaryHike - 0\n",
            "StandardHours - 0\n",
            "StockOptionLevel - 0\n",
            "TotalWorkingYears - 9\n",
            "TrainingTimesLastYear - 0\n",
            "YearsAtCompany - 0\n",
            "YearsSinceLastPromotion - 0\n",
            "YearsWithCurrManager - 0\n"
          ]
        }
      ]
    },
    {
      "cell_type": "code",
      "source": [
        "avg_NumCompaniesWorked = hrDF['NumCompaniesWorked'].mean()\n",
        "avg_TotalWorkingYears = hrDF['TotalWorkingYears'].mean()"
      ],
      "metadata": {
        "id": "5WgQ0GmYVrHh"
      },
      "execution_count": null,
      "outputs": []
    },
    {
      "cell_type": "code",
      "source": [
        "# Fill in missing values with the mean values\n",
        "hrDF = hrDF.with_columns(pl.col('NumCompaniesWorked').fill_null(avg_NumCompaniesWorked).alias('NumCompaniesWorked'))\n",
        "hrDF = hrDF.with_columns(pl.col('TotalWorkingYears').fill_null(avg_TotalWorkingYears).alias('TotalWorkingYears'))"
      ],
      "metadata": {
        "id": "LVoSFwU7V5df"
      },
      "execution_count": null,
      "outputs": []
    },
    {
      "cell_type": "code",
      "source": [
        "for col in hrDF.get_columns():\n",
        "    print(f'{col.name} - {col.is_null().sum()}')"
      ],
      "metadata": {
        "id": "KKwdCIZGWQTu",
        "colab": {
          "base_uri": "https://localhost:8080/"
        },
        "outputId": "2aafd80f-456c-4aad-efaa-a3c737e04e88"
      },
      "execution_count": null,
      "outputs": [
        {
          "output_type": "stream",
          "name": "stdout",
          "text": [
            "Age - 0\n",
            "Attrition - 0\n",
            "BusinessTravel - 0\n",
            "Department - 0\n",
            "DistanceFromHome - 0\n",
            "Education - 0\n",
            "EducationField - 0\n",
            "EmployeeCount - 0\n",
            "EmployeeID - 0\n",
            "Gender - 0\n",
            "JobLevel - 0\n",
            "JobRole - 0\n",
            "MaritalStatus - 0\n",
            "MonthlyIncome - 0\n",
            "NumCompaniesWorked - 0\n",
            "Over18 - 0\n",
            "PercentSalaryHike - 0\n",
            "StandardHours - 0\n",
            "StockOptionLevel - 0\n",
            "TotalWorkingYears - 0\n",
            "TrainingTimesLastYear - 0\n",
            "YearsAtCompany - 0\n",
            "YearsSinceLastPromotion - 0\n",
            "YearsWithCurrManager - 0\n"
          ]
        }
      ]
    },
    {
      "cell_type": "code",
      "source": [
        "hrDF.dtypes"
      ],
      "metadata": {
        "id": "jyLRKx83ht3M",
        "colab": {
          "base_uri": "https://localhost:8080/"
        },
        "outputId": "943950bf-042b-4f0c-f694-a4fcd40f2196"
      },
      "execution_count": null,
      "outputs": [
        {
          "output_type": "execute_result",
          "data": {
            "text/plain": [
              "[Int64,\n",
              " Utf8,\n",
              " Utf8,\n",
              " Utf8,\n",
              " Int64,\n",
              " Int64,\n",
              " Utf8,\n",
              " Int64,\n",
              " Int64,\n",
              " Utf8,\n",
              " Int64,\n",
              " Utf8,\n",
              " Utf8,\n",
              " Int64,\n",
              " Float64,\n",
              " Utf8,\n",
              " Int64,\n",
              " Int64,\n",
              " Int64,\n",
              " Float64,\n",
              " Int64,\n",
              " Int64,\n",
              " Int64,\n",
              " Int64]"
            ]
          },
          "metadata": {},
          "execution_count": 12
        }
      ]
    },
    {
      "cell_type": "markdown",
      "source": [
        "### **Step 2 - Filter the data to include only the relevant observations.**"
      ],
      "metadata": {
        "id": "vvwhNM2CkFPO"
      }
    },
    {
      "cell_type": "code",
      "source": [
        "hr_subset = hrDF.select(['Attrition', 'Department', 'NumCompaniesWorked'])\n",
        "print(hr_subset.head())"
      ],
      "metadata": {
        "id": "BXrceF9WkMEv",
        "colab": {
          "base_uri": "https://localhost:8080/"
        },
        "outputId": "6c5a8cfb-20dc-442b-c1ba-589fbeca6cfe"
      },
      "execution_count": null,
      "outputs": [
        {
          "output_type": "stream",
          "name": "stdout",
          "text": [
            "shape: (5, 3)\n",
            "┌───────────┬────────────────────────┬────────────────────┐\n",
            "│ Attrition ┆ Department             ┆ NumCompaniesWorked │\n",
            "│ ---       ┆ ---                    ┆ ---                │\n",
            "│ str       ┆ str                    ┆ f64                │\n",
            "╞═══════════╪════════════════════════╪════════════════════╡\n",
            "│ No        ┆ Sales                  ┆ 1.0                │\n",
            "│ Yes       ┆ Research & Development ┆ 0.0                │\n",
            "│ No        ┆ Research & Development ┆ 1.0                │\n",
            "│ No        ┆ Research & Development ┆ 3.0                │\n",
            "│ No        ┆ Research & Development ┆ 4.0                │\n",
            "└───────────┴────────────────────────┴────────────────────┘\n"
          ]
        }
      ]
    },
    {
      "cell_type": "code",
      "source": [
        "avg_NumCompaniesWorked = hr_subset['NumCompaniesWorked'].mean()"
      ],
      "metadata": {
        "id": "FeiujVXTt_4G"
      },
      "execution_count": null,
      "outputs": []
    },
    {
      "cell_type": "code",
      "source": [
        "# Fill in missing values with the mean values\n",
        "hr_subset = hr_subset.with_columns(pl.col('NumCompaniesWorked').fill_null(avg_NumCompaniesWorked).alias('NumCompaniesWorked'))"
      ],
      "metadata": {
        "id": "Uhfsu90AkMBN"
      },
      "execution_count": null,
      "outputs": []
    },
    {
      "cell_type": "code",
      "source": [
        "for col in hr_subset.get_columns():\n",
        "    print(f'{col.name} - {col.is_null().sum()}')"
      ],
      "metadata": {
        "id": "1QLTcSJ0kL-C",
        "colab": {
          "base_uri": "https://localhost:8080/"
        },
        "outputId": "2de300af-cbed-4241-abdc-2e17c00b54f9"
      },
      "execution_count": null,
      "outputs": [
        {
          "output_type": "stream",
          "name": "stdout",
          "text": [
            "Attrition - 0\n",
            "Department - 0\n",
            "NumCompaniesWorked - 0\n"
          ]
        }
      ]
    },
    {
      "cell_type": "code",
      "source": [
        "Without_Attrition = hr_subset.filter(pl.col('Attrition') == 'No')\n",
        "print(Without_Attrition.head())"
      ],
      "metadata": {
        "id": "wtZStTTIkL6l",
        "colab": {
          "base_uri": "https://localhost:8080/"
        },
        "outputId": "08a6a171-21c8-49de-df45-4286479e8985"
      },
      "execution_count": null,
      "outputs": [
        {
          "output_type": "stream",
          "name": "stdout",
          "text": [
            "shape: (5, 3)\n",
            "┌───────────┬────────────────────────┬────────────────────┐\n",
            "│ Attrition ┆ Department             ┆ NumCompaniesWorked │\n",
            "│ ---       ┆ ---                    ┆ ---                │\n",
            "│ str       ┆ str                    ┆ f64                │\n",
            "╞═══════════╪════════════════════════╪════════════════════╡\n",
            "│ No        ┆ Sales                  ┆ 1.0                │\n",
            "│ No        ┆ Research & Development ┆ 1.0                │\n",
            "│ No        ┆ Research & Development ┆ 3.0                │\n",
            "│ No        ┆ Research & Development ┆ 4.0                │\n",
            "│ No        ┆ Research & Development ┆ 3.0                │\n",
            "└───────────┴────────────────────────┴────────────────────┘\n"
          ]
        }
      ]
    },
    {
      "cell_type": "code",
      "source": [
        "With_Attrition = hr_subset.filter(pl.col('Attrition') == 'Yes')\n",
        "print(With_Attrition.head())"
      ],
      "metadata": {
        "id": "uSBFsHGzkL3l",
        "colab": {
          "base_uri": "https://localhost:8080/"
        },
        "outputId": "8429ab1b-e89b-4bf6-d426-9a9d16b7619a"
      },
      "execution_count": null,
      "outputs": [
        {
          "output_type": "stream",
          "name": "stdout",
          "text": [
            "shape: (5, 3)\n",
            "┌───────────┬────────────────────────┬────────────────────┐\n",
            "│ Attrition ┆ Department             ┆ NumCompaniesWorked │\n",
            "│ ---       ┆ ---                    ┆ ---                │\n",
            "│ str       ┆ str                    ┆ f64                │\n",
            "╞═══════════╪════════════════════════╪════════════════════╡\n",
            "│ Yes       ┆ Research & Development ┆ 0.0                │\n",
            "│ Yes       ┆ Research & Development ┆ 2.0                │\n",
            "│ Yes       ┆ Research & Development ┆ 1.0                │\n",
            "│ Yes       ┆ Research & Development ┆ 3.0                │\n",
            "│ Yes       ┆ Research & Development ┆ 2.0                │\n",
            "└───────────┴────────────────────────┴────────────────────┘\n"
          ]
        }
      ]
    },
    {
      "cell_type": "markdown",
      "source": [
        "### **Step 3 - Aggregate the data to obtain summary statistics or metrics.**"
      ],
      "metadata": {
        "id": "TJKkJhnXwlFr"
      }
    },
    {
      "cell_type": "code",
      "source": [
        "uniqueDepartment = hr_subset['Department'].n_unique()\n",
        "print(\"Number of unique values in the 'Department' column:\", uniqueDepartment)"
      ],
      "metadata": {
        "id": "jDNFtLu6kL0o",
        "colab": {
          "base_uri": "https://localhost:8080/"
        },
        "outputId": "8f4b9917-f81e-4a79-a1c6-af053f078ff9"
      },
      "execution_count": null,
      "outputs": [
        {
          "output_type": "stream",
          "name": "stdout",
          "text": [
            "Number of unique values in the 'Department' column: 3\n"
          ]
        }
      ]
    },
    {
      "cell_type": "code",
      "source": [
        "avg_experience_by_Dept = hr_subset.groupby('Department').mean()\n",
        "avg_experience_by_Dept['NumCompaniesWorked']"
      ],
      "metadata": {
        "id": "7_lOG1VYkLxG",
        "colab": {
          "base_uri": "https://localhost:8080/",
          "height": 192
        },
        "outputId": "ead83679-88f1-4adb-cc94-8b29ed861142"
      },
      "execution_count": null,
      "outputs": [
        {
          "output_type": "execute_result",
          "data": {
            "text/plain": [
              "shape: (3,)\n",
              "Series: 'NumCompaniesWorked' [f64]\n",
              "[\n",
              "\t2.585328\n",
              "\t2.040713\n",
              "\t2.788532\n",
              "]"
            ],
            "text/html": [
              "<div><style>\n",
              ".dataframe > thead > tr > th,\n",
              ".dataframe > tbody > tr > td {\n",
              "  text-align: right;\n",
              "}\n",
              "</style>\n",
              "<small>shape: (3,)</small><table border=\"1\" class=\"dataframe\"><thead><tr><th>NumCompaniesWorked</th></tr><tr><td>f64</td></tr></thead><tbody><tr><td>2.585328</td></tr><tr><td>2.040713</td></tr><tr><td>2.788532</td></tr></tbody></table></div>"
            ]
          },
          "metadata": {},
          "execution_count": 21
        }
      ]
    },
    {
      "cell_type": "code",
      "source": [
        "Exp_range_by_season = hr_subset.groupby('Department').agg([pl.col('NumCompaniesWorked').min().alias('Experience_min'), pl.col('NumCompaniesWorked').max().alias('Experience_max')])\n",
        "Exp_range_by_season\n"
      ],
      "metadata": {
        "id": "ihNakqg-zpGV",
        "colab": {
          "base_uri": "https://localhost:8080/",
          "height": 192
        },
        "outputId": "a2c1f0bf-7d7f-41a0-9a43-dcdc46e74016"
      },
      "execution_count": null,
      "outputs": [
        {
          "output_type": "execute_result",
          "data": {
            "text/plain": [
              "shape: (3, 3)\n",
              "┌────────────────────────┬────────────────┬────────────────┐\n",
              "│ Department             ┆ Experience_min ┆ Experience_max │\n",
              "│ ---                    ┆ ---            ┆ ---            │\n",
              "│ str                    ┆ f64            ┆ f64            │\n",
              "╞════════════════════════╪════════════════╪════════════════╡\n",
              "│ Human Resources        ┆ 0.0            ┆ 8.0            │\n",
              "│ Sales                  ┆ 0.0            ┆ 9.0            │\n",
              "│ Research & Development ┆ 0.0            ┆ 9.0            │\n",
              "└────────────────────────┴────────────────┴────────────────┘"
            ],
            "text/html": [
              "<div><style>\n",
              ".dataframe > thead > tr > th,\n",
              ".dataframe > tbody > tr > td {\n",
              "  text-align: right;\n",
              "}\n",
              "</style>\n",
              "<small>shape: (3, 3)</small><table border=\"1\" class=\"dataframe\"><thead><tr><th>Department</th><th>Experience_min</th><th>Experience_max</th></tr><tr><td>str</td><td>f64</td><td>f64</td></tr></thead><tbody><tr><td>&quot;Human Resource…</td><td>0.0</td><td>8.0</td></tr><tr><td>&quot;Sales&quot;</td><td>0.0</td><td>9.0</td></tr><tr><td>&quot;Research &amp; Dev…</td><td>0.0</td><td>9.0</td></tr></tbody></table></div>"
            ]
          },
          "metadata": {},
          "execution_count": 22
        }
      ]
    },
    {
      "cell_type": "code",
      "source": [
        "avgExperiancePerAttrition = hr_subset.groupby('Attrition').agg(pl.col('NumCompaniesWorked').mean())\n",
        "avgExperiancePerAttrition"
      ],
      "metadata": {
        "id": "9_GlX7CFDtb9",
        "colab": {
          "base_uri": "https://localhost:8080/",
          "height": 161
        },
        "outputId": "e5b158ad-3d93-43c5-97c4-eb0a4e596bf0"
      },
      "execution_count": null,
      "outputs": [
        {
          "output_type": "execute_result",
          "data": {
            "text/plain": [
              "shape: (2, 2)\n",
              "┌───────────┬────────────────────┐\n",
              "│ Attrition ┆ NumCompaniesWorked │\n",
              "│ ---       ┆ ---                │\n",
              "│ str       ┆ f64                │\n",
              "╞═══════════╪════════════════════╡\n",
              "│ No        ┆ 2.648668           │\n",
              "│ Yes       ┆ 2.934992           │\n",
              "└───────────┴────────────────────┘"
            ],
            "text/html": [
              "<div><style>\n",
              ".dataframe > thead > tr > th,\n",
              ".dataframe > tbody > tr > td {\n",
              "  text-align: right;\n",
              "}\n",
              "</style>\n",
              "<small>shape: (2, 2)</small><table border=\"1\" class=\"dataframe\"><thead><tr><th>Attrition</th><th>NumCompaniesWorked</th></tr><tr><td>str</td><td>f64</td></tr></thead><tbody><tr><td>&quot;No&quot;</td><td>2.648668</td></tr><tr><td>&quot;Yes&quot;</td><td>2.934992</td></tr></tbody></table></div>"
            ]
          },
          "metadata": {},
          "execution_count": 23
        }
      ]
    },
    {
      "cell_type": "code",
      "source": [
        "Gender_Wise_Income = hrDF.groupby('Gender').agg(pl.col('MonthlyIncome').mean())\n",
        "Gender_Wise_Income"
      ],
      "metadata": {
        "id": "jQMijHakkLop",
        "colab": {
          "base_uri": "https://localhost:8080/",
          "height": 161
        },
        "outputId": "5d2fb15f-922b-4190-d561-adbe6b7e3703"
      },
      "execution_count": null,
      "outputs": [
        {
          "output_type": "execute_result",
          "data": {
            "text/plain": [
              "shape: (2, 2)\n",
              "┌────────┬───────────────┐\n",
              "│ Gender ┆ MonthlyIncome │\n",
              "│ ---    ┆ ---           │\n",
              "│ str    ┆ f64           │\n",
              "╞════════╪═══════════════╡\n",
              "│ Female ┆ 64595.255102  │\n",
              "│ Male   ┆ 65318.684807  │\n",
              "└────────┴───────────────┘"
            ],
            "text/html": [
              "<div><style>\n",
              ".dataframe > thead > tr > th,\n",
              ".dataframe > tbody > tr > td {\n",
              "  text-align: right;\n",
              "}\n",
              "</style>\n",
              "<small>shape: (2, 2)</small><table border=\"1\" class=\"dataframe\"><thead><tr><th>Gender</th><th>MonthlyIncome</th></tr><tr><td>str</td><td>f64</td></tr></thead><tbody><tr><td>&quot;Female&quot;</td><td>64595.255102</td></tr><tr><td>&quot;Male&quot;</td><td>65318.684807</td></tr></tbody></table></div>"
            ]
          },
          "metadata": {},
          "execution_count": 24
        }
      ]
    },
    {
      "cell_type": "code",
      "source": [
        "avgIncomebyEducationField = hrDF.groupby('EducationField').agg(pl.col('MonthlyIncome').mean())\n",
        "avgIncomebyEducationField"
      ],
      "metadata": {
        "id": "_OGIv_CiCnme",
        "colab": {
          "base_uri": "https://localhost:8080/",
          "height": 286
        },
        "outputId": "b34ea6bb-57c4-488f-928e-8a89e1e39e04"
      },
      "execution_count": null,
      "outputs": [
        {
          "output_type": "execute_result",
          "data": {
            "text/plain": [
              "shape: (6, 2)\n",
              "┌──────────────────┬───────────────┐\n",
              "│ EducationField   ┆ MonthlyIncome │\n",
              "│ ---              ┆ ---           │\n",
              "│ str              ┆ f64           │\n",
              "╞══════════════════╪═══════════════╡\n",
              "│ Medical          ┆ 67096.724138  │\n",
              "│ Technical Degree ┆ 64171.666667  │\n",
              "│ Life Sciences    ┆ 65311.831683  │\n",
              "│ Marketing        ┆ 59030.880503  │\n",
              "│ Other            ┆ 65761.463415  │\n",
              "│ Human Resources  ┆ 60452.962963  │\n",
              "└──────────────────┴───────────────┘"
            ],
            "text/html": [
              "<div><style>\n",
              ".dataframe > thead > tr > th,\n",
              ".dataframe > tbody > tr > td {\n",
              "  text-align: right;\n",
              "}\n",
              "</style>\n",
              "<small>shape: (6, 2)</small><table border=\"1\" class=\"dataframe\"><thead><tr><th>EducationField</th><th>MonthlyIncome</th></tr><tr><td>str</td><td>f64</td></tr></thead><tbody><tr><td>&quot;Medical&quot;</td><td>67096.724138</td></tr><tr><td>&quot;Technical Degr…</td><td>64171.666667</td></tr><tr><td>&quot;Life Sciences&quot;</td><td>65311.831683</td></tr><tr><td>&quot;Marketing&quot;</td><td>59030.880503</td></tr><tr><td>&quot;Other&quot;</td><td>65761.463415</td></tr><tr><td>&quot;Human Resource…</td><td>60452.962963</td></tr></tbody></table></div>"
            ]
          },
          "metadata": {},
          "execution_count": 25
        }
      ]
    },
    {
      "cell_type": "code",
      "source": [
        "avgSalaryHikeWiseAttrition = hrDF.groupby('Attrition').agg(pl.col('PercentSalaryHike').mean())\n",
        "avgSalaryHikeWiseAttrition"
      ],
      "metadata": {
        "id": "gUKm0hkKERZN",
        "colab": {
          "base_uri": "https://localhost:8080/",
          "height": 161
        },
        "outputId": "5f99aeab-a420-4cbc-8cb6-d12e99338abe"
      },
      "execution_count": null,
      "outputs": [
        {
          "output_type": "execute_result",
          "data": {
            "text/plain": [
              "shape: (2, 2)\n",
              "┌───────────┬───────────────────┐\n",
              "│ Attrition ┆ PercentSalaryHike │\n",
              "│ ---       ┆ ---               │\n",
              "│ str       ┆ f64               │\n",
              "╞═══════════╪═══════════════════╡\n",
              "│ No        ┆ 15.15734          │\n",
              "│ Yes       ┆ 15.481013         │\n",
              "└───────────┴───────────────────┘"
            ],
            "text/html": [
              "<div><style>\n",
              ".dataframe > thead > tr > th,\n",
              ".dataframe > tbody > tr > td {\n",
              "  text-align: right;\n",
              "}\n",
              "</style>\n",
              "<small>shape: (2, 2)</small><table border=\"1\" class=\"dataframe\"><thead><tr><th>Attrition</th><th>PercentSalaryHike</th></tr><tr><td>str</td><td>f64</td></tr></thead><tbody><tr><td>&quot;No&quot;</td><td>15.15734</td></tr><tr><td>&quot;Yes&quot;</td><td>15.481013</td></tr></tbody></table></div>"
            ]
          },
          "metadata": {},
          "execution_count": 26
        }
      ]
    },
    {
      "cell_type": "code",
      "source": [
        "Mode_Job_Role_Wise_YearAtCompany = hrDF.groupby('JobRole').agg(pl.col('YearsAtCompany').mode())\n",
        "Mode_Job_Role_Wise_YearAtCompany"
      ],
      "metadata": {
        "id": "eT-HEML6ah1-",
        "colab": {
          "base_uri": "https://localhost:8080/",
          "height": 380
        },
        "outputId": "636f52c8-533b-4e72-8799-fa9be7783c36"
      },
      "execution_count": null,
      "outputs": [
        {
          "output_type": "execute_result",
          "data": {
            "text/plain": [
              "shape: (9, 2)\n",
              "┌───────────────────────────┬────────────────┐\n",
              "│ JobRole                   ┆ YearsAtCompany │\n",
              "│ ---                       ┆ ---            │\n",
              "│ str                       ┆ list[i64]      │\n",
              "╞═══════════════════════════╪════════════════╡\n",
              "│ Healthcare Representative ┆ [5]            │\n",
              "│ Sales Executive           ┆ [5]            │\n",
              "│ Human Resources           ┆ [5]            │\n",
              "│ Research Scientist        ┆ [5]            │\n",
              "│ Research Director         ┆ [4, 5]         │\n",
              "│ Manufacturing Director    ┆ [5]            │\n",
              "│ Manager                   ┆ [1]            │\n",
              "│ Sales Representative      ┆ [5]            │\n",
              "│ Laboratory Technician     ┆ [1]            │\n",
              "└───────────────────────────┴────────────────┘"
            ],
            "text/html": [
              "<div><style>\n",
              ".dataframe > thead > tr > th,\n",
              ".dataframe > tbody > tr > td {\n",
              "  text-align: right;\n",
              "}\n",
              "</style>\n",
              "<small>shape: (9, 2)</small><table border=\"1\" class=\"dataframe\"><thead><tr><th>JobRole</th><th>YearsAtCompany</th></tr><tr><td>str</td><td>list[i64]</td></tr></thead><tbody><tr><td>&quot;Healthcare Rep…</td><td>[5]</td></tr><tr><td>&quot;Sales Executiv…</td><td>[5]</td></tr><tr><td>&quot;Human Resource…</td><td>[5]</td></tr><tr><td>&quot;Research Scien…</td><td>[5]</td></tr><tr><td>&quot;Research Direc…</td><td>[4, 5]</td></tr><tr><td>&quot;Manufacturing …</td><td>[5]</td></tr><tr><td>&quot;Manager&quot;</td><td>[1]</td></tr><tr><td>&quot;Sales Represen…</td><td>[5]</td></tr><tr><td>&quot;Laboratory Tec…</td><td>[1]</td></tr></tbody></table></div>"
            ]
          },
          "metadata": {},
          "execution_count": 27
        }
      ]
    },
    {
      "cell_type": "code",
      "source": [
        "Mode_MaritalStatus_YearAtCompany = hrDF.groupby('MaritalStatus').agg(pl.col('YearsAtCompany').mode())\n",
        "Mode_MaritalStatus_YearAtCompany"
      ],
      "metadata": {
        "id": "3waRFHuqbKZG",
        "colab": {
          "base_uri": "https://localhost:8080/",
          "height": 192
        },
        "outputId": "ddaa4844-8953-4316-8e73-eb39850ad2a3"
      },
      "execution_count": null,
      "outputs": [
        {
          "output_type": "execute_result",
          "data": {
            "text/plain": [
              "shape: (3, 2)\n",
              "┌───────────────┬────────────────┐\n",
              "│ MaritalStatus ┆ YearsAtCompany │\n",
              "│ ---           ┆ ---            │\n",
              "│ str           ┆ list[i64]      │\n",
              "╞═══════════════╪════════════════╡\n",
              "│ Single        ┆ [5]            │\n",
              "│ Divorced      ┆ [5]            │\n",
              "│ Married       ┆ [5]            │\n",
              "└───────────────┴────────────────┘"
            ],
            "text/html": [
              "<div><style>\n",
              ".dataframe > thead > tr > th,\n",
              ".dataframe > tbody > tr > td {\n",
              "  text-align: right;\n",
              "}\n",
              "</style>\n",
              "<small>shape: (3, 2)</small><table border=\"1\" class=\"dataframe\"><thead><tr><th>MaritalStatus</th><th>YearsAtCompany</th></tr><tr><td>str</td><td>list[i64]</td></tr></thead><tbody><tr><td>&quot;Single&quot;</td><td>[5]</td></tr><tr><td>&quot;Divorced&quot;</td><td>[5]</td></tr><tr><td>&quot;Married&quot;</td><td>[5]</td></tr></tbody></table></div>"
            ]
          },
          "metadata": {},
          "execution_count": 28
        }
      ]
    },
    {
      "cell_type": "code",
      "source": [
        "Mode_Attrition_YearAtCompany = hrDF.groupby('Attrition').agg(pl.col('YearsAtCompany').mode())\n",
        "Mode_Attrition_YearAtCompany"
      ],
      "metadata": {
        "id": "ZOjiH7fWbacM",
        "colab": {
          "base_uri": "https://localhost:8080/",
          "height": 161
        },
        "outputId": "e3fe76ba-7a99-4318-95be-6f4c06dcb29d"
      },
      "execution_count": null,
      "outputs": [
        {
          "output_type": "execute_result",
          "data": {
            "text/plain": [
              "shape: (2, 2)\n",
              "┌───────────┬────────────────┐\n",
              "│ Attrition ┆ YearsAtCompany │\n",
              "│ ---       ┆ ---            │\n",
              "│ str       ┆ list[i64]      │\n",
              "╞═══════════╪════════════════╡\n",
              "│ No        ┆ [5]            │\n",
              "│ Yes       ┆ [1]            │\n",
              "└───────────┴────────────────┘"
            ],
            "text/html": [
              "<div><style>\n",
              ".dataframe > thead > tr > th,\n",
              ".dataframe > tbody > tr > td {\n",
              "  text-align: right;\n",
              "}\n",
              "</style>\n",
              "<small>shape: (2, 2)</small><table border=\"1\" class=\"dataframe\"><thead><tr><th>Attrition</th><th>YearsAtCompany</th></tr><tr><td>str</td><td>list[i64]</td></tr></thead><tbody><tr><td>&quot;No&quot;</td><td>[5]</td></tr><tr><td>&quot;Yes&quot;</td><td>[1]</td></tr></tbody></table></div>"
            ]
          },
          "metadata": {},
          "execution_count": 29
        }
      ]
    },
    {
      "cell_type": "markdown",
      "source": [
        "### **Step 4 - Merging two tables using a common key.**"
      ],
      "metadata": {
        "id": "urbI-ExQHz56"
      }
    },
    {
      "cell_type": "code",
      "source": [
        "dfhr1 = pd.read_csv(\"/content/employee_survey_data.csv\", encoding=\"ISO-8859-2\")\n",
        "dfhr1.to_csv('employee_survey_data.csv', index=False)"
      ],
      "metadata": {
        "id": "LdakH-Glbts0"
      },
      "execution_count": null,
      "outputs": []
    },
    {
      "cell_type": "code",
      "source": [
        "import polars as pl\n",
        "\n",
        "hrDF1 = pl.read_csv(\"/content/employee_survey_data.csv\")\n",
        "hrDF1.head(5)"
      ],
      "metadata": {
        "id": "PxvsZmwIPyJX",
        "colab": {
          "base_uri": "https://localhost:8080/",
          "height": 255
        },
        "outputId": "b07fe42f-437d-479a-d9ba-1eec6fa16c98"
      },
      "execution_count": null,
      "outputs": [
        {
          "output_type": "execute_result",
          "data": {
            "text/plain": [
              "shape: (5, 4)\n",
              "┌────────────┬─────────────────────────┬─────────────────┬─────────────────┐\n",
              "│ EmployeeID ┆ EnvironmentSatisfaction ┆ JobSatisfaction ┆ WorkLifeBalance │\n",
              "│ ---        ┆ ---                     ┆ ---             ┆ ---             │\n",
              "│ i64        ┆ f64                     ┆ f64             ┆ f64             │\n",
              "╞════════════╪═════════════════════════╪═════════════════╪═════════════════╡\n",
              "│ 1          ┆ 3.0                     ┆ 4.0             ┆ 2.0             │\n",
              "│ 2          ┆ 3.0                     ┆ 2.0             ┆ 4.0             │\n",
              "│ 3          ┆ 2.0                     ┆ 2.0             ┆ 1.0             │\n",
              "│ 4          ┆ 4.0                     ┆ 4.0             ┆ 3.0             │\n",
              "│ 5          ┆ 4.0                     ┆ 1.0             ┆ 3.0             │\n",
              "└────────────┴─────────────────────────┴─────────────────┴─────────────────┘"
            ],
            "text/html": [
              "<div><style>\n",
              ".dataframe > thead > tr > th,\n",
              ".dataframe > tbody > tr > td {\n",
              "  text-align: right;\n",
              "}\n",
              "</style>\n",
              "<small>shape: (5, 4)</small><table border=\"1\" class=\"dataframe\"><thead><tr><th>EmployeeID</th><th>EnvironmentSatisfaction</th><th>JobSatisfaction</th><th>WorkLifeBalance</th></tr><tr><td>i64</td><td>f64</td><td>f64</td><td>f64</td></tr></thead><tbody><tr><td>1</td><td>3.0</td><td>4.0</td><td>2.0</td></tr><tr><td>2</td><td>3.0</td><td>2.0</td><td>4.0</td></tr><tr><td>3</td><td>2.0</td><td>2.0</td><td>1.0</td></tr><tr><td>4</td><td>4.0</td><td>4.0</td><td>3.0</td></tr><tr><td>5</td><td>4.0</td><td>1.0</td><td>3.0</td></tr></tbody></table></div>"
            ]
          },
          "metadata": {},
          "execution_count": 33
        }
      ]
    },
    {
      "cell_type": "code",
      "source": [
        "for col in hrDF1.get_columns():\n",
        "    print(f'{col.name} - {col.is_null().sum()}')"
      ],
      "metadata": {
        "id": "lSwjHLj2QnV1",
        "colab": {
          "base_uri": "https://localhost:8080/"
        },
        "outputId": "b30c1b31-33b6-49e1-b14e-81c924e48f01"
      },
      "execution_count": null,
      "outputs": [
        {
          "output_type": "stream",
          "name": "stdout",
          "text": [
            "EmployeeID - 0\n",
            "EnvironmentSatisfaction - 25\n",
            "JobSatisfaction - 20\n",
            "WorkLifeBalance - 38\n"
          ]
        }
      ]
    },
    {
      "cell_type": "code",
      "source": [
        "avg_EnvironmentSatisfaction = hrDF1['EnvironmentSatisfaction'].mean()\n",
        "avg_JobSatisfaction = hrDF1['JobSatisfaction'].mean()\n",
        "avg_WorkLifeBalance = hrDF1['WorkLifeBalance'].mean()"
      ],
      "metadata": {
        "id": "2xrEUyMJUp87"
      },
      "execution_count": null,
      "outputs": []
    },
    {
      "cell_type": "code",
      "source": [
        "# Fill in missing values with the mean values\n",
        "hrDF1 = hrDF1.with_columns(pl.col('EnvironmentSatisfaction').fill_null(avg_EnvironmentSatisfaction).alias('EnvironmentSatisfaction'))\n",
        "hrDF1 = hrDF1.with_columns(pl.col('JobSatisfaction').fill_null(avg_JobSatisfaction).alias('JobSatisfaction'))\n",
        "hrDF1 = hrDF1.with_columns(pl.col('WorkLifeBalance').fill_null(avg_WorkLifeBalance).alias('WorkLifeBalance'))"
      ],
      "metadata": {
        "id": "adfznXxPUTny"
      },
      "execution_count": null,
      "outputs": []
    },
    {
      "cell_type": "code",
      "source": [
        "for col in hrDF1.get_columns():\n",
        "    print(f'{col.name} - {col.is_null().sum()}')"
      ],
      "metadata": {
        "id": "aDd0ItHzUiKd",
        "colab": {
          "base_uri": "https://localhost:8080/"
        },
        "outputId": "b1792a4a-f6e2-4dfd-caa1-d27e1be275bd"
      },
      "execution_count": null,
      "outputs": [
        {
          "output_type": "stream",
          "name": "stdout",
          "text": [
            "EmployeeID - 0\n",
            "EnvironmentSatisfaction - 0\n",
            "JobSatisfaction - 0\n",
            "WorkLifeBalance - 0\n"
          ]
        }
      ]
    },
    {
      "cell_type": "code",
      "source": [
        "df = hrDF.join(hrDF1, on=\"EmployeeID\")"
      ],
      "metadata": {
        "id": "QuInfoDEWU35"
      },
      "execution_count": null,
      "outputs": []
    },
    {
      "cell_type": "code",
      "source": [
        "df.head(5)"
      ],
      "metadata": {
        "id": "0Jia0DpkXcqa",
        "colab": {
          "base_uri": "https://localhost:8080/",
          "height": 361
        },
        "outputId": "91bfcb31-9fd1-4239-84db-38c7aba4626d"
      },
      "execution_count": null,
      "outputs": [
        {
          "output_type": "execute_result",
          "data": {
            "text/plain": [
              "shape: (5, 27)\n",
              "┌─────┬───────────┬────────────┬──────────┬───┬────────────┬────────────┬────────────┬────────────┐\n",
              "│ Age ┆ Attrition ┆ BusinessTr ┆ Departme ┆ … ┆ YearsWithC ┆ Environmen ┆ JobSatisfa ┆ WorkLifeBa │\n",
              "│ --- ┆ ---       ┆ avel       ┆ nt       ┆   ┆ urrManager ┆ tSatisfact ┆ ction      ┆ lance      │\n",
              "│ i64 ┆ str       ┆ ---        ┆ ---      ┆   ┆ ---        ┆ ion        ┆ ---        ┆ ---        │\n",
              "│     ┆           ┆ str        ┆ str      ┆   ┆ i64        ┆ ---        ┆ f64        ┆ f64        │\n",
              "│     ┆           ┆            ┆          ┆   ┆            ┆ f64        ┆            ┆            │\n",
              "╞═════╪═══════════╪════════════╪══════════╪═══╪════════════╪════════════╪════════════╪════════════╡\n",
              "│ 51  ┆ No        ┆ Travel_Rar ┆ Sales    ┆ … ┆ 0          ┆ 3.0        ┆ 4.0        ┆ 2.0        │\n",
              "│     ┆           ┆ ely        ┆          ┆   ┆            ┆            ┆            ┆            │\n",
              "│ 31  ┆ Yes       ┆ Travel_Fre ┆ Research ┆ … ┆ 4          ┆ 3.0        ┆ 2.0        ┆ 4.0        │\n",
              "│     ┆           ┆ quently    ┆ & Develo ┆   ┆            ┆            ┆            ┆            │\n",
              "│     ┆           ┆            ┆ pment    ┆   ┆            ┆            ┆            ┆            │\n",
              "│ 32  ┆ No        ┆ Travel_Fre ┆ Research ┆ … ┆ 3          ┆ 2.0        ┆ 2.0        ┆ 1.0        │\n",
              "│     ┆           ┆ quently    ┆ & Develo ┆   ┆            ┆            ┆            ┆            │\n",
              "│     ┆           ┆            ┆ pment    ┆   ┆            ┆            ┆            ┆            │\n",
              "│ 38  ┆ No        ┆ Non-Travel ┆ Research ┆ … ┆ 5          ┆ 4.0        ┆ 4.0        ┆ 3.0        │\n",
              "│     ┆           ┆            ┆ & Develo ┆   ┆            ┆            ┆            ┆            │\n",
              "│     ┆           ┆            ┆ pment    ┆   ┆            ┆            ┆            ┆            │\n",
              "│ 32  ┆ No        ┆ Travel_Rar ┆ Research ┆ … ┆ 4          ┆ 4.0        ┆ 1.0        ┆ 3.0        │\n",
              "│     ┆           ┆ ely        ┆ & Develo ┆   ┆            ┆            ┆            ┆            │\n",
              "│     ┆           ┆            ┆ pment    ┆   ┆            ┆            ┆            ┆            │\n",
              "└─────┴───────────┴────────────┴──────────┴───┴────────────┴────────────┴────────────┴────────────┘"
            ],
            "text/html": [
              "<div><style>\n",
              ".dataframe > thead > tr > th,\n",
              ".dataframe > tbody > tr > td {\n",
              "  text-align: right;\n",
              "}\n",
              "</style>\n",
              "<small>shape: (5, 27)</small><table border=\"1\" class=\"dataframe\"><thead><tr><th>Age</th><th>Attrition</th><th>BusinessTravel</th><th>Department</th><th>DistanceFromHome</th><th>Education</th><th>EducationField</th><th>EmployeeCount</th><th>EmployeeID</th><th>Gender</th><th>JobLevel</th><th>JobRole</th><th>MaritalStatus</th><th>MonthlyIncome</th><th>NumCompaniesWorked</th><th>Over18</th><th>PercentSalaryHike</th><th>StandardHours</th><th>StockOptionLevel</th><th>TotalWorkingYears</th><th>TrainingTimesLastYear</th><th>YearsAtCompany</th><th>YearsSinceLastPromotion</th><th>YearsWithCurrManager</th><th>EnvironmentSatisfaction</th><th>JobSatisfaction</th><th>WorkLifeBalance</th></tr><tr><td>i64</td><td>str</td><td>str</td><td>str</td><td>i64</td><td>i64</td><td>str</td><td>i64</td><td>i64</td><td>str</td><td>i64</td><td>str</td><td>str</td><td>i64</td><td>f64</td><td>str</td><td>i64</td><td>i64</td><td>i64</td><td>f64</td><td>i64</td><td>i64</td><td>i64</td><td>i64</td><td>f64</td><td>f64</td><td>f64</td></tr></thead><tbody><tr><td>51</td><td>&quot;No&quot;</td><td>&quot;Travel_Rarely&quot;</td><td>&quot;Sales&quot;</td><td>6</td><td>2</td><td>&quot;Life Sciences&quot;</td><td>1</td><td>1</td><td>&quot;Female&quot;</td><td>1</td><td>&quot;Healthcare Rep…</td><td>&quot;Married&quot;</td><td>131160</td><td>1.0</td><td>&quot;Y&quot;</td><td>11</td><td>8</td><td>0</td><td>1.0</td><td>6</td><td>1</td><td>0</td><td>0</td><td>3.0</td><td>4.0</td><td>2.0</td></tr><tr><td>31</td><td>&quot;Yes&quot;</td><td>&quot;Travel_Frequen…</td><td>&quot;Research &amp; Dev…</td><td>10</td><td>1</td><td>&quot;Life Sciences&quot;</td><td>1</td><td>2</td><td>&quot;Female&quot;</td><td>1</td><td>&quot;Research Scien…</td><td>&quot;Single&quot;</td><td>41890</td><td>0.0</td><td>&quot;Y&quot;</td><td>23</td><td>8</td><td>1</td><td>6.0</td><td>3</td><td>5</td><td>1</td><td>4</td><td>3.0</td><td>2.0</td><td>4.0</td></tr><tr><td>32</td><td>&quot;No&quot;</td><td>&quot;Travel_Frequen…</td><td>&quot;Research &amp; Dev…</td><td>17</td><td>4</td><td>&quot;Other&quot;</td><td>1</td><td>3</td><td>&quot;Male&quot;</td><td>4</td><td>&quot;Sales Executiv…</td><td>&quot;Married&quot;</td><td>193280</td><td>1.0</td><td>&quot;Y&quot;</td><td>15</td><td>8</td><td>3</td><td>5.0</td><td>2</td><td>5</td><td>0</td><td>3</td><td>2.0</td><td>2.0</td><td>1.0</td></tr><tr><td>38</td><td>&quot;No&quot;</td><td>&quot;Non-Travel&quot;</td><td>&quot;Research &amp; Dev…</td><td>2</td><td>5</td><td>&quot;Life Sciences&quot;</td><td>1</td><td>4</td><td>&quot;Male&quot;</td><td>3</td><td>&quot;Human Resource…</td><td>&quot;Married&quot;</td><td>83210</td><td>3.0</td><td>&quot;Y&quot;</td><td>11</td><td>8</td><td>3</td><td>13.0</td><td>5</td><td>8</td><td>7</td><td>5</td><td>4.0</td><td>4.0</td><td>3.0</td></tr><tr><td>32</td><td>&quot;No&quot;</td><td>&quot;Travel_Rarely&quot;</td><td>&quot;Research &amp; Dev…</td><td>10</td><td>1</td><td>&quot;Medical&quot;</td><td>1</td><td>5</td><td>&quot;Male&quot;</td><td>1</td><td>&quot;Sales Executiv…</td><td>&quot;Single&quot;</td><td>23420</td><td>4.0</td><td>&quot;Y&quot;</td><td>12</td><td>8</td><td>2</td><td>9.0</td><td>2</td><td>6</td><td>0</td><td>4</td><td>4.0</td><td>1.0</td><td>3.0</td></tr></tbody></table></div>"
            ]
          },
          "metadata": {},
          "execution_count": 40
        }
      ]
    },
    {
      "cell_type": "code",
      "source": [
        "Avg_Gender_Wise_Job_Satisfaction = df.groupby('Gender').agg(pl.col('JobSatisfaction').mean())\n",
        "Avg_Gender_Wise_Job_Satisfaction"
      ],
      "metadata": {
        "id": "A6_OIOIJXdeC",
        "colab": {
          "base_uri": "https://localhost:8080/",
          "height": 161
        },
        "outputId": "a051c9a3-8d10-40c0-c35a-bd03e0bb660f"
      },
      "execution_count": null,
      "outputs": [
        {
          "output_type": "execute_result",
          "data": {
            "text/plain": [
              "shape: (2, 2)\n",
              "┌────────┬─────────────────┐\n",
              "│ Gender ┆ JobSatisfaction │\n",
              "│ ---    ┆ ---             │\n",
              "│ str    ┆ f64             │\n",
              "╞════════╪═════════════════╡\n",
              "│ Male   ┆ 2.742429        │\n",
              "│ Female ┆ 2.706971        │\n",
              "└────────┴─────────────────┘"
            ],
            "text/html": [
              "<div><style>\n",
              ".dataframe > thead > tr > th,\n",
              ".dataframe > tbody > tr > td {\n",
              "  text-align: right;\n",
              "}\n",
              "</style>\n",
              "<small>shape: (2, 2)</small><table border=\"1\" class=\"dataframe\"><thead><tr><th>Gender</th><th>JobSatisfaction</th></tr><tr><td>str</td><td>f64</td></tr></thead><tbody><tr><td>&quot;Male&quot;</td><td>2.742429</td></tr><tr><td>&quot;Female&quot;</td><td>2.706971</td></tr></tbody></table></div>"
            ]
          },
          "metadata": {},
          "execution_count": 41
        }
      ]
    },
    {
      "cell_type": "code",
      "source": [
        "Avg_Gender_Wise_Environmental_Satisfaction = df.groupby('Gender').agg(pl.col('EnvironmentSatisfaction').mean())\n",
        "Avg_Gender_Wise_Environmental_Satisfaction"
      ],
      "metadata": {
        "id": "nL3hUQUuYodi",
        "colab": {
          "base_uri": "https://localhost:8080/",
          "height": 161
        },
        "outputId": "51d6d5e0-d57b-4870-b74e-0e5d1f4a29c1"
      },
      "execution_count": null,
      "outputs": [
        {
          "output_type": "execute_result",
          "data": {
            "text/plain": [
              "shape: (2, 2)\n",
              "┌────────┬─────────────────────────┐\n",
              "│ Gender ┆ EnvironmentSatisfaction │\n",
              "│ ---    ┆ ---                     │\n",
              "│ str    ┆ f64                     │\n",
              "╞════════╪═════════════════════════╡\n",
              "│ Female ┆ 2.755296                │\n",
              "│ Male   ┆ 2.702475                │\n",
              "└────────┴─────────────────────────┘"
            ],
            "text/html": [
              "<div><style>\n",
              ".dataframe > thead > tr > th,\n",
              ".dataframe > tbody > tr > td {\n",
              "  text-align: right;\n",
              "}\n",
              "</style>\n",
              "<small>shape: (2, 2)</small><table border=\"1\" class=\"dataframe\"><thead><tr><th>Gender</th><th>EnvironmentSatisfaction</th></tr><tr><td>str</td><td>f64</td></tr></thead><tbody><tr><td>&quot;Female&quot;</td><td>2.755296</td></tr><tr><td>&quot;Male&quot;</td><td>2.702475</td></tr></tbody></table></div>"
            ]
          },
          "metadata": {},
          "execution_count": 42
        }
      ]
    },
    {
      "cell_type": "code",
      "source": [
        "Avg_Gender_Wise_WorkLifeBalance = df.groupby('Gender').agg(pl.col('WorkLifeBalance').mean())\n",
        "Avg_Gender_Wise_WorkLifeBalance"
      ],
      "metadata": {
        "id": "D_VXhu_4Y4B9",
        "colab": {
          "base_uri": "https://localhost:8080/",
          "height": 161
        },
        "outputId": "f1965ed9-752d-4103-9b5f-3daabcc29377"
      },
      "execution_count": null,
      "outputs": [
        {
          "output_type": "execute_result",
          "data": {
            "text/plain": [
              "shape: (2, 2)\n",
              "┌────────┬─────────────────┐\n",
              "│ Gender ┆ WorkLifeBalance │\n",
              "│ ---    ┆ ---             │\n",
              "│ str    ┆ f64             │\n",
              "╞════════╪═════════════════╡\n",
              "│ Male   ┆ 2.742734        │\n",
              "│ Female ┆ 2.78949         │\n",
              "└────────┴─────────────────┘"
            ],
            "text/html": [
              "<div><style>\n",
              ".dataframe > thead > tr > th,\n",
              ".dataframe > tbody > tr > td {\n",
              "  text-align: right;\n",
              "}\n",
              "</style>\n",
              "<small>shape: (2, 2)</small><table border=\"1\" class=\"dataframe\"><thead><tr><th>Gender</th><th>WorkLifeBalance</th></tr><tr><td>str</td><td>f64</td></tr></thead><tbody><tr><td>&quot;Male&quot;</td><td>2.742734</td></tr><tr><td>&quot;Female&quot;</td><td>2.78949</td></tr></tbody></table></div>"
            ]
          },
          "metadata": {},
          "execution_count": 43
        }
      ]
    },
    {
      "cell_type": "code",
      "source": [
        "Avg_Gender_Wise_Job_Satisfaction = df.groupby('Gender').agg(pl.col('JobSatisfaction').median())\n",
        "Avg_Gender_Wise_Job_Satisfaction"
      ],
      "metadata": {
        "id": "HZrD6rM4ZK4I",
        "colab": {
          "base_uri": "https://localhost:8080/",
          "height": 161
        },
        "outputId": "61a2bd8f-2cc7-4296-f555-f22e2edef96d"
      },
      "execution_count": null,
      "outputs": [
        {
          "output_type": "execute_result",
          "data": {
            "text/plain": [
              "shape: (2, 2)\n",
              "┌────────┬─────────────────┐\n",
              "│ Gender ┆ JobSatisfaction │\n",
              "│ ---    ┆ ---             │\n",
              "│ str    ┆ f64             │\n",
              "╞════════╪═════════════════╡\n",
              "│ Male   ┆ 3.0             │\n",
              "│ Female ┆ 3.0             │\n",
              "└────────┴─────────────────┘"
            ],
            "text/html": [
              "<div><style>\n",
              ".dataframe > thead > tr > th,\n",
              ".dataframe > tbody > tr > td {\n",
              "  text-align: right;\n",
              "}\n",
              "</style>\n",
              "<small>shape: (2, 2)</small><table border=\"1\" class=\"dataframe\"><thead><tr><th>Gender</th><th>JobSatisfaction</th></tr><tr><td>str</td><td>f64</td></tr></thead><tbody><tr><td>&quot;Male&quot;</td><td>3.0</td></tr><tr><td>&quot;Female&quot;</td><td>3.0</td></tr></tbody></table></div>"
            ]
          },
          "metadata": {},
          "execution_count": 44
        }
      ]
    },
    {
      "cell_type": "code",
      "source": [
        "Avg_Gender_Wise_Environmental_Satisfaction = df.groupby('Gender').agg(pl.col('EnvironmentSatisfaction').median())\n",
        "Avg_Gender_Wise_Environmental_Satisfaction"
      ],
      "metadata": {
        "id": "FdBXOUR8ZK4I",
        "colab": {
          "base_uri": "https://localhost:8080/",
          "height": 161
        },
        "outputId": "5caf7ba7-d89d-4507-9890-25b144487ae9"
      },
      "execution_count": null,
      "outputs": [
        {
          "output_type": "execute_result",
          "data": {
            "text/plain": [
              "shape: (2, 2)\n",
              "┌────────┬─────────────────────────┐\n",
              "│ Gender ┆ EnvironmentSatisfaction │\n",
              "│ ---    ┆ ---                     │\n",
              "│ str    ┆ f64                     │\n",
              "╞════════╪═════════════════════════╡\n",
              "│ Female ┆ 3.0                     │\n",
              "│ Male   ┆ 3.0                     │\n",
              "└────────┴─────────────────────────┘"
            ],
            "text/html": [
              "<div><style>\n",
              ".dataframe > thead > tr > th,\n",
              ".dataframe > tbody > tr > td {\n",
              "  text-align: right;\n",
              "}\n",
              "</style>\n",
              "<small>shape: (2, 2)</small><table border=\"1\" class=\"dataframe\"><thead><tr><th>Gender</th><th>EnvironmentSatisfaction</th></tr><tr><td>str</td><td>f64</td></tr></thead><tbody><tr><td>&quot;Female&quot;</td><td>3.0</td></tr><tr><td>&quot;Male&quot;</td><td>3.0</td></tr></tbody></table></div>"
            ]
          },
          "metadata": {},
          "execution_count": 45
        }
      ]
    },
    {
      "cell_type": "code",
      "source": [
        "Avg_Gender_Wise_WorkLifeBalance = df.groupby('Gender').agg(pl.col('WorkLifeBalance').median())\n",
        "Avg_Gender_Wise_WorkLifeBalance"
      ],
      "metadata": {
        "id": "SqYaATfWZK4I",
        "colab": {
          "base_uri": "https://localhost:8080/",
          "height": 161
        },
        "outputId": "782564c5-7581-44e8-fae0-efe9027a3c7a"
      },
      "execution_count": null,
      "outputs": [
        {
          "output_type": "execute_result",
          "data": {
            "text/plain": [
              "shape: (2, 2)\n",
              "┌────────┬─────────────────┐\n",
              "│ Gender ┆ WorkLifeBalance │\n",
              "│ ---    ┆ ---             │\n",
              "│ str    ┆ f64             │\n",
              "╞════════╪═════════════════╡\n",
              "│ Female ┆ 3.0             │\n",
              "│ Male   ┆ 3.0             │\n",
              "└────────┴─────────────────┘"
            ],
            "text/html": [
              "<div><style>\n",
              ".dataframe > thead > tr > th,\n",
              ".dataframe > tbody > tr > td {\n",
              "  text-align: right;\n",
              "}\n",
              "</style>\n",
              "<small>shape: (2, 2)</small><table border=\"1\" class=\"dataframe\"><thead><tr><th>Gender</th><th>WorkLifeBalance</th></tr><tr><td>str</td><td>f64</td></tr></thead><tbody><tr><td>&quot;Female&quot;</td><td>3.0</td></tr><tr><td>&quot;Male&quot;</td><td>3.0</td></tr></tbody></table></div>"
            ]
          },
          "metadata": {},
          "execution_count": 46
        }
      ]
    },
    {
      "cell_type": "code",
      "source": [
        "Avg_Attrition_Wise_Job_Satisfaction = df.groupby('Attrition').agg(pl.col('JobSatisfaction').mean())\n",
        "Avg_Attrition_Wise_Job_Satisfaction"
      ],
      "metadata": {
        "id": "OOzTeTiEZYrs",
        "colab": {
          "base_uri": "https://localhost:8080/",
          "height": 161
        },
        "outputId": "2c556825-d899-4a8c-f996-e832dc451fa2"
      },
      "execution_count": null,
      "outputs": [
        {
          "output_type": "execute_result",
          "data": {
            "text/plain": [
              "shape: (2, 2)\n",
              "┌───────────┬─────────────────┐\n",
              "│ Attrition ┆ JobSatisfaction │\n",
              "│ ---       ┆ ---             │\n",
              "│ str       ┆ f64             │\n",
              "╞═══════════╪═════════════════╡\n",
              "│ Yes       ┆ 2.470785        │\n",
              "│ No        ┆ 2.777734        │\n",
              "└───────────┴─────────────────┘"
            ],
            "text/html": [
              "<div><style>\n",
              ".dataframe > thead > tr > th,\n",
              ".dataframe > tbody > tr > td {\n",
              "  text-align: right;\n",
              "}\n",
              "</style>\n",
              "<small>shape: (2, 2)</small><table border=\"1\" class=\"dataframe\"><thead><tr><th>Attrition</th><th>JobSatisfaction</th></tr><tr><td>str</td><td>f64</td></tr></thead><tbody><tr><td>&quot;Yes&quot;</td><td>2.470785</td></tr><tr><td>&quot;No&quot;</td><td>2.777734</td></tr></tbody></table></div>"
            ]
          },
          "metadata": {},
          "execution_count": 47
        }
      ]
    },
    {
      "cell_type": "code",
      "source": [
        "Avg_Attrition_Wise_Environmental_Satisfaction = df.groupby('Attrition').agg(pl.col('EnvironmentSatisfaction').mean())\n",
        "Avg_Attrition_Wise_Environmental_Satisfaction"
      ],
      "metadata": {
        "id": "SyhYiQOdZYrt",
        "colab": {
          "base_uri": "https://localhost:8080/",
          "height": 161
        },
        "outputId": "91e4cc10-393f-4e92-8617-c0412d8817f7"
      },
      "execution_count": null,
      "outputs": [
        {
          "output_type": "execute_result",
          "data": {
            "text/plain": [
              "shape: (2, 2)\n",
              "┌───────────┬─────────────────────────┐\n",
              "│ Attrition ┆ EnvironmentSatisfaction │\n",
              "│ ---       ┆ ---                     │\n",
              "│ str       ┆ f64                     │\n",
              "╞═══════════╪═════════════════════════╡\n",
              "│ No        ┆ 2.772228                │\n",
              "│ Yes       ┆ 2.47063                 │\n",
              "└───────────┴─────────────────────────┘"
            ],
            "text/html": [
              "<div><style>\n",
              ".dataframe > thead > tr > th,\n",
              ".dataframe > tbody > tr > td {\n",
              "  text-align: right;\n",
              "}\n",
              "</style>\n",
              "<small>shape: (2, 2)</small><table border=\"1\" class=\"dataframe\"><thead><tr><th>Attrition</th><th>EnvironmentSatisfaction</th></tr><tr><td>str</td><td>f64</td></tr></thead><tbody><tr><td>&quot;No&quot;</td><td>2.772228</td></tr><tr><td>&quot;Yes&quot;</td><td>2.47063</td></tr></tbody></table></div>"
            ]
          },
          "metadata": {},
          "execution_count": 48
        }
      ]
    },
    {
      "cell_type": "code",
      "source": [
        "Avg_Attrition_Wise_WorkLifeBalance = df.groupby('Attrition').agg(pl.col('WorkLifeBalance').mean())\n",
        "Avg_Attrition_Wise_WorkLifeBalance"
      ],
      "metadata": {
        "id": "u79a6IbjZYrt",
        "colab": {
          "base_uri": "https://localhost:8080/",
          "height": 161
        },
        "outputId": "48f0663d-2eaa-43fc-9050-af521fb74839"
      },
      "execution_count": null,
      "outputs": [
        {
          "output_type": "execute_result",
          "data": {
            "text/plain": [
              "shape: (2, 2)\n",
              "┌───────────┬─────────────────┐\n",
              "│ Attrition ┆ WorkLifeBalance │\n",
              "│ ---       ┆ ---             │\n",
              "│ str       ┆ f64             │\n",
              "╞═══════════╪═════════════════╡\n",
              "│ Yes       ┆ 2.661105        │\n",
              "│ No        ┆ 2.780722        │\n",
              "└───────────┴─────────────────┘"
            ],
            "text/html": [
              "<div><style>\n",
              ".dataframe > thead > tr > th,\n",
              ".dataframe > tbody > tr > td {\n",
              "  text-align: right;\n",
              "}\n",
              "</style>\n",
              "<small>shape: (2, 2)</small><table border=\"1\" class=\"dataframe\"><thead><tr><th>Attrition</th><th>WorkLifeBalance</th></tr><tr><td>str</td><td>f64</td></tr></thead><tbody><tr><td>&quot;Yes&quot;</td><td>2.661105</td></tr><tr><td>&quot;No&quot;</td><td>2.780722</td></tr></tbody></table></div>"
            ]
          },
          "metadata": {},
          "execution_count": 49
        }
      ]
    },
    {
      "cell_type": "code",
      "source": [
        "Avg_MaritalStatus_Wise_Job_Satisfaction = df.groupby('MaritalStatus').agg(pl.col('JobSatisfaction').mean())\n",
        "Avg_MaritalStatus_Wise_Job_Satisfaction"
      ],
      "metadata": {
        "id": "P1rU1yiwaIUZ",
        "colab": {
          "base_uri": "https://localhost:8080/",
          "height": 192
        },
        "outputId": "067cd33d-4e3c-496f-a633-045eff02d838"
      },
      "execution_count": null,
      "outputs": [
        {
          "output_type": "execute_result",
          "data": {
            "text/plain": [
              "shape: (3, 2)\n",
              "┌───────────────┬─────────────────┐\n",
              "│ MaritalStatus ┆ JobSatisfaction │\n",
              "│ ---           ┆ ---             │\n",
              "│ str           ┆ f64             │\n",
              "╞═══════════════╪═════════════════╡\n",
              "│ Divorced      ┆ 2.698367        │\n",
              "│ Single        ┆ 2.768409        │\n",
              "│ Married       ┆ 2.714716        │\n",
              "└───────────────┴─────────────────┘"
            ],
            "text/html": [
              "<div><style>\n",
              ".dataframe > thead > tr > th,\n",
              ".dataframe > tbody > tr > td {\n",
              "  text-align: right;\n",
              "}\n",
              "</style>\n",
              "<small>shape: (3, 2)</small><table border=\"1\" class=\"dataframe\"><thead><tr><th>MaritalStatus</th><th>JobSatisfaction</th></tr><tr><td>str</td><td>f64</td></tr></thead><tbody><tr><td>&quot;Divorced&quot;</td><td>2.698367</td></tr><tr><td>&quot;Single&quot;</td><td>2.768409</td></tr><tr><td>&quot;Married&quot;</td><td>2.714716</td></tr></tbody></table></div>"
            ]
          },
          "metadata": {},
          "execution_count": 50
        }
      ]
    },
    {
      "cell_type": "code",
      "source": [
        "Avg_MaritalStatus_Wise_Environmental_Satisfaction = df.groupby('MaritalStatus').agg(pl.col('EnvironmentSatisfaction').mean())\n",
        "Avg_MaritalStatus_Wise_Environmental_Satisfaction"
      ],
      "metadata": {
        "id": "Q453eZP-aIUa",
        "colab": {
          "base_uri": "https://localhost:8080/",
          "height": 192
        },
        "outputId": "3e7320e7-4284-4a4c-e93e-62649ee84e76"
      },
      "execution_count": null,
      "outputs": [
        {
          "output_type": "execute_result",
          "data": {
            "text/plain": [
              "shape: (3, 2)\n",
              "┌───────────────┬─────────────────────────┐\n",
              "│ MaritalStatus ┆ EnvironmentSatisfaction │\n",
              "│ ---           ┆ ---                     │\n",
              "│ str           ┆ f64                     │\n",
              "╞═══════════════╪═════════════════════════╡\n",
              "│ Divorced      ┆ 2.760515                │\n",
              "│ Single        ┆ 2.738857                │\n",
              "│ Married       ┆ 2.695015                │\n",
              "└───────────────┴─────────────────────────┘"
            ],
            "text/html": [
              "<div><style>\n",
              ".dataframe > thead > tr > th,\n",
              ".dataframe > tbody > tr > td {\n",
              "  text-align: right;\n",
              "}\n",
              "</style>\n",
              "<small>shape: (3, 2)</small><table border=\"1\" class=\"dataframe\"><thead><tr><th>MaritalStatus</th><th>EnvironmentSatisfaction</th></tr><tr><td>str</td><td>f64</td></tr></thead><tbody><tr><td>&quot;Divorced&quot;</td><td>2.760515</td></tr><tr><td>&quot;Single&quot;</td><td>2.738857</td></tr><tr><td>&quot;Married&quot;</td><td>2.695015</td></tr></tbody></table></div>"
            ]
          },
          "metadata": {},
          "execution_count": 51
        }
      ]
    },
    {
      "cell_type": "code",
      "source": [
        "Avg_MaritalStatus_Wise_WorkLifeBalance = df.groupby('Attrition').agg(pl.col('WorkLifeBalance').mean())\n",
        "Avg_MaritalStatus_Wise_WorkLifeBalance"
      ],
      "metadata": {
        "id": "6uAgGT20aIUa",
        "colab": {
          "base_uri": "https://localhost:8080/",
          "height": 161
        },
        "outputId": "b3f8f82d-c211-477d-a702-120b7ac3c408"
      },
      "execution_count": null,
      "outputs": [
        {
          "output_type": "execute_result",
          "data": {
            "text/plain": [
              "shape: (2, 2)\n",
              "┌───────────┬─────────────────┐\n",
              "│ Attrition ┆ WorkLifeBalance │\n",
              "│ ---       ┆ ---             │\n",
              "│ str       ┆ f64             │\n",
              "╞═══════════╪═════════════════╡\n",
              "│ No        ┆ 2.780722        │\n",
              "│ Yes       ┆ 2.661105        │\n",
              "└───────────┴─────────────────┘"
            ],
            "text/html": [
              "<div><style>\n",
              ".dataframe > thead > tr > th,\n",
              ".dataframe > tbody > tr > td {\n",
              "  text-align: right;\n",
              "}\n",
              "</style>\n",
              "<small>shape: (2, 2)</small><table border=\"1\" class=\"dataframe\"><thead><tr><th>Attrition</th><th>WorkLifeBalance</th></tr><tr><td>str</td><td>f64</td></tr></thead><tbody><tr><td>&quot;No&quot;</td><td>2.780722</td></tr><tr><td>&quot;Yes&quot;</td><td>2.661105</td></tr></tbody></table></div>"
            ]
          },
          "metadata": {},
          "execution_count": 52
        }
      ]
    },
    {
      "cell_type": "markdown",
      "source": [
        "### **Step 5 - Visualize the data using either Apache Spark’s built-in plotting library or any other visualization tools.**"
      ],
      "metadata": {
        "id": "UAeS3Hc2dUXb"
      }
    },
    {
      "cell_type": "code",
      "source": [
        "import matplotlib.pyplot as plt"
      ],
      "metadata": {
        "id": "zlU-wRs7gnep"
      },
      "execution_count": null,
      "outputs": []
    },
    {
      "cell_type": "code",
      "source": [
        "import polars as pl\n",
        "import plotly.express as px\n",
        "\n",
        "px.line(x=Avg_MaritalStatus_Wise_WorkLifeBalance[\"Attrition\"], y=Avg_MaritalStatus_Wise_WorkLifeBalance[\"WorkLifeBalance\"])"
      ],
      "metadata": {
        "id": "a85FZE0MdKp8",
        "colab": {
          "base_uri": "https://localhost:8080/",
          "height": 542
        },
        "outputId": "92e81116-1add-48f0-ca81-8da49373a23c"
      },
      "execution_count": null,
      "outputs": [
        {
          "output_type": "display_data",
          "data": {
            "text/html": [
              "<html>\n",
              "<head><meta charset=\"utf-8\" /></head>\n",
              "<body>\n",
              "    <div>            <script src=\"https://cdnjs.cloudflare.com/ajax/libs/mathjax/2.7.5/MathJax.js?config=TeX-AMS-MML_SVG\"></script><script type=\"text/javascript\">if (window.MathJax && window.MathJax.Hub && window.MathJax.Hub.Config) {window.MathJax.Hub.Config({SVG: {font: \"STIX-Web\"}});}</script>                <script type=\"text/javascript\">window.PlotlyConfig = {MathJaxConfig: 'local'};</script>\n",
              "        <script src=\"https://cdn.plot.ly/plotly-2.18.2.min.js\"></script>                <div id=\"40c0d060-01e7-44df-92c5-0d904e8abb95\" class=\"plotly-graph-div\" style=\"height:525px; width:100%;\"></div>            <script type=\"text/javascript\">                                    window.PLOTLYENV=window.PLOTLYENV || {};                                    if (document.getElementById(\"40c0d060-01e7-44df-92c5-0d904e8abb95\")) {                    Plotly.newPlot(                        \"40c0d060-01e7-44df-92c5-0d904e8abb95\",                        [{\"hovertemplate\":\"x=%{x}<br>y=%{y}<extra></extra>\",\"legendgroup\":\"\",\"line\":{\"color\":\"#636efa\",\"dash\":\"solid\"},\"marker\":{\"symbol\":\"circle\"},\"mode\":\"lines\",\"name\":\"\",\"orientation\":\"v\",\"showlegend\":false,\"x\":[\"No\",\"Yes\"],\"xaxis\":\"x\",\"y\":[2.7807215025845857,2.661105127502339],\"yaxis\":\"y\",\"type\":\"scatter\"}],                        {\"template\":{\"data\":{\"histogram2dcontour\":[{\"type\":\"histogram2dcontour\",\"colorbar\":{\"outlinewidth\":0,\"ticks\":\"\"},\"colorscale\":[[0.0,\"#0d0887\"],[0.1111111111111111,\"#46039f\"],[0.2222222222222222,\"#7201a8\"],[0.3333333333333333,\"#9c179e\"],[0.4444444444444444,\"#bd3786\"],[0.5555555555555556,\"#d8576b\"],[0.6666666666666666,\"#ed7953\"],[0.7777777777777778,\"#fb9f3a\"],[0.8888888888888888,\"#fdca26\"],[1.0,\"#f0f921\"]]}],\"choropleth\":[{\"type\":\"choropleth\",\"colorbar\":{\"outlinewidth\":0,\"ticks\":\"\"}}],\"histogram2d\":[{\"type\":\"histogram2d\",\"colorbar\":{\"outlinewidth\":0,\"ticks\":\"\"},\"colorscale\":[[0.0,\"#0d0887\"],[0.1111111111111111,\"#46039f\"],[0.2222222222222222,\"#7201a8\"],[0.3333333333333333,\"#9c179e\"],[0.4444444444444444,\"#bd3786\"],[0.5555555555555556,\"#d8576b\"],[0.6666666666666666,\"#ed7953\"],[0.7777777777777778,\"#fb9f3a\"],[0.8888888888888888,\"#fdca26\"],[1.0,\"#f0f921\"]]}],\"heatmap\":[{\"type\":\"heatmap\",\"colorbar\":{\"outlinewidth\":0,\"ticks\":\"\"},\"colorscale\":[[0.0,\"#0d0887\"],[0.1111111111111111,\"#46039f\"],[0.2222222222222222,\"#7201a8\"],[0.3333333333333333,\"#9c179e\"],[0.4444444444444444,\"#bd3786\"],[0.5555555555555556,\"#d8576b\"],[0.6666666666666666,\"#ed7953\"],[0.7777777777777778,\"#fb9f3a\"],[0.8888888888888888,\"#fdca26\"],[1.0,\"#f0f921\"]]}],\"heatmapgl\":[{\"type\":\"heatmapgl\",\"colorbar\":{\"outlinewidth\":0,\"ticks\":\"\"},\"colorscale\":[[0.0,\"#0d0887\"],[0.1111111111111111,\"#46039f\"],[0.2222222222222222,\"#7201a8\"],[0.3333333333333333,\"#9c179e\"],[0.4444444444444444,\"#bd3786\"],[0.5555555555555556,\"#d8576b\"],[0.6666666666666666,\"#ed7953\"],[0.7777777777777778,\"#fb9f3a\"],[0.8888888888888888,\"#fdca26\"],[1.0,\"#f0f921\"]]}],\"contourcarpet\":[{\"type\":\"contourcarpet\",\"colorbar\":{\"outlinewidth\":0,\"ticks\":\"\"}}],\"contour\":[{\"type\":\"contour\",\"colorbar\":{\"outlinewidth\":0,\"ticks\":\"\"},\"colorscale\":[[0.0,\"#0d0887\"],[0.1111111111111111,\"#46039f\"],[0.2222222222222222,\"#7201a8\"],[0.3333333333333333,\"#9c179e\"],[0.4444444444444444,\"#bd3786\"],[0.5555555555555556,\"#d8576b\"],[0.6666666666666666,\"#ed7953\"],[0.7777777777777778,\"#fb9f3a\"],[0.8888888888888888,\"#fdca26\"],[1.0,\"#f0f921\"]]}],\"surface\":[{\"type\":\"surface\",\"colorbar\":{\"outlinewidth\":0,\"ticks\":\"\"},\"colorscale\":[[0.0,\"#0d0887\"],[0.1111111111111111,\"#46039f\"],[0.2222222222222222,\"#7201a8\"],[0.3333333333333333,\"#9c179e\"],[0.4444444444444444,\"#bd3786\"],[0.5555555555555556,\"#d8576b\"],[0.6666666666666666,\"#ed7953\"],[0.7777777777777778,\"#fb9f3a\"],[0.8888888888888888,\"#fdca26\"],[1.0,\"#f0f921\"]]}],\"mesh3d\":[{\"type\":\"mesh3d\",\"colorbar\":{\"outlinewidth\":0,\"ticks\":\"\"}}],\"scatter\":[{\"fillpattern\":{\"fillmode\":\"overlay\",\"size\":10,\"solidity\":0.2},\"type\":\"scatter\"}],\"parcoords\":[{\"type\":\"parcoords\",\"line\":{\"colorbar\":{\"outlinewidth\":0,\"ticks\":\"\"}}}],\"scatterpolargl\":[{\"type\":\"scatterpolargl\",\"marker\":{\"colorbar\":{\"outlinewidth\":0,\"ticks\":\"\"}}}],\"bar\":[{\"error_x\":{\"color\":\"#2a3f5f\"},\"error_y\":{\"color\":\"#2a3f5f\"},\"marker\":{\"line\":{\"color\":\"#E5ECF6\",\"width\":0.5},\"pattern\":{\"fillmode\":\"overlay\",\"size\":10,\"solidity\":0.2}},\"type\":\"bar\"}],\"scattergeo\":[{\"type\":\"scattergeo\",\"marker\":{\"colorbar\":{\"outlinewidth\":0,\"ticks\":\"\"}}}],\"scatterpolar\":[{\"type\":\"scatterpolar\",\"marker\":{\"colorbar\":{\"outlinewidth\":0,\"ticks\":\"\"}}}],\"histogram\":[{\"marker\":{\"pattern\":{\"fillmode\":\"overlay\",\"size\":10,\"solidity\":0.2}},\"type\":\"histogram\"}],\"scattergl\":[{\"type\":\"scattergl\",\"marker\":{\"colorbar\":{\"outlinewidth\":0,\"ticks\":\"\"}}}],\"scatter3d\":[{\"type\":\"scatter3d\",\"line\":{\"colorbar\":{\"outlinewidth\":0,\"ticks\":\"\"}},\"marker\":{\"colorbar\":{\"outlinewidth\":0,\"ticks\":\"\"}}}],\"scattermapbox\":[{\"type\":\"scattermapbox\",\"marker\":{\"colorbar\":{\"outlinewidth\":0,\"ticks\":\"\"}}}],\"scatterternary\":[{\"type\":\"scatterternary\",\"marker\":{\"colorbar\":{\"outlinewidth\":0,\"ticks\":\"\"}}}],\"scattercarpet\":[{\"type\":\"scattercarpet\",\"marker\":{\"colorbar\":{\"outlinewidth\":0,\"ticks\":\"\"}}}],\"carpet\":[{\"aaxis\":{\"endlinecolor\":\"#2a3f5f\",\"gridcolor\":\"white\",\"linecolor\":\"white\",\"minorgridcolor\":\"white\",\"startlinecolor\":\"#2a3f5f\"},\"baxis\":{\"endlinecolor\":\"#2a3f5f\",\"gridcolor\":\"white\",\"linecolor\":\"white\",\"minorgridcolor\":\"white\",\"startlinecolor\":\"#2a3f5f\"},\"type\":\"carpet\"}],\"table\":[{\"cells\":{\"fill\":{\"color\":\"#EBF0F8\"},\"line\":{\"color\":\"white\"}},\"header\":{\"fill\":{\"color\":\"#C8D4E3\"},\"line\":{\"color\":\"white\"}},\"type\":\"table\"}],\"barpolar\":[{\"marker\":{\"line\":{\"color\":\"#E5ECF6\",\"width\":0.5},\"pattern\":{\"fillmode\":\"overlay\",\"size\":10,\"solidity\":0.2}},\"type\":\"barpolar\"}],\"pie\":[{\"automargin\":true,\"type\":\"pie\"}]},\"layout\":{\"autotypenumbers\":\"strict\",\"colorway\":[\"#636efa\",\"#EF553B\",\"#00cc96\",\"#ab63fa\",\"#FFA15A\",\"#19d3f3\",\"#FF6692\",\"#B6E880\",\"#FF97FF\",\"#FECB52\"],\"font\":{\"color\":\"#2a3f5f\"},\"hovermode\":\"closest\",\"hoverlabel\":{\"align\":\"left\"},\"paper_bgcolor\":\"white\",\"plot_bgcolor\":\"#E5ECF6\",\"polar\":{\"bgcolor\":\"#E5ECF6\",\"angularaxis\":{\"gridcolor\":\"white\",\"linecolor\":\"white\",\"ticks\":\"\"},\"radialaxis\":{\"gridcolor\":\"white\",\"linecolor\":\"white\",\"ticks\":\"\"}},\"ternary\":{\"bgcolor\":\"#E5ECF6\",\"aaxis\":{\"gridcolor\":\"white\",\"linecolor\":\"white\",\"ticks\":\"\"},\"baxis\":{\"gridcolor\":\"white\",\"linecolor\":\"white\",\"ticks\":\"\"},\"caxis\":{\"gridcolor\":\"white\",\"linecolor\":\"white\",\"ticks\":\"\"}},\"coloraxis\":{\"colorbar\":{\"outlinewidth\":0,\"ticks\":\"\"}},\"colorscale\":{\"sequential\":[[0.0,\"#0d0887\"],[0.1111111111111111,\"#46039f\"],[0.2222222222222222,\"#7201a8\"],[0.3333333333333333,\"#9c179e\"],[0.4444444444444444,\"#bd3786\"],[0.5555555555555556,\"#d8576b\"],[0.6666666666666666,\"#ed7953\"],[0.7777777777777778,\"#fb9f3a\"],[0.8888888888888888,\"#fdca26\"],[1.0,\"#f0f921\"]],\"sequentialminus\":[[0.0,\"#0d0887\"],[0.1111111111111111,\"#46039f\"],[0.2222222222222222,\"#7201a8\"],[0.3333333333333333,\"#9c179e\"],[0.4444444444444444,\"#bd3786\"],[0.5555555555555556,\"#d8576b\"],[0.6666666666666666,\"#ed7953\"],[0.7777777777777778,\"#fb9f3a\"],[0.8888888888888888,\"#fdca26\"],[1.0,\"#f0f921\"]],\"diverging\":[[0,\"#8e0152\"],[0.1,\"#c51b7d\"],[0.2,\"#de77ae\"],[0.3,\"#f1b6da\"],[0.4,\"#fde0ef\"],[0.5,\"#f7f7f7\"],[0.6,\"#e6f5d0\"],[0.7,\"#b8e186\"],[0.8,\"#7fbc41\"],[0.9,\"#4d9221\"],[1,\"#276419\"]]},\"xaxis\":{\"gridcolor\":\"white\",\"linecolor\":\"white\",\"ticks\":\"\",\"title\":{\"standoff\":15},\"zerolinecolor\":\"white\",\"automargin\":true,\"zerolinewidth\":2},\"yaxis\":{\"gridcolor\":\"white\",\"linecolor\":\"white\",\"ticks\":\"\",\"title\":{\"standoff\":15},\"zerolinecolor\":\"white\",\"automargin\":true,\"zerolinewidth\":2},\"scene\":{\"xaxis\":{\"backgroundcolor\":\"#E5ECF6\",\"gridcolor\":\"white\",\"linecolor\":\"white\",\"showbackground\":true,\"ticks\":\"\",\"zerolinecolor\":\"white\",\"gridwidth\":2},\"yaxis\":{\"backgroundcolor\":\"#E5ECF6\",\"gridcolor\":\"white\",\"linecolor\":\"white\",\"showbackground\":true,\"ticks\":\"\",\"zerolinecolor\":\"white\",\"gridwidth\":2},\"zaxis\":{\"backgroundcolor\":\"#E5ECF6\",\"gridcolor\":\"white\",\"linecolor\":\"white\",\"showbackground\":true,\"ticks\":\"\",\"zerolinecolor\":\"white\",\"gridwidth\":2}},\"shapedefaults\":{\"line\":{\"color\":\"#2a3f5f\"}},\"annotationdefaults\":{\"arrowcolor\":\"#2a3f5f\",\"arrowhead\":0,\"arrowwidth\":1},\"geo\":{\"bgcolor\":\"white\",\"landcolor\":\"#E5ECF6\",\"subunitcolor\":\"white\",\"showland\":true,\"showlakes\":true,\"lakecolor\":\"white\"},\"title\":{\"x\":0.05},\"mapbox\":{\"style\":\"light\"}}},\"xaxis\":{\"anchor\":\"y\",\"domain\":[0.0,1.0],\"title\":{\"text\":\"x\"}},\"yaxis\":{\"anchor\":\"x\",\"domain\":[0.0,1.0],\"title\":{\"text\":\"y\"}},\"legend\":{\"tracegroupgap\":0},\"margin\":{\"t\":60}},                        {\"responsive\": true}                    ).then(function(){\n",
              "                            \n",
              "var gd = document.getElementById('40c0d060-01e7-44df-92c5-0d904e8abb95');\n",
              "var x = new MutationObserver(function (mutations, observer) {{\n",
              "        var display = window.getComputedStyle(gd).display;\n",
              "        if (!display || display === 'none') {{\n",
              "            console.log([gd, 'removed!']);\n",
              "            Plotly.purge(gd);\n",
              "            observer.disconnect();\n",
              "        }}\n",
              "}});\n",
              "\n",
              "// Listen for the removal of the full notebook cells\n",
              "var notebookContainer = gd.closest('#notebook-container');\n",
              "if (notebookContainer) {{\n",
              "    x.observe(notebookContainer, {childList: true});\n",
              "}}\n",
              "\n",
              "// Listen for the clearing of the current output cell\n",
              "var outputEl = gd.closest('.output');\n",
              "if (outputEl) {{\n",
              "    x.observe(outputEl, {childList: true});\n",
              "}}\n",
              "\n",
              "                        })                };                            </script>        </div>\n",
              "</body>\n",
              "</html>"
            ]
          },
          "metadata": {}
        }
      ]
    },
    {
      "cell_type": "code",
      "source": [
        "px.bar(x=Avg_MaritalStatus_Wise_WorkLifeBalance[\"Attrition\"], y=Avg_MaritalStatus_Wise_WorkLifeBalance[\"WorkLifeBalance\"])"
      ],
      "metadata": {
        "id": "bBNpvqVPggBL",
        "colab": {
          "base_uri": "https://localhost:8080/",
          "height": 542
        },
        "outputId": "02ffdc19-cabc-47e9-99e1-51ff4834584c"
      },
      "execution_count": null,
      "outputs": [
        {
          "output_type": "display_data",
          "data": {
            "text/html": [
              "<html>\n",
              "<head><meta charset=\"utf-8\" /></head>\n",
              "<body>\n",
              "    <div>            <script src=\"https://cdnjs.cloudflare.com/ajax/libs/mathjax/2.7.5/MathJax.js?config=TeX-AMS-MML_SVG\"></script><script type=\"text/javascript\">if (window.MathJax && window.MathJax.Hub && window.MathJax.Hub.Config) {window.MathJax.Hub.Config({SVG: {font: \"STIX-Web\"}});}</script>                <script type=\"text/javascript\">window.PlotlyConfig = {MathJaxConfig: 'local'};</script>\n",
              "        <script src=\"https://cdn.plot.ly/plotly-2.18.2.min.js\"></script>                <div id=\"975bc2ea-5cd2-4ed5-9985-008e9f2c9e20\" class=\"plotly-graph-div\" style=\"height:525px; width:100%;\"></div>            <script type=\"text/javascript\">                                    window.PLOTLYENV=window.PLOTLYENV || {};                                    if (document.getElementById(\"975bc2ea-5cd2-4ed5-9985-008e9f2c9e20\")) {                    Plotly.newPlot(                        \"975bc2ea-5cd2-4ed5-9985-008e9f2c9e20\",                        [{\"alignmentgroup\":\"True\",\"hovertemplate\":\"x=%{x}<br>y=%{y}<extra></extra>\",\"legendgroup\":\"\",\"marker\":{\"color\":\"#636efa\",\"pattern\":{\"shape\":\"\"}},\"name\":\"\",\"offsetgroup\":\"\",\"orientation\":\"v\",\"showlegend\":false,\"textposition\":\"auto\",\"x\":[\"No\",\"Yes\"],\"xaxis\":\"x\",\"y\":[2.7807215025845857,2.661105127502339],\"yaxis\":\"y\",\"type\":\"bar\"}],                        {\"template\":{\"data\":{\"histogram2dcontour\":[{\"type\":\"histogram2dcontour\",\"colorbar\":{\"outlinewidth\":0,\"ticks\":\"\"},\"colorscale\":[[0.0,\"#0d0887\"],[0.1111111111111111,\"#46039f\"],[0.2222222222222222,\"#7201a8\"],[0.3333333333333333,\"#9c179e\"],[0.4444444444444444,\"#bd3786\"],[0.5555555555555556,\"#d8576b\"],[0.6666666666666666,\"#ed7953\"],[0.7777777777777778,\"#fb9f3a\"],[0.8888888888888888,\"#fdca26\"],[1.0,\"#f0f921\"]]}],\"choropleth\":[{\"type\":\"choropleth\",\"colorbar\":{\"outlinewidth\":0,\"ticks\":\"\"}}],\"histogram2d\":[{\"type\":\"histogram2d\",\"colorbar\":{\"outlinewidth\":0,\"ticks\":\"\"},\"colorscale\":[[0.0,\"#0d0887\"],[0.1111111111111111,\"#46039f\"],[0.2222222222222222,\"#7201a8\"],[0.3333333333333333,\"#9c179e\"],[0.4444444444444444,\"#bd3786\"],[0.5555555555555556,\"#d8576b\"],[0.6666666666666666,\"#ed7953\"],[0.7777777777777778,\"#fb9f3a\"],[0.8888888888888888,\"#fdca26\"],[1.0,\"#f0f921\"]]}],\"heatmap\":[{\"type\":\"heatmap\",\"colorbar\":{\"outlinewidth\":0,\"ticks\":\"\"},\"colorscale\":[[0.0,\"#0d0887\"],[0.1111111111111111,\"#46039f\"],[0.2222222222222222,\"#7201a8\"],[0.3333333333333333,\"#9c179e\"],[0.4444444444444444,\"#bd3786\"],[0.5555555555555556,\"#d8576b\"],[0.6666666666666666,\"#ed7953\"],[0.7777777777777778,\"#fb9f3a\"],[0.8888888888888888,\"#fdca26\"],[1.0,\"#f0f921\"]]}],\"heatmapgl\":[{\"type\":\"heatmapgl\",\"colorbar\":{\"outlinewidth\":0,\"ticks\":\"\"},\"colorscale\":[[0.0,\"#0d0887\"],[0.1111111111111111,\"#46039f\"],[0.2222222222222222,\"#7201a8\"],[0.3333333333333333,\"#9c179e\"],[0.4444444444444444,\"#bd3786\"],[0.5555555555555556,\"#d8576b\"],[0.6666666666666666,\"#ed7953\"],[0.7777777777777778,\"#fb9f3a\"],[0.8888888888888888,\"#fdca26\"],[1.0,\"#f0f921\"]]}],\"contourcarpet\":[{\"type\":\"contourcarpet\",\"colorbar\":{\"outlinewidth\":0,\"ticks\":\"\"}}],\"contour\":[{\"type\":\"contour\",\"colorbar\":{\"outlinewidth\":0,\"ticks\":\"\"},\"colorscale\":[[0.0,\"#0d0887\"],[0.1111111111111111,\"#46039f\"],[0.2222222222222222,\"#7201a8\"],[0.3333333333333333,\"#9c179e\"],[0.4444444444444444,\"#bd3786\"],[0.5555555555555556,\"#d8576b\"],[0.6666666666666666,\"#ed7953\"],[0.7777777777777778,\"#fb9f3a\"],[0.8888888888888888,\"#fdca26\"],[1.0,\"#f0f921\"]]}],\"surface\":[{\"type\":\"surface\",\"colorbar\":{\"outlinewidth\":0,\"ticks\":\"\"},\"colorscale\":[[0.0,\"#0d0887\"],[0.1111111111111111,\"#46039f\"],[0.2222222222222222,\"#7201a8\"],[0.3333333333333333,\"#9c179e\"],[0.4444444444444444,\"#bd3786\"],[0.5555555555555556,\"#d8576b\"],[0.6666666666666666,\"#ed7953\"],[0.7777777777777778,\"#fb9f3a\"],[0.8888888888888888,\"#fdca26\"],[1.0,\"#f0f921\"]]}],\"mesh3d\":[{\"type\":\"mesh3d\",\"colorbar\":{\"outlinewidth\":0,\"ticks\":\"\"}}],\"scatter\":[{\"fillpattern\":{\"fillmode\":\"overlay\",\"size\":10,\"solidity\":0.2},\"type\":\"scatter\"}],\"parcoords\":[{\"type\":\"parcoords\",\"line\":{\"colorbar\":{\"outlinewidth\":0,\"ticks\":\"\"}}}],\"scatterpolargl\":[{\"type\":\"scatterpolargl\",\"marker\":{\"colorbar\":{\"outlinewidth\":0,\"ticks\":\"\"}}}],\"bar\":[{\"error_x\":{\"color\":\"#2a3f5f\"},\"error_y\":{\"color\":\"#2a3f5f\"},\"marker\":{\"line\":{\"color\":\"#E5ECF6\",\"width\":0.5},\"pattern\":{\"fillmode\":\"overlay\",\"size\":10,\"solidity\":0.2}},\"type\":\"bar\"}],\"scattergeo\":[{\"type\":\"scattergeo\",\"marker\":{\"colorbar\":{\"outlinewidth\":0,\"ticks\":\"\"}}}],\"scatterpolar\":[{\"type\":\"scatterpolar\",\"marker\":{\"colorbar\":{\"outlinewidth\":0,\"ticks\":\"\"}}}],\"histogram\":[{\"marker\":{\"pattern\":{\"fillmode\":\"overlay\",\"size\":10,\"solidity\":0.2}},\"type\":\"histogram\"}],\"scattergl\":[{\"type\":\"scattergl\",\"marker\":{\"colorbar\":{\"outlinewidth\":0,\"ticks\":\"\"}}}],\"scatter3d\":[{\"type\":\"scatter3d\",\"line\":{\"colorbar\":{\"outlinewidth\":0,\"ticks\":\"\"}},\"marker\":{\"colorbar\":{\"outlinewidth\":0,\"ticks\":\"\"}}}],\"scattermapbox\":[{\"type\":\"scattermapbox\",\"marker\":{\"colorbar\":{\"outlinewidth\":0,\"ticks\":\"\"}}}],\"scatterternary\":[{\"type\":\"scatterternary\",\"marker\":{\"colorbar\":{\"outlinewidth\":0,\"ticks\":\"\"}}}],\"scattercarpet\":[{\"type\":\"scattercarpet\",\"marker\":{\"colorbar\":{\"outlinewidth\":0,\"ticks\":\"\"}}}],\"carpet\":[{\"aaxis\":{\"endlinecolor\":\"#2a3f5f\",\"gridcolor\":\"white\",\"linecolor\":\"white\",\"minorgridcolor\":\"white\",\"startlinecolor\":\"#2a3f5f\"},\"baxis\":{\"endlinecolor\":\"#2a3f5f\",\"gridcolor\":\"white\",\"linecolor\":\"white\",\"minorgridcolor\":\"white\",\"startlinecolor\":\"#2a3f5f\"},\"type\":\"carpet\"}],\"table\":[{\"cells\":{\"fill\":{\"color\":\"#EBF0F8\"},\"line\":{\"color\":\"white\"}},\"header\":{\"fill\":{\"color\":\"#C8D4E3\"},\"line\":{\"color\":\"white\"}},\"type\":\"table\"}],\"barpolar\":[{\"marker\":{\"line\":{\"color\":\"#E5ECF6\",\"width\":0.5},\"pattern\":{\"fillmode\":\"overlay\",\"size\":10,\"solidity\":0.2}},\"type\":\"barpolar\"}],\"pie\":[{\"automargin\":true,\"type\":\"pie\"}]},\"layout\":{\"autotypenumbers\":\"strict\",\"colorway\":[\"#636efa\",\"#EF553B\",\"#00cc96\",\"#ab63fa\",\"#FFA15A\",\"#19d3f3\",\"#FF6692\",\"#B6E880\",\"#FF97FF\",\"#FECB52\"],\"font\":{\"color\":\"#2a3f5f\"},\"hovermode\":\"closest\",\"hoverlabel\":{\"align\":\"left\"},\"paper_bgcolor\":\"white\",\"plot_bgcolor\":\"#E5ECF6\",\"polar\":{\"bgcolor\":\"#E5ECF6\",\"angularaxis\":{\"gridcolor\":\"white\",\"linecolor\":\"white\",\"ticks\":\"\"},\"radialaxis\":{\"gridcolor\":\"white\",\"linecolor\":\"white\",\"ticks\":\"\"}},\"ternary\":{\"bgcolor\":\"#E5ECF6\",\"aaxis\":{\"gridcolor\":\"white\",\"linecolor\":\"white\",\"ticks\":\"\"},\"baxis\":{\"gridcolor\":\"white\",\"linecolor\":\"white\",\"ticks\":\"\"},\"caxis\":{\"gridcolor\":\"white\",\"linecolor\":\"white\",\"ticks\":\"\"}},\"coloraxis\":{\"colorbar\":{\"outlinewidth\":0,\"ticks\":\"\"}},\"colorscale\":{\"sequential\":[[0.0,\"#0d0887\"],[0.1111111111111111,\"#46039f\"],[0.2222222222222222,\"#7201a8\"],[0.3333333333333333,\"#9c179e\"],[0.4444444444444444,\"#bd3786\"],[0.5555555555555556,\"#d8576b\"],[0.6666666666666666,\"#ed7953\"],[0.7777777777777778,\"#fb9f3a\"],[0.8888888888888888,\"#fdca26\"],[1.0,\"#f0f921\"]],\"sequentialminus\":[[0.0,\"#0d0887\"],[0.1111111111111111,\"#46039f\"],[0.2222222222222222,\"#7201a8\"],[0.3333333333333333,\"#9c179e\"],[0.4444444444444444,\"#bd3786\"],[0.5555555555555556,\"#d8576b\"],[0.6666666666666666,\"#ed7953\"],[0.7777777777777778,\"#fb9f3a\"],[0.8888888888888888,\"#fdca26\"],[1.0,\"#f0f921\"]],\"diverging\":[[0,\"#8e0152\"],[0.1,\"#c51b7d\"],[0.2,\"#de77ae\"],[0.3,\"#f1b6da\"],[0.4,\"#fde0ef\"],[0.5,\"#f7f7f7\"],[0.6,\"#e6f5d0\"],[0.7,\"#b8e186\"],[0.8,\"#7fbc41\"],[0.9,\"#4d9221\"],[1,\"#276419\"]]},\"xaxis\":{\"gridcolor\":\"white\",\"linecolor\":\"white\",\"ticks\":\"\",\"title\":{\"standoff\":15},\"zerolinecolor\":\"white\",\"automargin\":true,\"zerolinewidth\":2},\"yaxis\":{\"gridcolor\":\"white\",\"linecolor\":\"white\",\"ticks\":\"\",\"title\":{\"standoff\":15},\"zerolinecolor\":\"white\",\"automargin\":true,\"zerolinewidth\":2},\"scene\":{\"xaxis\":{\"backgroundcolor\":\"#E5ECF6\",\"gridcolor\":\"white\",\"linecolor\":\"white\",\"showbackground\":true,\"ticks\":\"\",\"zerolinecolor\":\"white\",\"gridwidth\":2},\"yaxis\":{\"backgroundcolor\":\"#E5ECF6\",\"gridcolor\":\"white\",\"linecolor\":\"white\",\"showbackground\":true,\"ticks\":\"\",\"zerolinecolor\":\"white\",\"gridwidth\":2},\"zaxis\":{\"backgroundcolor\":\"#E5ECF6\",\"gridcolor\":\"white\",\"linecolor\":\"white\",\"showbackground\":true,\"ticks\":\"\",\"zerolinecolor\":\"white\",\"gridwidth\":2}},\"shapedefaults\":{\"line\":{\"color\":\"#2a3f5f\"}},\"annotationdefaults\":{\"arrowcolor\":\"#2a3f5f\",\"arrowhead\":0,\"arrowwidth\":1},\"geo\":{\"bgcolor\":\"white\",\"landcolor\":\"#E5ECF6\",\"subunitcolor\":\"white\",\"showland\":true,\"showlakes\":true,\"lakecolor\":\"white\"},\"title\":{\"x\":0.05},\"mapbox\":{\"style\":\"light\"}}},\"xaxis\":{\"anchor\":\"y\",\"domain\":[0.0,1.0],\"title\":{\"text\":\"x\"}},\"yaxis\":{\"anchor\":\"x\",\"domain\":[0.0,1.0],\"title\":{\"text\":\"y\"}},\"legend\":{\"tracegroupgap\":0},\"margin\":{\"t\":60},\"barmode\":\"relative\"},                        {\"responsive\": true}                    ).then(function(){\n",
              "                            \n",
              "var gd = document.getElementById('975bc2ea-5cd2-4ed5-9985-008e9f2c9e20');\n",
              "var x = new MutationObserver(function (mutations, observer) {{\n",
              "        var display = window.getComputedStyle(gd).display;\n",
              "        if (!display || display === 'none') {{\n",
              "            console.log([gd, 'removed!']);\n",
              "            Plotly.purge(gd);\n",
              "            observer.disconnect();\n",
              "        }}\n",
              "}});\n",
              "\n",
              "// Listen for the removal of the full notebook cells\n",
              "var notebookContainer = gd.closest('#notebook-container');\n",
              "if (notebookContainer) {{\n",
              "    x.observe(notebookContainer, {childList: true});\n",
              "}}\n",
              "\n",
              "// Listen for the clearing of the current output cell\n",
              "var outputEl = gd.closest('.output');\n",
              "if (outputEl) {{\n",
              "    x.observe(outputEl, {childList: true});\n",
              "}}\n",
              "\n",
              "                        })                };                            </script>        </div>\n",
              "</body>\n",
              "</html>"
            ]
          },
          "metadata": {}
        }
      ]
    }
  ]
}