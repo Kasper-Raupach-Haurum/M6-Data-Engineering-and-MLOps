{
  "nbformat": 4,
  "nbformat_minor": 0,
  "metadata": {
    "colab": {
      "provenance": [],
      "authorship_tag": "ABX9TyPEb9fBpEba0dfGQ7wc0z6v",
      "include_colab_link": true
    },
    "kernelspec": {
      "name": "python3",
      "display_name": "Python 3"
    },
    "language_info": {
      "name": "python"
    }
  },
  "cells": [
    {
      "cell_type": "markdown",
      "metadata": {
        "id": "view-in-github",
        "colab_type": "text"
      },
      "source": [
        "<a href=\"https://colab.research.google.com/github/Kasper-Raupach-Haurum/M6-Data-Engineering-and-MLOps/blob/main/Test_test.ipynb\" target=\"_parent\"><img src=\"https://colab.research.google.com/assets/colab-badge.svg\" alt=\"Open In Colab\"/></a>"
      ]
    },
    {
      "cell_type": "markdown",
      "source": [],
      "metadata": {
        "id": "aRh-pN6GVzaK"
      }
    },
    {
      "cell_type": "code",
      "source": [
        "!pip install mlflow --quiet\n",
        "!pip install -U ipython -quiet\n",
        "!pip install streamlit --quiet\n",
        "!pip install pyngrok --quiet"
      ],
      "metadata": {
        "colab": {
          "base_uri": "https://localhost:8080/"
        },
        "id": "PAb3_kPpV8OR",
        "outputId": "04edbd15-84c5-46f7-b87e-683aa26a613c"
      },
      "execution_count": 46,
      "outputs": [
        {
          "output_type": "stream",
          "name": "stdout",
          "text": [
            "\n",
            "Usage:   \n",
            "  pip3 install [options] <requirement specifier> [package-index-options] ...\n",
            "  pip3 install [options] -r <requirements file> [package-index-options] ...\n",
            "  pip3 install [options] [-e] <vcs project url> ...\n",
            "  pip3 install [options] [-e] <local project path> ...\n",
            "  pip3 install [options] <archive url/path> ...\n",
            "\n",
            "no such option: -u\n"
          ]
        }
      ]
    },
    {
      "cell_type": "code",
      "source": [
        "import os\n",
        "import shutil\n",
        "import sys\n",
        "import pandas as pd\n",
        "import numpy as np\n",
        "from sklearn.datasets import fetch_20newsgroups\n",
        "from sklearn.feature_extraction.text import TfidfVectorizer\n",
        "from sklearn.model_selection import train_test_split\n",
        "from sklearn.svm import LinearSVC\n",
        "from sklearn.pipeline import Pipeline\n",
        "from sklearn.metrics import accuracy_score\n",
        "from mlflow.tracking import MlflowClient\n",
        "from random import random, randint\n",
        "import mlflow\n",
        "import mlflow.sklearn"
      ],
      "metadata": {
        "id": "6hY2nUA4Vy16"
      },
      "execution_count": 47,
      "outputs": []
    },
    {
      "cell_type": "code",
      "source": [
        "# Fetch the dataset and split it\n",
        "newsgroups = fetch_20newsgroups(subset='all', remove=('headers', 'footers', 'quotes'))\n",
        "X_train, X_test, y_train, y_test = train_test_split(newsgroups.data, newsgroups.target, random_state=42)"
      ],
      "metadata": {
        "id": "20O23hBvXQiK"
      },
      "execution_count": null,
      "outputs": []
    },
    {
      "cell_type": "code",
      "source": [
        "# Create and train the pipeline\n",
        "pipeline = Pipeline([\n",
        "    ('tfidf', TfidfVectorizer(stop_words='english')),\n",
        "    ('clf', LinearSVC())\n",
        "])"
      ],
      "metadata": {
        "colab": {
          "base_uri": "https://localhost:8080/"
        },
        "id": "_KFmnYlpXWLD",
        "outputId": "b3530ae8-0676-4f3f-dcb9-b0ef42e4ccde"
      },
      "execution_count": null,
      "outputs": [
        {
          "output_type": "stream",
          "name": "stdout",
          "text": [
            "Accuracy: 0.7510611205432938\n"
          ]
        }
      ]
    },
    {
      "cell_type": "code",
      "source": [
        "pipeline.fit(X_train, y_train)\n",
        "predictions = pipeline.predict(X_test)\n",
        "print(f'Accuracy: {accuracy_score(y_test, predictions)}')"
      ],
      "metadata": {
        "id": "X3kcXB0Mg25Q"
      },
      "execution_count": null,
      "outputs": []
    },
    {
      "cell_type": "markdown",
      "source": [
        "##D"
      ],
      "metadata": {
        "id": "8rdbGNo3Xcby"
      }
    },
    {
      "cell_type": "code",
      "source": [
        "# Set the tracking URI and create a new experiment\n",
        "mlflow.set_tracking_uri(\"sqlite:///mlflow.db\")\n",
        "experiment_id = mlflow.create_experiment(\"Newsgroups_Classifier\")\n",
        "mlflow.set_experiment(\"Newsgroups_Classifier\")"
      ],
      "metadata": {
        "id": "jOkZWV7fg8Cn"
      },
      "execution_count": null,
      "outputs": []
    },
    {
      "cell_type": "code",
      "source": [
        "# Log parameters, metrics, and artifacts\n",
        "with mlflow.start_run(experiment_id=experiment_id):\n",
        "    mlflow.log_param(\"C\", 1.0)\n",
        "    mlflow.log_metric(\"accuracy\", accuracy_score(y_test, predictions))\n",
        "    mlflow.sklearn.log_model(pipeline, \"newsgroups_pipeline\")"
      ],
      "metadata": {
        "id": "-c1UxWnCXfWC"
      },
      "execution_count": null,
      "outputs": []
    },
    {
      "cell_type": "code",
      "source": [
        "%%writefile requirements.txt\n",
        "mlflow\n",
        "streamlit\n",
        "sklearn\n",
        "pandas\n",
        "numpy"
      ],
      "metadata": {
        "colab": {
          "base_uri": "https://localhost:8080/"
        },
        "id": "vKpASacGhm9I",
        "outputId": "3904c0fa-4418-41ab-9952-ab1b47ce4b3a"
      },
      "execution_count": null,
      "outputs": [
        {
          "output_type": "stream",
          "name": "stdout",
          "text": [
            "Writing requirements.txt\n"
          ]
        }
      ]
    },
    {
      "cell_type": "code",
      "source": [
        "%%writefile app.py\n",
        "import streamlit as st\n",
        "import mlflow\n",
        "import mlflow.sklearn\n",
        "import joblib\n",
        "\n",
        "st.title(\"20 Newsgroups Text Classifier\")\n",
        "\n",
        "# Load the model\n",
        "model = mlflow.sklearn.load_model(\"newsgroups_pipeline\")\n",
        "\n",
        "# Allow users to input text\n",
        "text = st.text_area(\"Enter text to classify:\")\n",
        "\n",
        "if text:\n",
        "    # Classify the input text\n",
        "    prediction = model.predict([text])[0]\n",
        "    st.write(f\"The predicted category is: {prediction}\")"
      ],
      "metadata": {
        "colab": {
          "base_uri": "https://localhost:8080/"
        },
        "id": "_Tv9llLJhyAx",
        "outputId": "3cc03b66-024a-4318-f604-ca3fb5ab26b7"
      },
      "execution_count": null,
      "outputs": [
        {
          "output_type": "stream",
          "name": "stdout",
          "text": [
            "Overwriting app.py\n"
          ]
        }
      ]
    },
    {
      "cell_type": "code",
      "source": [
        "# Save the requirements for the Streamlit app\n",
        "with open(\"requirements.txt\", \"w\") as f:\n",
        "    f.write(\"mlflow\\nstreamlit\\nsklearn\\npandas\\nnumpy\\n\")"
      ],
      "metadata": {
        "id": "7apa5TxpmjAj"
      },
      "execution_count": null,
      "outputs": []
    },
    {
      "cell_type": "code",
      "source": [
        "# Create the Streamlit app\n",
        "with open(\"app.py\", \"w\") as f:\n",
        "    f.write('''\n",
        "import streamlit as st\n",
        "import mlflow\n",
        "import mlflow.sklearn\n",
        "import joblib\n",
        "\n",
        "st.title(\"20 Newsgroups Text Classifier\")\n",
        "\n",
        "# Load the model\n",
        "model = mlflow.sklearn.load_model(\"newsgroups_pipeline\")\n",
        "\n",
        "# Allow users to input text\n",
        "text = st.text_area(\"Enter text to classify:\")\n",
        "\n",
        "if text:\n",
        "    # Classify the input text\n",
        "    prediction = model.predict([text])[0]\n",
        "    st.write(f\"The predicted category is: {prediction}\")\n",
        "''')\n"
      ],
      "metadata": {
        "id": "2CNCF7IYmswS"
      },
      "execution_count": null,
      "outputs": []
    },
    {
      "cell_type": "markdown",
      "source": [
        "##DDD"
      ],
      "metadata": {
        "id": "N-GRq3UiYSFy"
      }
    },
    {
      "cell_type": "code",
      "source": [
        "%%writefile Dockerfile\n",
        "# Use the official Python image as the base image\n",
        "FROM python:3.8-slim\n",
        "\n",
        "# Set the working directory\n",
        "WORKDIR /app\n",
        "\n",
        "# Copy the requirements file into the container\n",
        "COPY requirements.txt .\n",
        "\n",
        "# Install the required packages\n",
        "RUN pip install --trusted-host pypi.python.org -r requirements.txt\n",
        "\n",
        "# Copy the rest of the application code\n",
        "COPY . .\n",
        "\n",
        "# Expose the port the app will run on\n",
        "EXPOSE 8501\n",
        "\n",
        "# Start the Streamlit app\n",
        "CMD [\"streamlit\", \"run\", \"app.py\"]"
      ],
      "metadata": {
        "colab": {
          "base_uri": "https://localhost:8080/"
        },
        "id": "BM8JgaRMiEXY",
        "outputId": "b8b9bf5b-125e-4802-d09c-69a31ff32693"
      },
      "execution_count": null,
      "outputs": [
        {
          "output_type": "stream",
          "name": "stdout",
          "text": [
            "Writing Dockerfile\n"
          ]
        }
      ]
    },
    {
      "cell_type": "code",
      "source": [
        "# Create a Dockerfile\n",
        "with open(\"Dockerfile\", \"w\") as f:\n",
        "    f.write('''\n",
        "FROM python:3.8-slim\n",
        "\n",
        "WORKDIR /app\n",
        "\n",
        "COPY requirements.txt ./requirements.txt\n",
        "RUN pip install -r requirements.txt\n",
        "\n",
        "COPY . .\n",
        "\n",
        "EXPOSE 8501\n",
        "\n",
        "CMD [\"streamlit\", \"run\", \"app.py\"]\n",
        "''')"
      ],
      "metadata": {
        "id": "xaIX4NsAmxFa"
      },
      "execution_count": null,
      "outputs": []
    },
    {
      "cell_type": "code",
      "source": [
        "# Provide instructions for running the app from Docker Hub repository\n",
        "print(\"\"\"\n",
        "1. Build the Docker image: \n",
        "   docker build -t your_dockerhub_username/newsgroups_classifier .\n",
        "\n",
        "2. Push the Docker image to Docker Hub: \n",
        "   docker push your_dockerhub_username/newsgroups_classifier\n",
        "\n",
        "3. Run the Docker container: \n",
        "   docker run -p 8501:8501 your_dockerhub_username/newsgroups_classifier\n",
        "\"\"\")"
      ],
      "metadata": {
        "id": "RFVhxtwpm9xz"
      },
      "execution_count": null,
      "outputs": []
    }
  ]
}