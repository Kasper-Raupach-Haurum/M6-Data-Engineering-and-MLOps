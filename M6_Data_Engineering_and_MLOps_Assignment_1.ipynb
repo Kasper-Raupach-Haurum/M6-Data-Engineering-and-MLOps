{
  "nbformat": 4,
  "nbformat_minor": 0,
  "metadata": {
    "colab": {
      "provenance": [],
      "machine_shape": "hm",
      "authorship_tag": "ABX9TyOQqEid69Vp3R0+P7Yb08A7",
      "include_colab_link": true
    },
    "kernelspec": {
      "name": "python3",
      "display_name": "Python 3"
    },
    "language_info": {
      "name": "python"
    },
    "accelerator": "GPU",
    "gpuClass": "premium"
  },
  "cells": [
    {
      "cell_type": "markdown",
      "metadata": {
        "id": "view-in-github",
        "colab_type": "text"
      },
      "source": [
        "<a href=\"https://colab.research.google.com/github/Kasper-Raupach-Haurum/M6-Data-Engineering-and-MLOps/blob/main/M6_Data_Engineering_and_MLOps_Assignment_1.ipynb\" target=\"_parent\"><img src=\"https://colab.research.google.com/assets/colab-badge.svg\" alt=\"Open In Colab\"/></a>"
      ]
    },
    {
      "cell_type": "markdown",
      "source": [
        "In conclusion, our Assignment 1 notebook demonstrates the implementation of a semantic search application using Gradio, SQLite, and Hugging Face's Sentence Transformers. \n",
        "\n",
        "By creating & connecting to an SQLite database containing a limited set of documents, we preprocess and create embeddings for each document using a pretrained SentenceTransformer(\"paraphrase-MiniLM-L6-v2\") model.\n",
        "\n",
        "The user can then search for similar documents by entering a query through the Gradio interface, which displays the most relevant results based on cosine similarity scores. \n",
        "\n",
        "Finally, we enhance the application by incorporating a more comprehensive dataset, the 20Newsgroup dataset from scikit-learn, to showcase the potential of semantic search in finding relevant information across a larger collection of documents."
      ],
      "metadata": {
        "id": "xtwlwY-o5bPs"
      }
    }
  ]
}