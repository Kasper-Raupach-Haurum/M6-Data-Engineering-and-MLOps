{
  "nbformat": 4,
  "nbformat_minor": 0,
  "metadata": {
    "colab": {
      "provenance": [],
      "authorship_tag": "ABX9TyNzxDlVM4FOpNyqlrULGKS0",
      "include_colab_link": true
    },
    "kernelspec": {
      "name": "python3",
      "display_name": "Python 3"
    },
    "language_info": {
      "name": "python"
    }
  },
  "cells": [
    {
      "cell_type": "markdown",
      "metadata": {
        "id": "view-in-github",
        "colab_type": "text"
      },
      "source": [
        "<a href=\"https://colab.research.google.com/github/Kasper-Raupach-Haurum/M6-Data-Engineering-and-MLOps/blob/main/M6_Data_Engineering_and_MLOps_Assignment_4.ipynb\" target=\"_parent\"><img src=\"https://colab.research.google.com/assets/colab-badge.svg\" alt=\"Open In Colab\"/></a>"
      ]
    },
    {
      "cell_type": "code",
      "source": [
        "!git clone \"https://github.com/Kasper-Raupach-Haurum/M6-Data-Engineering-and-MLOps.git\""
      ],
      "metadata": {
        "colab": {
          "base_uri": "https://localhost:8080/"
        },
        "id": "0rg8jkT3ULsv",
        "outputId": "f42483b2-9ac9-44d7-c048-2e05ca9bda5a"
      },
      "execution_count": 75,
      "outputs": [
        {
          "output_type": "stream",
          "name": "stdout",
          "text": [
            "fatal: destination path 'M6-Data-Engineering-and-MLOps' already exists and is not an empty directory.\n"
          ]
        }
      ]
    },
    {
      "cell_type": "code",
      "source": [
        "!pip install mlflow --quiet\n",
        "!pip install pyjokes --quiet\n",
        "!mlflow"
      ],
      "metadata": {
        "colab": {
          "base_uri": "https://localhost:8080/"
        },
        "id": "5GQVT1WqUOTw",
        "outputId": "7a5e9cf4-19d0-4cbc-e764-3e6b6c188a72"
      },
      "execution_count": 88,
      "outputs": [
        {
          "output_type": "stream",
          "name": "stdout",
          "text": [
            "Usage: mlflow [OPTIONS] COMMAND [ARGS]...\n",
            "\n",
            "Options:\n",
            "  --version  Show the version and exit.\n",
            "  --help     Show this message and exit.\n",
            "\n",
            "Commands:\n",
            "  artifacts    Upload, list, and download...\n",
            "  db           Commands for managing an...\n",
            "  deployments  Deploy MLflow models to custom...\n",
            "  doctor       Prints out useful information for\n",
            "               debugging issues with MLflow.\n",
            "  experiments  Manage experiments.\n",
            "  gc           Permanently delete runs in the\n",
            "               `deleted` lifecycle stage.\n",
            "  models       Deploy MLflow models locally.\n",
            "  recipes      Run MLflow Recipes and inspect...\n",
            "  run          Run an MLflow project from the...\n",
            "  runs         Manage runs.\n",
            "  sagemaker    Serve models on SageMaker.\n",
            "  server       Run the MLflow tracking server.\n"
          ]
        }
      ]
    },
    {
      "cell_type": "code",
      "execution_count": 89,
      "metadata": {
        "id": "R6rPZ15QUBjR"
      },
      "outputs": [],
      "source": [
        "# Import necessary libraries\n",
        "import pyjokes\n",
        "import pandas as pd\n",
        "import numpy as np\n",
        "from sklearn.model_selection import train_test_split\n",
        "from sklearn.linear_model import ElasticNet\n",
        "from sklearn.metrics import mean_squared_error, mean_absolute_error, r2_score\n",
        "import mlflow\n",
        "import mlflow.sklearn"
      ]
    },
    {
      "cell_type": "code",
      "source": [
        "# Set up MLflow experiment\n",
        "mlflow.set_experiment('HR')"
      ],
      "metadata": {
        "colab": {
          "base_uri": "https://localhost:8080/"
        },
        "id": "wjs7qW8jYrQ5",
        "outputId": "bf010750-d4dd-4bf6-b815-61527ed2ab68"
      },
      "execution_count": 78,
      "outputs": [
        {
          "output_type": "execute_result",
          "data": {
            "text/plain": [
              "<Experiment: artifact_location='file:///content/mlruns/316513267277040799', creation_time=1683129930927, experiment_id='316513267277040799', last_update_time=1683129930927, lifecycle_stage='active', name='HR', tags={}>"
            ]
          },
          "metadata": {},
          "execution_count": 78
        }
      ]
    },
    {
      "cell_type": "code",
      "source": [
        "# Function to load data\n",
        "def load_data():\n",
        "    hr_df = pd.read_csv('M6-Data-Engineering-and-MLOps/general_data.csv')\n",
        "    es_df = pd.read_csv('M6-Data-Engineering-and-MLOps/employee_survey_data.csv')\n",
        "    ms_df = pd.read_csv('M6-Data-Engineering-and-MLOps/manager_survey_data.csv')\n",
        "    ems_df = pd.merge(es_df, ms_df)\n",
        "    hr_df = pd.merge(hr_df, ems_df)\n",
        "    return hr_df"
      ],
      "metadata": {
        "id": "GUCoCFmQUZxA"
      },
      "execution_count": 79,
      "outputs": []
    },
    {
      "cell_type": "code",
      "source": [
        "# Function to preprocess data\n",
        "def preprocess_data(hr_df):\n",
        "    # Drop unnecessary columns\n",
        "    hr_df.drop(['BusinessTravel', 'EmployeeCount', 'Department', 'EducationField', 'Gender',\n",
        "                'JobRole', 'MaritalStatus', 'Over18', 'StandardHours'], axis=1, inplace=True)\n",
        "\n",
        "    # Drop duplicates\n",
        "    hr_df.drop_duplicates(subset=['Age', 'Attrition', 'DistanceFromHome', 'MonthlyIncome'], inplace=True)\n",
        "\n",
        "    # Fill missing values\n",
        "    hr_df['NumCompaniesWorked'].fillna(3, inplace=True)\n",
        "    hr_df['EnvironmentSatisfaction'].fillna(3, inplace=True)\n",
        "    hr_df['JobSatisfaction'].fillna(3, inplace=True)\n",
        "    hr_df['WorkLifeBalance'].fillna(3, inplace=True)\n",
        "    hr_df['TotalWorkingYears'].fillna(11, inplace=True)\n",
        "\n",
        "    # Convert data types\n",
        "    hr_df['Attrition'].replace({'No': 0, 'Yes': 1}, inplace=True)\n",
        "    hr_df['NumCompaniesWorked'] = hr_df['NumCompaniesWorked'].astype(int)\n",
        "    hr_df['TotalWorkingYears'] = hr_df['TotalWorkingYears'].astype(int)\n",
        "    hr_df['EnvironmentSatisfaction'] = hr_df['EnvironmentSatisfaction'].astype(int)\n",
        "    hr_df['JobSatisfaction'] = hr_df['JobSatisfaction'].astype(int)\n",
        "    hr_df['WorkLifeBalance'] = hr_df['WorkLifeBalance'].astype(int)\n",
        "\n",
        "    return hr_df"
      ],
      "metadata": {
        "id": "oD7dezDyY4WF"
      },
      "execution_count": 80,
      "outputs": []
    },
    {
      "cell_type": "code",
      "source": [
        "# Function to define evaluation metrics\n",
        "def eval_metrics(actual, pred):\n",
        "    rmse = np.sqrt(mean_squared_error(actual, pred))\n",
        "    mae = mean_absolute_error(actual, pred)\n",
        "    r2 = r2_score(actual, pred)\n",
        "    return rmse, mae, r2"
      ],
      "metadata": {
        "id": "eGUfOpAoY-R7"
      },
      "execution_count": 81,
      "outputs": []
    },
    {
      "cell_type": "code",
      "source": [
        "# Function to train the model\n",
        "def train_model(hr_df, alpha, l1_ratio):\n",
        "    train_df, test_df = train_test_split(hr_df, test_size=0.2, random_state=42)\n",
        "\n",
        "    train_x = train_df.drop([\"Attrition\"], axis=1)\n",
        "    test_x = test_df.drop([\"Attrition\"], axis=1)\n",
        "    train_y = train_df[[\"Attrition\"]]\n",
        "    test_y = test_df[[\"Attrition\"]]\n",
        "\n",
        "    with mlflow.start_run():\n",
        "        lr = ElasticNet(alpha=alpha, l1_ratio=l1_ratio, random_state=42)\n",
        "        lr.fit(train_x, train_y)\n",
        "\n",
        "        predicted_qualities = lr.predict(test_x)\n",
        "        (rmse, mae, r2) = eval_metrics(test_y, predicted_qualities)\n",
        "\n",
        "        print(\"Elasticnet model (alpha=%f, l1_ratio=%f):\" % (alpha,l1_ratio))\n",
        "        print(\"  RMSE: %s\" % rmse)\n",
        "        print(\"  MAE: %s\" % mae)\n",
        "        print(\"  R2: %s\" % r2)\n",
        "\n",
        "        mlflow.log_param(\"alpha\", alpha)\n",
        "        mlflow.log_param(\"l1_ratio\", l1_ratio)\n",
        "        mlflow.log_metric(\"rmse\", rmse)\n",
        "        mlflow.log_metric(\"r2\", r2)\n",
        "        mlflow.log_metric(\"mae\", mae)\n",
        "\n",
        "        mlflow.sklearn.log_model(lr, \"model\")"
      ],
      "metadata": {
        "id": "z2yoDpOdZCcb"
      },
      "execution_count": 82,
      "outputs": []
    },
    {
      "cell_type": "code",
      "source": [
        "# Main function to execute the script\n",
        "def main():\n",
        "    hr_df = load_data()\n",
        "    hr_df = preprocess_data(hr_df)\n",
        "    \n",
        "    # Print the shape of hr_df\n",
        "    hrdf = hr_df[['Age', 'Attrition', 'DistanceFromHome', 'MonthlyIncome']]\n",
        "    print(f\"Shape of hrdf: {hrdf.shape}\")\n",
        "    \n",
        "    # Print a random generated joke\n",
        "    joke = pyjokes.get_joke()\n",
        "    print(f\"Random joke of the day: {joke}\")\n",
        "    \n",
        "    # Train the model with different hyperparameters\n",
        "    train_model(hr_df, 0.5, 0.5)\n",
        "    train_model(hr_df, 0.5, 0.4)\n",
        "    train_model(hr_df, 0.5, 0.3)\n",
        "    train_model(hr_df, 0.5, 0.2)\n",
        "    train_model(hr_df, 0.5, 0.1)\n",
        "\n",
        "if __name__ == \"__main__\":\n",
        "    main()"
      ],
      "metadata": {
        "colab": {
          "base_uri": "https://localhost:8080/"
        },
        "id": "o5YKc4PpZKTD",
        "outputId": "05a1b687-49e6-42f9-ef56-e7e25a506ae5"
      },
      "execution_count": 90,
      "outputs": [
        {
          "output_type": "stream",
          "name": "stdout",
          "text": [
            "Shape of hrdf: (1470, 4)\n",
            "Random joke: Waiter: He's choking! Is anyone a doctor? Programmer: I'm a Vim user.\n",
            "Elasticnet model (alpha=0.500000, l1_ratio=0.500000):\n",
            "  RMSE: 0.380037905409416\n",
            "  MAE: 0.2751799142806001\n",
            "  R2: 0.02263770593526393\n",
            "Elasticnet model (alpha=0.500000, l1_ratio=0.400000):\n",
            "  RMSE: 0.3792424164733617\n",
            "  MAE: 0.274226562329349\n",
            "  R2: 0.026725020255458976\n",
            "Elasticnet model (alpha=0.500000, l1_ratio=0.300000):\n",
            "  RMSE: 0.378547795751557\n",
            "  MAE: 0.27327413810999185\n",
            "  R2: 0.030287057656103844\n",
            "Elasticnet model (alpha=0.500000, l1_ratio=0.200000):\n",
            "  RMSE: 0.3772845189861044\n",
            "  MAE: 0.27017114667116326\n",
            "  R2: 0.036748444051532325\n",
            "Elasticnet model (alpha=0.500000, l1_ratio=0.100000):\n",
            "  RMSE: 0.3773145686987234\n",
            "  MAE: 0.26848989069241347\n",
            "  R2: 0.03659499707084324\n"
          ]
        }
      ]
    }
  ]
}