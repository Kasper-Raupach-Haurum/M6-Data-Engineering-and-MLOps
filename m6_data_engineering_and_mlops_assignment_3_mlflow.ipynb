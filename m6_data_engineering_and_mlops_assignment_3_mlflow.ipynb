{
  "nbformat": 4,
  "nbformat_minor": 0,
  "metadata": {
    "colab": {
      "provenance": [],
      "collapsed_sections": [
        "taXL54TpWLs_"
      ],
      "toc_visible": true,
      "include_colab_link": true
    },
    "kernelspec": {
      "name": "python3",
      "display_name": "Python 3"
    },
    "language_info": {
      "name": "python"
    }
  },
  "cells": [
    {
      "cell_type": "markdown",
      "metadata": {
        "id": "view-in-github",
        "colab_type": "text"
      },
      "source": [
        "<a href=\"https://colab.research.google.com/github/Kasper-Raupach-Haurum/M6-Data-Engineering-and-MLOps/blob/main/m6_data_engineering_and_mlops_assignment_3_mlflow.ipynb\" target=\"_parent\"><img src=\"https://colab.research.google.com/assets/colab-badge.svg\" alt=\"Open In Colab\"/></a>"
      ]
    },
    {
      "cell_type": "markdown",
      "source": [
        "## **Data library & loading**"
      ],
      "metadata": {
        "id": "qd6bgUmQvlP_"
      }
    },
    {
      "cell_type": "markdown",
      "source": [
        "At the first phase of the project importing important libraries and loading the HR dataset is the main key. Here, HR dataset from our previous project will be used for Elastic net and it will be transfered to MLflow to track and monitor the project. Where the optimal and best case model can be identified."
      ],
      "metadata": {
        "id": "OiyIviw7JspR"
      }
    },
    {
      "cell_type": "code",
      "execution_count": null,
      "metadata": {
        "colab": {
          "base_uri": "https://localhost:8080/"
        },
        "id": "q9tdJ2ZI_Wje",
        "outputId": "e4d67e79-a4ba-4589-8e4c-63b0bfa3c475"
      },
      "outputs": [
        {
          "output_type": "stream",
          "name": "stdout",
          "text": [
            "Mounted at /content/drive\n"
          ]
        }
      ],
      "source": [
        "from google.colab import drive\n",
        "drive.mount('/content/drive')"
      ]
    },
    {
      "cell_type": "code",
      "source": [
        "path = '/content/drive/MyDrive/Assignment/Assignments/M1-assignment-datasets/HR_attrition/general_data.csv'"
      ],
      "metadata": {
        "id": "yqLlqLdGUnnk"
      },
      "execution_count": null,
      "outputs": []
    },
    {
      "cell_type": "code",
      "source": [
        "!pip install mlflow --quiet\n",
        "!pip install pyngrok --quiet"
      ],
      "metadata": {
        "id": "Qo4WwJGt6HNs",
        "colab": {
          "base_uri": "https://localhost:8080/"
        },
        "outputId": "f5c3d503-f38f-46c5-dd63-8f2789f7b674"
      },
      "execution_count": null,
      "outputs": [
        {
          "output_type": "stream",
          "name": "stdout",
          "text": [
            "\u001b[2K     \u001b[90m━━━━━━━━━━━━━━━━━━━━━━━━━━━━━━━━━━━━━━━━\u001b[0m \u001b[32m17.7/17.7 MB\u001b[0m \u001b[31m65.1 MB/s\u001b[0m eta \u001b[36m0:00:00\u001b[0m\n",
            "\u001b[2K     \u001b[90m━━━━━━━━━━━━━━━━━━━━━━━━━━━━━━━━━━━━━━\u001b[0m \u001b[32m184.3/184.3 kB\u001b[0m \u001b[31m16.1 MB/s\u001b[0m eta \u001b[36m0:00:00\u001b[0m\n",
            "\u001b[2K     \u001b[90m━━━━━━━━━━━━━━━━━━━━━━━━━━━━━━━━━━━━━━\u001b[0m \u001b[32m147.5/147.5 kB\u001b[0m \u001b[31m15.5 MB/s\u001b[0m eta \u001b[36m0:00:00\u001b[0m\n",
            "\u001b[2K     \u001b[90m━━━━━━━━━━━━━━━━━━━━━━━━━━━━━━━━━━━━━━\u001b[0m \u001b[32m212.9/212.9 kB\u001b[0m \u001b[31m20.2 MB/s\u001b[0m eta \u001b[36m0:00:00\u001b[0m\n",
            "\u001b[2K     \u001b[90m━━━━━━━━━━━━━━━━━━━━━━━━━━━━━━━━━━━━━━━━\u001b[0m \u001b[32m79.5/79.5 kB\u001b[0m \u001b[31m8.4 MB/s\u001b[0m eta \u001b[36m0:00:00\u001b[0m\n",
            "\u001b[2K     \u001b[90m━━━━━━━━━━━━━━━━━━━━━━━━━━━━━━━━━━━━━━━━\u001b[0m \u001b[32m82.7/82.7 kB\u001b[0m \u001b[31m8.7 MB/s\u001b[0m eta \u001b[36m0:00:00\u001b[0m\n",
            "\u001b[?25h  Preparing metadata (setup.py) ... \u001b[?25l\u001b[?25hdone\n",
            "\u001b[2K     \u001b[90m━━━━━━━━━━━━━━━━━━━━━━━━━━━━━━━━━━━━━━━━\u001b[0m \u001b[32m78.7/78.7 kB\u001b[0m \u001b[31m8.7 MB/s\u001b[0m eta \u001b[36m0:00:00\u001b[0m\n",
            "\u001b[2K     \u001b[90m━━━━━━━━━━━━━━━━━━━━━━━━━━━━━━━━━━━━━━━━\u001b[0m \u001b[32m62.7/62.7 kB\u001b[0m \u001b[31m6.1 MB/s\u001b[0m eta \u001b[36m0:00:00\u001b[0m\n",
            "\u001b[?25h  Building wheel for databricks-cli (setup.py) ... \u001b[?25l\u001b[?25hdone\n",
            "\u001b[2K     \u001b[90m━━━━━━━━━━━━━━━━━━━━━━━━━━━━━━━━━━━━━━\u001b[0m \u001b[32m681.2/681.2 kB\u001b[0m \u001b[31m18.0 MB/s\u001b[0m eta \u001b[36m0:00:00\u001b[0m\n",
            "\u001b[?25h  Preparing metadata (setup.py) ... \u001b[?25l\u001b[?25hdone\n",
            "  Building wheel for pyngrok (setup.py) ... \u001b[?25l\u001b[?25hdone\n"
          ]
        }
      ]
    },
    {
      "cell_type": "code",
      "source": [
        "!mlflow"
      ],
      "metadata": {
        "colab": {
          "base_uri": "https://localhost:8080/"
        },
        "id": "IgBS6jry6u_z",
        "outputId": "1046c127-ab24-4e2d-889d-272da96238e2"
      },
      "execution_count": null,
      "outputs": [
        {
          "output_type": "stream",
          "name": "stdout",
          "text": [
            "Usage: mlflow [OPTIONS] COMMAND [ARGS]...\n",
            "\n",
            "Options:\n",
            "  --version  Show the version and exit.\n",
            "  --help     Show this message and exit.\n",
            "\n",
            "Commands:\n",
            "  artifacts    Upload, list, and download...\n",
            "  db           Commands for managing an...\n",
            "  deployments  Deploy MLflow models to custom...\n",
            "  doctor       Prints out useful information for\n",
            "               debugging issues with MLflow.\n",
            "  experiments  Manage experiments.\n",
            "  gc           Permanently delete runs in the\n",
            "               `deleted` lifecycle stage.\n",
            "  models       Deploy MLflow models locally.\n",
            "  recipes      Run MLflow Recipes and inspect...\n",
            "  run          Run an MLflow project from the...\n",
            "  runs         Manage runs.\n",
            "  sagemaker    Serve models on SageMaker.\n",
            "  server       Run the MLflow tracking server.\n"
          ]
        }
      ]
    },
    {
      "cell_type": "code",
      "source": [
        "import os\n",
        "import shutil\n",
        "import pprint\n",
        "import sys\n",
        "import pandas as pd\n",
        "from pandas.plotting import scatter_matrix\n",
        "import numpy as np\n",
        "\n",
        "from random import random, randint\n",
        "import mlflow\n",
        "import mlflow.sklearn\n",
        "mlflow.set_experiment('HR_Attrition_1')\n",
        "\n",
        "from mlflow import log_metric, log_param, log_artifacts\n",
        "from sklearn.model_selection import train_test_split\n",
        "from sklearn.ensemble import RandomForestRegressor\n",
        "from sklearn.linear_model import ElasticNet\n",
        "from sklearn.metrics import mean_squared_error, mean_absolute_error, r2_score\n",
        "from mlflow.tracking import MlflowClient\n",
        "import warnings"
      ],
      "metadata": {
        "id": "3Vsn90y-6IIK",
        "colab": {
          "base_uri": "https://localhost:8080/"
        },
        "outputId": "4510cdb8-411c-4bee-db77-e7c52eb53f1f"
      },
      "execution_count": null,
      "outputs": [
        {
          "output_type": "stream",
          "name": "stderr",
          "text": [
            "2023/04/26 19:56:08 INFO mlflow.tracking.fluent: Experiment with name 'HR_Attrition_1' does not exist. Creating a new experiment.\n"
          ]
        }
      ]
    },
    {
      "cell_type": "code",
      "source": [
        "warnings.filterwarnings(\"ignore\")\n",
        "print(mlflow.__version__)"
      ],
      "metadata": {
        "colab": {
          "base_uri": "https://localhost:8080/"
        },
        "id": "NXXgl3bV6RiM",
        "outputId": "b56dad6d-0669-41eb-8459-3dba2e06193e"
      },
      "execution_count": null,
      "outputs": [
        {
          "output_type": "stream",
          "name": "stdout",
          "text": [
            "2.3.0\n"
          ]
        }
      ]
    },
    {
      "cell_type": "code",
      "source": [
        "HR = pd.read_csv(path)"
      ],
      "metadata": {
        "id": "dRaAfp3wVA34"
      },
      "execution_count": null,
      "outputs": []
    },
    {
      "cell_type": "code",
      "source": [
        "HR.info()"
      ],
      "metadata": {
        "id": "WrUOflCUVJ-7",
        "colab": {
          "base_uri": "https://localhost:8080/"
        },
        "outputId": "8cdbde71-a821-4644-ad21-c2938560b89f"
      },
      "execution_count": null,
      "outputs": [
        {
          "output_type": "stream",
          "name": "stdout",
          "text": [
            "<class 'pandas.core.frame.DataFrame'>\n",
            "RangeIndex: 4410 entries, 0 to 4409\n",
            "Data columns (total 24 columns):\n",
            " #   Column                   Non-Null Count  Dtype  \n",
            "---  ------                   --------------  -----  \n",
            " 0   Age                      4410 non-null   int64  \n",
            " 1   Attrition                4410 non-null   object \n",
            " 2   BusinessTravel           4410 non-null   object \n",
            " 3   Department               4410 non-null   object \n",
            " 4   DistanceFromHome         4410 non-null   int64  \n",
            " 5   Education                4410 non-null   int64  \n",
            " 6   EducationField           4410 non-null   object \n",
            " 7   EmployeeCount            4410 non-null   int64  \n",
            " 8   EmployeeID               4410 non-null   int64  \n",
            " 9   Gender                   4410 non-null   object \n",
            " 10  JobLevel                 4410 non-null   int64  \n",
            " 11  JobRole                  4410 non-null   object \n",
            " 12  MaritalStatus            4410 non-null   object \n",
            " 13  MonthlyIncome            4410 non-null   int64  \n",
            " 14  NumCompaniesWorked       4391 non-null   float64\n",
            " 15  Over18                   4410 non-null   object \n",
            " 16  PercentSalaryHike        4410 non-null   int64  \n",
            " 17  StandardHours            4410 non-null   int64  \n",
            " 18  StockOptionLevel         4410 non-null   int64  \n",
            " 19  TotalWorkingYears        4401 non-null   float64\n",
            " 20  TrainingTimesLastYear    4410 non-null   int64  \n",
            " 21  YearsAtCompany           4410 non-null   int64  \n",
            " 22  YearsSinceLastPromotion  4410 non-null   int64  \n",
            " 23  YearsWithCurrManager     4410 non-null   int64  \n",
            "dtypes: float64(2), int64(14), object(8)\n",
            "memory usage: 827.0+ KB\n"
          ]
        }
      ]
    },
    {
      "cell_type": "code",
      "source": [
        "path1 = '/content/drive/MyDrive/Assignment/Assignments/M1-assignment-datasets/HR_attrition/employee_survey_data.csv'"
      ],
      "metadata": {
        "id": "sEkjA4UIGbo1"
      },
      "execution_count": null,
      "outputs": []
    },
    {
      "cell_type": "code",
      "source": [
        "ES = pd.read_csv(path1)"
      ],
      "metadata": {
        "id": "jP6YzEh1VmjA"
      },
      "execution_count": null,
      "outputs": []
    },
    {
      "cell_type": "code",
      "source": [
        "path2 = '/content/drive/MyDrive/Assignment/Assignments/M1-assignment-datasets/HR_attrition/manager_survey_data.csv'"
      ],
      "metadata": {
        "id": "x7J77ci4Vy8H"
      },
      "execution_count": null,
      "outputs": []
    },
    {
      "cell_type": "code",
      "source": [
        "MS = pd.read_csv(path2)"
      ],
      "metadata": {
        "id": "pryYyRi_V57Y"
      },
      "execution_count": null,
      "outputs": []
    },
    {
      "cell_type": "code",
      "source": [
        "EMS = pd.merge(ES, MS)"
      ],
      "metadata": {
        "id": "tbcCese1V92Q"
      },
      "execution_count": null,
      "outputs": []
    },
    {
      "cell_type": "code",
      "source": [
        "EMS.info()"
      ],
      "metadata": {
        "colab": {
          "base_uri": "https://localhost:8080/"
        },
        "id": "85Bu4ek9hOga",
        "outputId": "910edd8a-6f29-4592-9f91-c78bf3e65ede"
      },
      "execution_count": null,
      "outputs": [
        {
          "output_type": "stream",
          "name": "stdout",
          "text": [
            "<class 'pandas.core.frame.DataFrame'>\n",
            "Int64Index: 4410 entries, 0 to 4409\n",
            "Data columns (total 6 columns):\n",
            " #   Column                   Non-Null Count  Dtype  \n",
            "---  ------                   --------------  -----  \n",
            " 0   EmployeeID               4410 non-null   int64  \n",
            " 1   EnvironmentSatisfaction  4385 non-null   float64\n",
            " 2   JobSatisfaction          4390 non-null   float64\n",
            " 3   WorkLifeBalance          4372 non-null   float64\n",
            " 4   JobInvolvement           4410 non-null   int64  \n",
            " 5   PerformanceRating        4410 non-null   int64  \n",
            "dtypes: float64(3), int64(3)\n",
            "memory usage: 241.2 KB\n"
          ]
        }
      ]
    },
    {
      "cell_type": "markdown",
      "source": [
        "## **EDA**"
      ],
      "metadata": {
        "id": "taXL54TpWLs_"
      }
    },
    {
      "cell_type": "markdown",
      "source": [
        "In the second phase of the project there will be some EDA. Where data will be resized and reshaped for the machine learning purpose. The HR dataset have some missing values and some unsupported conditions for machine learning project. In this section managing data through EDA will be the key."
      ],
      "metadata": {
        "id": "3PA1_1y8K3y8"
      }
    },
    {
      "cell_type": "code",
      "source": [
        "hr_df = pd.merge(HR, EMS)"
      ],
      "metadata": {
        "id": "ZQZ-M0MVgkp1"
      },
      "execution_count": null,
      "outputs": []
    },
    {
      "cell_type": "code",
      "source": [
        "hrdf = hr_df.drop_duplicates(subset = ['Age', 'Attrition', 'BusinessTravel', 'Department', 'DistanceFromHome', 'Education', 'EducationField', 'Gender', 'JobLevel', 'JobRole', 'MaritalStatus', 'MonthlyIncome', 'NumCompaniesWorked', 'PercentSalaryHike', 'StockOptionLevel', 'TotalWorkingYears', 'TrainingTimesLastYear', 'YearsAtCompany', 'YearsSinceLastPromotion', 'YearsWithCurrManager'])"
      ],
      "metadata": {
        "id": "kAzGB6eENXOk"
      },
      "execution_count": null,
      "outputs": []
    },
    {
      "cell_type": "code",
      "source": [
        "hrdf.shape"
      ],
      "metadata": {
        "colab": {
          "base_uri": "https://localhost:8080/"
        },
        "id": "z-NMSKPEQeyR",
        "outputId": "6bf23b74-5347-46af-9825-601338f3cafc"
      },
      "execution_count": null,
      "outputs": [
        {
          "output_type": "execute_result",
          "data": {
            "text/plain": [
              "(1498, 29)"
            ]
          },
          "metadata": {},
          "execution_count": 17
        }
      ]
    },
    {
      "cell_type": "code",
      "source": [
        "hrdf.info()"
      ],
      "metadata": {
        "colab": {
          "base_uri": "https://localhost:8080/"
        },
        "id": "yZv6gWGGWVvB",
        "outputId": "5c4f5dec-b9d4-4779-eee1-9dc2afc0619b"
      },
      "execution_count": null,
      "outputs": [
        {
          "output_type": "stream",
          "name": "stdout",
          "text": [
            "<class 'pandas.core.frame.DataFrame'>\n",
            "Int64Index: 1498 entries, 0 to 4409\n",
            "Data columns (total 29 columns):\n",
            " #   Column                   Non-Null Count  Dtype  \n",
            "---  ------                   --------------  -----  \n",
            " 0   Age                      1498 non-null   int64  \n",
            " 1   Attrition                1498 non-null   object \n",
            " 2   BusinessTravel           1498 non-null   object \n",
            " 3   Department               1498 non-null   object \n",
            " 4   DistanceFromHome         1498 non-null   int64  \n",
            " 5   Education                1498 non-null   int64  \n",
            " 6   EducationField           1498 non-null   object \n",
            " 7   EmployeeCount            1498 non-null   int64  \n",
            " 8   EmployeeID               1498 non-null   int64  \n",
            " 9   Gender                   1498 non-null   object \n",
            " 10  JobLevel                 1498 non-null   int64  \n",
            " 11  JobRole                  1498 non-null   object \n",
            " 12  MaritalStatus            1498 non-null   object \n",
            " 13  MonthlyIncome            1498 non-null   int64  \n",
            " 14  NumCompaniesWorked       1479 non-null   float64\n",
            " 15  Over18                   1498 non-null   object \n",
            " 16  PercentSalaryHike        1498 non-null   int64  \n",
            " 17  StandardHours            1498 non-null   int64  \n",
            " 18  StockOptionLevel         1498 non-null   int64  \n",
            " 19  TotalWorkingYears        1489 non-null   float64\n",
            " 20  TrainingTimesLastYear    1498 non-null   int64  \n",
            " 21  YearsAtCompany           1498 non-null   int64  \n",
            " 22  YearsSinceLastPromotion  1498 non-null   int64  \n",
            " 23  YearsWithCurrManager     1498 non-null   int64  \n",
            " 24  EnvironmentSatisfaction  1487 non-null   float64\n",
            " 25  JobSatisfaction          1491 non-null   float64\n",
            " 26  WorkLifeBalance          1485 non-null   float64\n",
            " 27  JobInvolvement           1498 non-null   int64  \n",
            " 28  PerformanceRating        1498 non-null   int64  \n",
            "dtypes: float64(5), int64(16), object(8)\n",
            "memory usage: 351.1+ KB\n"
          ]
        }
      ]
    },
    {
      "cell_type": "code",
      "source": [
        "#Numerical Data\n",
        "\n",
        "hrdf.select_dtypes('int64' ,'float64').columns"
      ],
      "metadata": {
        "colab": {
          "base_uri": "https://localhost:8080/"
        },
        "id": "K8fvDPidWhCH",
        "outputId": "c3b97f5b-73dc-4ec2-8bb9-cffa8804c883"
      },
      "execution_count": null,
      "outputs": [
        {
          "output_type": "execute_result",
          "data": {
            "text/plain": [
              "Index(['Age', 'DistanceFromHome', 'Education', 'EmployeeCount', 'EmployeeID',\n",
              "       'JobLevel', 'MonthlyIncome', 'PercentSalaryHike', 'StandardHours',\n",
              "       'StockOptionLevel', 'TrainingTimesLastYear', 'YearsAtCompany',\n",
              "       'YearsSinceLastPromotion', 'YearsWithCurrManager', 'JobInvolvement',\n",
              "       'PerformanceRating'],\n",
              "      dtype='object')"
            ]
          },
          "metadata": {},
          "execution_count": 19
        }
      ]
    },
    {
      "cell_type": "code",
      "source": [
        "#Categorical Data\n",
        "\n",
        "categorical_cols = hrdf.select_dtypes('object').columns\n",
        "categorical_cols"
      ],
      "metadata": {
        "colab": {
          "base_uri": "https://localhost:8080/"
        },
        "id": "JRKp8XlcY5NT",
        "outputId": "d09f6c32-82cd-4bc8-e735-b92f52f5a6bd"
      },
      "execution_count": null,
      "outputs": [
        {
          "output_type": "execute_result",
          "data": {
            "text/plain": [
              "Index(['Attrition', 'BusinessTravel', 'Department', 'EducationField', 'Gender',\n",
              "       'JobRole', 'MaritalStatus', 'Over18'],\n",
              "      dtype='object')"
            ]
          },
          "metadata": {},
          "execution_count": 20
        }
      ]
    },
    {
      "cell_type": "code",
      "source": [
        "#missing data (NULL or Nan)\n",
        "hrdf.isnull().sum()"
      ],
      "metadata": {
        "colab": {
          "base_uri": "https://localhost:8080/"
        },
        "id": "DwccM_IFbtJd",
        "outputId": "9c814b7e-a899-4743-9d73-c1dde8209cbd"
      },
      "execution_count": null,
      "outputs": [
        {
          "output_type": "execute_result",
          "data": {
            "text/plain": [
              "Age                         0\n",
              "Attrition                   0\n",
              "BusinessTravel              0\n",
              "Department                  0\n",
              "DistanceFromHome            0\n",
              "Education                   0\n",
              "EducationField              0\n",
              "EmployeeCount               0\n",
              "EmployeeID                  0\n",
              "Gender                      0\n",
              "JobLevel                    0\n",
              "JobRole                     0\n",
              "MaritalStatus               0\n",
              "MonthlyIncome               0\n",
              "NumCompaniesWorked         19\n",
              "Over18                      0\n",
              "PercentSalaryHike           0\n",
              "StandardHours               0\n",
              "StockOptionLevel            0\n",
              "TotalWorkingYears           9\n",
              "TrainingTimesLastYear       0\n",
              "YearsAtCompany              0\n",
              "YearsSinceLastPromotion     0\n",
              "YearsWithCurrManager        0\n",
              "EnvironmentSatisfaction    11\n",
              "JobSatisfaction             7\n",
              "WorkLifeBalance            13\n",
              "JobInvolvement              0\n",
              "PerformanceRating           0\n",
              "dtype: int64"
            ]
          },
          "metadata": {},
          "execution_count": 21
        }
      ]
    },
    {
      "cell_type": "code",
      "source": [
        "#Replacing value with fillna with the rounded up meamn value\n",
        "\n",
        "hrdf.NumCompaniesWorked = hrdf.NumCompaniesWorked.fillna(3)\n",
        "hrdf.EnvironmentSatisfaction = hrdf.EnvironmentSatisfaction.fillna(3)\n",
        "hrdf.JobSatisfaction = hrdf.JobSatisfaction.fillna(3)\n",
        "hrdf.WorkLifeBalance = hrdf.WorkLifeBalance.fillna(3)\n",
        "hrdf.TotalWorkingYears = hrdf.TotalWorkingYears.fillna(11)"
      ],
      "metadata": {
        "id": "8Mnx8bjqeLaf"
      },
      "execution_count": null,
      "outputs": []
    },
    {
      "cell_type": "code",
      "source": [
        "hrdf['NumCompaniesWorked'] = hrdf['NumCompaniesWorked'].astype(int)\n",
        "hrdf['TotalWorkingYears'] = hrdf['TotalWorkingYears'].astype(int)\n",
        "hrdf['EnvironmentSatisfaction'] = hrdf['EnvironmentSatisfaction'].astype(int)\n",
        "hrdf['JobSatisfaction'] = hrdf['JobSatisfaction'].astype(int)\n",
        "hrdf['WorkLifeBalance'] = hrdf['WorkLifeBalance'].astype(int)"
      ],
      "metadata": {
        "id": "HaPSZGFqQP72"
      },
      "execution_count": null,
      "outputs": []
    },
    {
      "cell_type": "code",
      "source": [
        "#no missing data (NULL or Nan)\n",
        "hrdf.isnull().sum()"
      ],
      "metadata": {
        "colab": {
          "base_uri": "https://localhost:8080/"
        },
        "id": "lZ_d0pbOfC_k",
        "outputId": "946c8cb3-6ab2-431f-f880-1651c98b8dcf"
      },
      "execution_count": null,
      "outputs": [
        {
          "output_type": "execute_result",
          "data": {
            "text/plain": [
              "Age                        0\n",
              "Attrition                  0\n",
              "BusinessTravel             0\n",
              "Department                 0\n",
              "DistanceFromHome           0\n",
              "Education                  0\n",
              "EducationField             0\n",
              "EmployeeCount              0\n",
              "EmployeeID                 0\n",
              "Gender                     0\n",
              "JobLevel                   0\n",
              "JobRole                    0\n",
              "MaritalStatus              0\n",
              "MonthlyIncome              0\n",
              "NumCompaniesWorked         0\n",
              "Over18                     0\n",
              "PercentSalaryHike          0\n",
              "StandardHours              0\n",
              "StockOptionLevel           0\n",
              "TotalWorkingYears          0\n",
              "TrainingTimesLastYear      0\n",
              "YearsAtCompany             0\n",
              "YearsSinceLastPromotion    0\n",
              "YearsWithCurrManager       0\n",
              "EnvironmentSatisfaction    0\n",
              "JobSatisfaction            0\n",
              "WorkLifeBalance            0\n",
              "JobInvolvement             0\n",
              "PerformanceRating          0\n",
              "dtype: int64"
            ]
          },
          "metadata": {},
          "execution_count": 24
        }
      ]
    },
    {
      "cell_type": "code",
      "source": [
        "hrdf"
      ],
      "metadata": {
        "colab": {
          "base_uri": "https://localhost:8080/"
        },
        "id": "cFzV9nwx9TwC",
        "outputId": "6271ae47-d8f5-4227-be9e-95652ce935ee"
      },
      "execution_count": null,
      "outputs": [
        {
          "output_type": "execute_result",
          "data": {
            "text/plain": [
              "      Age Attrition     BusinessTravel              Department  \\\n",
              "0      51        No      Travel_Rarely                   Sales   \n",
              "1      31       Yes  Travel_Frequently  Research & Development   \n",
              "2      32        No  Travel_Frequently  Research & Development   \n",
              "3      38        No         Non-Travel  Research & Development   \n",
              "4      32        No      Travel_Rarely  Research & Development   \n",
              "...   ...       ...                ...                     ...   \n",
              "3818   28       Yes      Travel_Rarely         Human Resources   \n",
              "3910   41        No         Non-Travel                   Sales   \n",
              "4226   36        No      Travel_Rarely  Research & Development   \n",
              "4395   40        No      Travel_Rarely  Research & Development   \n",
              "4409   40        No      Travel_Rarely  Research & Development   \n",
              "\n",
              "      DistanceFromHome  Education EducationField  EmployeeCount  EmployeeID  \\\n",
              "0                    6          2  Life Sciences              1           1   \n",
              "1                   10          1  Life Sciences              1           2   \n",
              "2                   17          4          Other              1           3   \n",
              "3                    2          5  Life Sciences              1           4   \n",
              "4                   10          1        Medical              1           5   \n",
              "...                ...        ...            ...            ...         ...   \n",
              "3818                 1          3        Medical              1        3819   \n",
              "3910                 2          2        Medical              1        3911   \n",
              "4226                 2          3  Life Sciences              1        4227   \n",
              "4395                 2          3  Life Sciences              1        4396   \n",
              "4409                28          3        Medical              1        4410   \n",
              "\n",
              "      Gender  ...  TotalWorkingYears TrainingTimesLastYear YearsAtCompany  \\\n",
              "0     Female  ...                  1                     6              1   \n",
              "1     Female  ...                  6                     3              5   \n",
              "2       Male  ...                  5                     2              5   \n",
              "3       Male  ...                 13                     5              8   \n",
              "4       Male  ...                  9                     2              6   \n",
              "...      ...  ...                ...                   ...            ...   \n",
              "3818  Female  ...                 11                     2              1   \n",
              "3910    Male  ...                 10                     5              3   \n",
              "4226    Male  ...                  5                     2              1   \n",
              "4395    Male  ...                  9                     4              9   \n",
              "4409    Male  ...                 11                     6             21   \n",
              "\n",
              "      YearsSinceLastPromotion  YearsWithCurrManager EnvironmentSatisfaction  \\\n",
              "0                           0                     0                       3   \n",
              "1                           1                     4                       3   \n",
              "2                           0                     3                       2   \n",
              "3                           7                     5                       4   \n",
              "4                           0                     4                       4   \n",
              "...                       ...                   ...                     ...   \n",
              "3818                        0                     0                       3   \n",
              "3910                        1                     2                       3   \n",
              "4226                        0                     0                       2   \n",
              "4395                        4                     7                       1   \n",
              "4409                        3                     9                       1   \n",
              "\n",
              "      JobSatisfaction  WorkLifeBalance  JobInvolvement  PerformanceRating  \n",
              "0                   4                2               3                  3  \n",
              "1                   2                4               2                  4  \n",
              "2                   2                1               3                  3  \n",
              "3                   4                3               2                  3  \n",
              "4                   1                3               3                  3  \n",
              "...               ...              ...             ...                ...  \n",
              "3818                2                3               3                  3  \n",
              "3910                2                3               1                  3  \n",
              "4226                4                3               3                  3  \n",
              "4395                4                3               2                  3  \n",
              "4409                3                3               4                  3  \n",
              "\n",
              "[1498 rows x 29 columns]"
            ],
            "text/html": [
              "\n",
              "  <div id=\"df-64a5e343-cfb5-449a-9246-4be45d18ec7b\">\n",
              "    <div class=\"colab-df-container\">\n",
              "      <div>\n",
              "<style scoped>\n",
              "    .dataframe tbody tr th:only-of-type {\n",
              "        vertical-align: middle;\n",
              "    }\n",
              "\n",
              "    .dataframe tbody tr th {\n",
              "        vertical-align: top;\n",
              "    }\n",
              "\n",
              "    .dataframe thead th {\n",
              "        text-align: right;\n",
              "    }\n",
              "</style>\n",
              "<table border=\"1\" class=\"dataframe\">\n",
              "  <thead>\n",
              "    <tr style=\"text-align: right;\">\n",
              "      <th></th>\n",
              "      <th>Age</th>\n",
              "      <th>Attrition</th>\n",
              "      <th>BusinessTravel</th>\n",
              "      <th>Department</th>\n",
              "      <th>DistanceFromHome</th>\n",
              "      <th>Education</th>\n",
              "      <th>EducationField</th>\n",
              "      <th>EmployeeCount</th>\n",
              "      <th>EmployeeID</th>\n",
              "      <th>Gender</th>\n",
              "      <th>...</th>\n",
              "      <th>TotalWorkingYears</th>\n",
              "      <th>TrainingTimesLastYear</th>\n",
              "      <th>YearsAtCompany</th>\n",
              "      <th>YearsSinceLastPromotion</th>\n",
              "      <th>YearsWithCurrManager</th>\n",
              "      <th>EnvironmentSatisfaction</th>\n",
              "      <th>JobSatisfaction</th>\n",
              "      <th>WorkLifeBalance</th>\n",
              "      <th>JobInvolvement</th>\n",
              "      <th>PerformanceRating</th>\n",
              "    </tr>\n",
              "  </thead>\n",
              "  <tbody>\n",
              "    <tr>\n",
              "      <th>0</th>\n",
              "      <td>51</td>\n",
              "      <td>No</td>\n",
              "      <td>Travel_Rarely</td>\n",
              "      <td>Sales</td>\n",
              "      <td>6</td>\n",
              "      <td>2</td>\n",
              "      <td>Life Sciences</td>\n",
              "      <td>1</td>\n",
              "      <td>1</td>\n",
              "      <td>Female</td>\n",
              "      <td>...</td>\n",
              "      <td>1</td>\n",
              "      <td>6</td>\n",
              "      <td>1</td>\n",
              "      <td>0</td>\n",
              "      <td>0</td>\n",
              "      <td>3</td>\n",
              "      <td>4</td>\n",
              "      <td>2</td>\n",
              "      <td>3</td>\n",
              "      <td>3</td>\n",
              "    </tr>\n",
              "    <tr>\n",
              "      <th>1</th>\n",
              "      <td>31</td>\n",
              "      <td>Yes</td>\n",
              "      <td>Travel_Frequently</td>\n",
              "      <td>Research &amp; Development</td>\n",
              "      <td>10</td>\n",
              "      <td>1</td>\n",
              "      <td>Life Sciences</td>\n",
              "      <td>1</td>\n",
              "      <td>2</td>\n",
              "      <td>Female</td>\n",
              "      <td>...</td>\n",
              "      <td>6</td>\n",
              "      <td>3</td>\n",
              "      <td>5</td>\n",
              "      <td>1</td>\n",
              "      <td>4</td>\n",
              "      <td>3</td>\n",
              "      <td>2</td>\n",
              "      <td>4</td>\n",
              "      <td>2</td>\n",
              "      <td>4</td>\n",
              "    </tr>\n",
              "    <tr>\n",
              "      <th>2</th>\n",
              "      <td>32</td>\n",
              "      <td>No</td>\n",
              "      <td>Travel_Frequently</td>\n",
              "      <td>Research &amp; Development</td>\n",
              "      <td>17</td>\n",
              "      <td>4</td>\n",
              "      <td>Other</td>\n",
              "      <td>1</td>\n",
              "      <td>3</td>\n",
              "      <td>Male</td>\n",
              "      <td>...</td>\n",
              "      <td>5</td>\n",
              "      <td>2</td>\n",
              "      <td>5</td>\n",
              "      <td>0</td>\n",
              "      <td>3</td>\n",
              "      <td>2</td>\n",
              "      <td>2</td>\n",
              "      <td>1</td>\n",
              "      <td>3</td>\n",
              "      <td>3</td>\n",
              "    </tr>\n",
              "    <tr>\n",
              "      <th>3</th>\n",
              "      <td>38</td>\n",
              "      <td>No</td>\n",
              "      <td>Non-Travel</td>\n",
              "      <td>Research &amp; Development</td>\n",
              "      <td>2</td>\n",
              "      <td>5</td>\n",
              "      <td>Life Sciences</td>\n",
              "      <td>1</td>\n",
              "      <td>4</td>\n",
              "      <td>Male</td>\n",
              "      <td>...</td>\n",
              "      <td>13</td>\n",
              "      <td>5</td>\n",
              "      <td>8</td>\n",
              "      <td>7</td>\n",
              "      <td>5</td>\n",
              "      <td>4</td>\n",
              "      <td>4</td>\n",
              "      <td>3</td>\n",
              "      <td>2</td>\n",
              "      <td>3</td>\n",
              "    </tr>\n",
              "    <tr>\n",
              "      <th>4</th>\n",
              "      <td>32</td>\n",
              "      <td>No</td>\n",
              "      <td>Travel_Rarely</td>\n",
              "      <td>Research &amp; Development</td>\n",
              "      <td>10</td>\n",
              "      <td>1</td>\n",
              "      <td>Medical</td>\n",
              "      <td>1</td>\n",
              "      <td>5</td>\n",
              "      <td>Male</td>\n",
              "      <td>...</td>\n",
              "      <td>9</td>\n",
              "      <td>2</td>\n",
              "      <td>6</td>\n",
              "      <td>0</td>\n",
              "      <td>4</td>\n",
              "      <td>4</td>\n",
              "      <td>1</td>\n",
              "      <td>3</td>\n",
              "      <td>3</td>\n",
              "      <td>3</td>\n",
              "    </tr>\n",
              "    <tr>\n",
              "      <th>...</th>\n",
              "      <td>...</td>\n",
              "      <td>...</td>\n",
              "      <td>...</td>\n",
              "      <td>...</td>\n",
              "      <td>...</td>\n",
              "      <td>...</td>\n",
              "      <td>...</td>\n",
              "      <td>...</td>\n",
              "      <td>...</td>\n",
              "      <td>...</td>\n",
              "      <td>...</td>\n",
              "      <td>...</td>\n",
              "      <td>...</td>\n",
              "      <td>...</td>\n",
              "      <td>...</td>\n",
              "      <td>...</td>\n",
              "      <td>...</td>\n",
              "      <td>...</td>\n",
              "      <td>...</td>\n",
              "      <td>...</td>\n",
              "      <td>...</td>\n",
              "    </tr>\n",
              "    <tr>\n",
              "      <th>3818</th>\n",
              "      <td>28</td>\n",
              "      <td>Yes</td>\n",
              "      <td>Travel_Rarely</td>\n",
              "      <td>Human Resources</td>\n",
              "      <td>1</td>\n",
              "      <td>3</td>\n",
              "      <td>Medical</td>\n",
              "      <td>1</td>\n",
              "      <td>3819</td>\n",
              "      <td>Female</td>\n",
              "      <td>...</td>\n",
              "      <td>11</td>\n",
              "      <td>2</td>\n",
              "      <td>1</td>\n",
              "      <td>0</td>\n",
              "      <td>0</td>\n",
              "      <td>3</td>\n",
              "      <td>2</td>\n",
              "      <td>3</td>\n",
              "      <td>3</td>\n",
              "      <td>3</td>\n",
              "    </tr>\n",
              "    <tr>\n",
              "      <th>3910</th>\n",
              "      <td>41</td>\n",
              "      <td>No</td>\n",
              "      <td>Non-Travel</td>\n",
              "      <td>Sales</td>\n",
              "      <td>2</td>\n",
              "      <td>2</td>\n",
              "      <td>Medical</td>\n",
              "      <td>1</td>\n",
              "      <td>3911</td>\n",
              "      <td>Male</td>\n",
              "      <td>...</td>\n",
              "      <td>10</td>\n",
              "      <td>5</td>\n",
              "      <td>3</td>\n",
              "      <td>1</td>\n",
              "      <td>2</td>\n",
              "      <td>3</td>\n",
              "      <td>2</td>\n",
              "      <td>3</td>\n",
              "      <td>1</td>\n",
              "      <td>3</td>\n",
              "    </tr>\n",
              "    <tr>\n",
              "      <th>4226</th>\n",
              "      <td>36</td>\n",
              "      <td>No</td>\n",
              "      <td>Travel_Rarely</td>\n",
              "      <td>Research &amp; Development</td>\n",
              "      <td>2</td>\n",
              "      <td>3</td>\n",
              "      <td>Life Sciences</td>\n",
              "      <td>1</td>\n",
              "      <td>4227</td>\n",
              "      <td>Male</td>\n",
              "      <td>...</td>\n",
              "      <td>5</td>\n",
              "      <td>2</td>\n",
              "      <td>1</td>\n",
              "      <td>0</td>\n",
              "      <td>0</td>\n",
              "      <td>2</td>\n",
              "      <td>4</td>\n",
              "      <td>3</td>\n",
              "      <td>3</td>\n",
              "      <td>3</td>\n",
              "    </tr>\n",
              "    <tr>\n",
              "      <th>4395</th>\n",
              "      <td>40</td>\n",
              "      <td>No</td>\n",
              "      <td>Travel_Rarely</td>\n",
              "      <td>Research &amp; Development</td>\n",
              "      <td>2</td>\n",
              "      <td>3</td>\n",
              "      <td>Life Sciences</td>\n",
              "      <td>1</td>\n",
              "      <td>4396</td>\n",
              "      <td>Male</td>\n",
              "      <td>...</td>\n",
              "      <td>9</td>\n",
              "      <td>4</td>\n",
              "      <td>9</td>\n",
              "      <td>4</td>\n",
              "      <td>7</td>\n",
              "      <td>1</td>\n",
              "      <td>4</td>\n",
              "      <td>3</td>\n",
              "      <td>2</td>\n",
              "      <td>3</td>\n",
              "    </tr>\n",
              "    <tr>\n",
              "      <th>4409</th>\n",
              "      <td>40</td>\n",
              "      <td>No</td>\n",
              "      <td>Travel_Rarely</td>\n",
              "      <td>Research &amp; Development</td>\n",
              "      <td>28</td>\n",
              "      <td>3</td>\n",
              "      <td>Medical</td>\n",
              "      <td>1</td>\n",
              "      <td>4410</td>\n",
              "      <td>Male</td>\n",
              "      <td>...</td>\n",
              "      <td>11</td>\n",
              "      <td>6</td>\n",
              "      <td>21</td>\n",
              "      <td>3</td>\n",
              "      <td>9</td>\n",
              "      <td>1</td>\n",
              "      <td>3</td>\n",
              "      <td>3</td>\n",
              "      <td>4</td>\n",
              "      <td>3</td>\n",
              "    </tr>\n",
              "  </tbody>\n",
              "</table>\n",
              "<p>1498 rows × 29 columns</p>\n",
              "</div>\n",
              "      <button class=\"colab-df-convert\" onclick=\"convertToInteractive('df-64a5e343-cfb5-449a-9246-4be45d18ec7b')\"\n",
              "              title=\"Convert this dataframe to an interactive table.\"\n",
              "              style=\"display:none;\">\n",
              "        \n",
              "  <svg xmlns=\"http://www.w3.org/2000/svg\" height=\"24px\"viewBox=\"0 0 24 24\"\n",
              "       width=\"24px\">\n",
              "    <path d=\"M0 0h24v24H0V0z\" fill=\"none\"/>\n",
              "    <path d=\"M18.56 5.44l.94 2.06.94-2.06 2.06-.94-2.06-.94-.94-2.06-.94 2.06-2.06.94zm-11 1L8.5 8.5l.94-2.06 2.06-.94-2.06-.94L8.5 2.5l-.94 2.06-2.06.94zm10 10l.94 2.06.94-2.06 2.06-.94-2.06-.94-.94-2.06-.94 2.06-2.06.94z\"/><path d=\"M17.41 7.96l-1.37-1.37c-.4-.4-.92-.59-1.43-.59-.52 0-1.04.2-1.43.59L10.3 9.45l-7.72 7.72c-.78.78-.78 2.05 0 2.83L4 21.41c.39.39.9.59 1.41.59.51 0 1.02-.2 1.41-.59l7.78-7.78 2.81-2.81c.8-.78.8-2.07 0-2.86zM5.41 20L4 18.59l7.72-7.72 1.47 1.35L5.41 20z\"/>\n",
              "  </svg>\n",
              "      </button>\n",
              "      \n",
              "  <style>\n",
              "    .colab-df-container {\n",
              "      display:flex;\n",
              "      flex-wrap:wrap;\n",
              "      gap: 12px;\n",
              "    }\n",
              "\n",
              "    .colab-df-convert {\n",
              "      background-color: #E8F0FE;\n",
              "      border: none;\n",
              "      border-radius: 50%;\n",
              "      cursor: pointer;\n",
              "      display: none;\n",
              "      fill: #1967D2;\n",
              "      height: 32px;\n",
              "      padding: 0 0 0 0;\n",
              "      width: 32px;\n",
              "    }\n",
              "\n",
              "    .colab-df-convert:hover {\n",
              "      background-color: #E2EBFA;\n",
              "      box-shadow: 0px 1px 2px rgba(60, 64, 67, 0.3), 0px 1px 3px 1px rgba(60, 64, 67, 0.15);\n",
              "      fill: #174EA6;\n",
              "    }\n",
              "\n",
              "    [theme=dark] .colab-df-convert {\n",
              "      background-color: #3B4455;\n",
              "      fill: #D2E3FC;\n",
              "    }\n",
              "\n",
              "    [theme=dark] .colab-df-convert:hover {\n",
              "      background-color: #434B5C;\n",
              "      box-shadow: 0px 1px 3px 1px rgba(0, 0, 0, 0.15);\n",
              "      filter: drop-shadow(0px 1px 2px rgba(0, 0, 0, 0.3));\n",
              "      fill: #FFFFFF;\n",
              "    }\n",
              "  </style>\n",
              "\n",
              "      <script>\n",
              "        const buttonEl =\n",
              "          document.querySelector('#df-64a5e343-cfb5-449a-9246-4be45d18ec7b button.colab-df-convert');\n",
              "        buttonEl.style.display =\n",
              "          google.colab.kernel.accessAllowed ? 'block' : 'none';\n",
              "\n",
              "        async function convertToInteractive(key) {\n",
              "          const element = document.querySelector('#df-64a5e343-cfb5-449a-9246-4be45d18ec7b');\n",
              "          const dataTable =\n",
              "            await google.colab.kernel.invokeFunction('convertToInteractive',\n",
              "                                                     [key], {});\n",
              "          if (!dataTable) return;\n",
              "\n",
              "          const docLinkHtml = 'Like what you see? Visit the ' +\n",
              "            '<a target=\"_blank\" href=https://colab.research.google.com/notebooks/data_table.ipynb>data table notebook</a>'\n",
              "            + ' to learn more about interactive tables.';\n",
              "          element.innerHTML = '';\n",
              "          dataTable['output_type'] = 'display_data';\n",
              "          await google.colab.output.renderOutput(dataTable, element);\n",
              "          const docLink = document.createElement('div');\n",
              "          docLink.innerHTML = docLinkHtml;\n",
              "          element.appendChild(docLink);\n",
              "        }\n",
              "      </script>\n",
              "    </div>\n",
              "  </div>\n",
              "  "
            ]
          },
          "metadata": {},
          "execution_count": 25
        }
      ]
    },
    {
      "cell_type": "code",
      "source": [
        "hrdf['Attrition'].replace({'No' : '0'}, inplace=True)\n",
        "hrdf['Attrition'].replace({'Yes' : '1'}, inplace=True)"
      ],
      "metadata": {
        "id": "qltWyE4z_0-n"
      },
      "execution_count": null,
      "outputs": []
    },
    {
      "cell_type": "code",
      "source": [
        "hrdf"
      ],
      "metadata": {
        "colab": {
          "base_uri": "https://localhost:8080/"
        },
        "id": "oK1b4WACBT1s",
        "outputId": "d1c8cee6-1079-40ce-98fb-9f51126f8367"
      },
      "execution_count": null,
      "outputs": [
        {
          "output_type": "execute_result",
          "data": {
            "text/plain": [
              "      Age Attrition     BusinessTravel              Department  \\\n",
              "0      51         0      Travel_Rarely                   Sales   \n",
              "1      31         1  Travel_Frequently  Research & Development   \n",
              "2      32         0  Travel_Frequently  Research & Development   \n",
              "3      38         0         Non-Travel  Research & Development   \n",
              "4      32         0      Travel_Rarely  Research & Development   \n",
              "...   ...       ...                ...                     ...   \n",
              "3818   28         1      Travel_Rarely         Human Resources   \n",
              "3910   41         0         Non-Travel                   Sales   \n",
              "4226   36         0      Travel_Rarely  Research & Development   \n",
              "4395   40         0      Travel_Rarely  Research & Development   \n",
              "4409   40         0      Travel_Rarely  Research & Development   \n",
              "\n",
              "      DistanceFromHome  Education EducationField  EmployeeCount  EmployeeID  \\\n",
              "0                    6          2  Life Sciences              1           1   \n",
              "1                   10          1  Life Sciences              1           2   \n",
              "2                   17          4          Other              1           3   \n",
              "3                    2          5  Life Sciences              1           4   \n",
              "4                   10          1        Medical              1           5   \n",
              "...                ...        ...            ...            ...         ...   \n",
              "3818                 1          3        Medical              1        3819   \n",
              "3910                 2          2        Medical              1        3911   \n",
              "4226                 2          3  Life Sciences              1        4227   \n",
              "4395                 2          3  Life Sciences              1        4396   \n",
              "4409                28          3        Medical              1        4410   \n",
              "\n",
              "      Gender  ...  TotalWorkingYears TrainingTimesLastYear YearsAtCompany  \\\n",
              "0     Female  ...                  1                     6              1   \n",
              "1     Female  ...                  6                     3              5   \n",
              "2       Male  ...                  5                     2              5   \n",
              "3       Male  ...                 13                     5              8   \n",
              "4       Male  ...                  9                     2              6   \n",
              "...      ...  ...                ...                   ...            ...   \n",
              "3818  Female  ...                 11                     2              1   \n",
              "3910    Male  ...                 10                     5              3   \n",
              "4226    Male  ...                  5                     2              1   \n",
              "4395    Male  ...                  9                     4              9   \n",
              "4409    Male  ...                 11                     6             21   \n",
              "\n",
              "      YearsSinceLastPromotion  YearsWithCurrManager EnvironmentSatisfaction  \\\n",
              "0                           0                     0                       3   \n",
              "1                           1                     4                       3   \n",
              "2                           0                     3                       2   \n",
              "3                           7                     5                       4   \n",
              "4                           0                     4                       4   \n",
              "...                       ...                   ...                     ...   \n",
              "3818                        0                     0                       3   \n",
              "3910                        1                     2                       3   \n",
              "4226                        0                     0                       2   \n",
              "4395                        4                     7                       1   \n",
              "4409                        3                     9                       1   \n",
              "\n",
              "      JobSatisfaction  WorkLifeBalance  JobInvolvement  PerformanceRating  \n",
              "0                   4                2               3                  3  \n",
              "1                   2                4               2                  4  \n",
              "2                   2                1               3                  3  \n",
              "3                   4                3               2                  3  \n",
              "4                   1                3               3                  3  \n",
              "...               ...              ...             ...                ...  \n",
              "3818                2                3               3                  3  \n",
              "3910                2                3               1                  3  \n",
              "4226                4                3               3                  3  \n",
              "4395                4                3               2                  3  \n",
              "4409                3                3               4                  3  \n",
              "\n",
              "[1498 rows x 29 columns]"
            ],
            "text/html": [
              "\n",
              "  <div id=\"df-96d63c25-a950-4ce2-8a19-6849f417ddbe\">\n",
              "    <div class=\"colab-df-container\">\n",
              "      <div>\n",
              "<style scoped>\n",
              "    .dataframe tbody tr th:only-of-type {\n",
              "        vertical-align: middle;\n",
              "    }\n",
              "\n",
              "    .dataframe tbody tr th {\n",
              "        vertical-align: top;\n",
              "    }\n",
              "\n",
              "    .dataframe thead th {\n",
              "        text-align: right;\n",
              "    }\n",
              "</style>\n",
              "<table border=\"1\" class=\"dataframe\">\n",
              "  <thead>\n",
              "    <tr style=\"text-align: right;\">\n",
              "      <th></th>\n",
              "      <th>Age</th>\n",
              "      <th>Attrition</th>\n",
              "      <th>BusinessTravel</th>\n",
              "      <th>Department</th>\n",
              "      <th>DistanceFromHome</th>\n",
              "      <th>Education</th>\n",
              "      <th>EducationField</th>\n",
              "      <th>EmployeeCount</th>\n",
              "      <th>EmployeeID</th>\n",
              "      <th>Gender</th>\n",
              "      <th>...</th>\n",
              "      <th>TotalWorkingYears</th>\n",
              "      <th>TrainingTimesLastYear</th>\n",
              "      <th>YearsAtCompany</th>\n",
              "      <th>YearsSinceLastPromotion</th>\n",
              "      <th>YearsWithCurrManager</th>\n",
              "      <th>EnvironmentSatisfaction</th>\n",
              "      <th>JobSatisfaction</th>\n",
              "      <th>WorkLifeBalance</th>\n",
              "      <th>JobInvolvement</th>\n",
              "      <th>PerformanceRating</th>\n",
              "    </tr>\n",
              "  </thead>\n",
              "  <tbody>\n",
              "    <tr>\n",
              "      <th>0</th>\n",
              "      <td>51</td>\n",
              "      <td>0</td>\n",
              "      <td>Travel_Rarely</td>\n",
              "      <td>Sales</td>\n",
              "      <td>6</td>\n",
              "      <td>2</td>\n",
              "      <td>Life Sciences</td>\n",
              "      <td>1</td>\n",
              "      <td>1</td>\n",
              "      <td>Female</td>\n",
              "      <td>...</td>\n",
              "      <td>1</td>\n",
              "      <td>6</td>\n",
              "      <td>1</td>\n",
              "      <td>0</td>\n",
              "      <td>0</td>\n",
              "      <td>3</td>\n",
              "      <td>4</td>\n",
              "      <td>2</td>\n",
              "      <td>3</td>\n",
              "      <td>3</td>\n",
              "    </tr>\n",
              "    <tr>\n",
              "      <th>1</th>\n",
              "      <td>31</td>\n",
              "      <td>1</td>\n",
              "      <td>Travel_Frequently</td>\n",
              "      <td>Research &amp; Development</td>\n",
              "      <td>10</td>\n",
              "      <td>1</td>\n",
              "      <td>Life Sciences</td>\n",
              "      <td>1</td>\n",
              "      <td>2</td>\n",
              "      <td>Female</td>\n",
              "      <td>...</td>\n",
              "      <td>6</td>\n",
              "      <td>3</td>\n",
              "      <td>5</td>\n",
              "      <td>1</td>\n",
              "      <td>4</td>\n",
              "      <td>3</td>\n",
              "      <td>2</td>\n",
              "      <td>4</td>\n",
              "      <td>2</td>\n",
              "      <td>4</td>\n",
              "    </tr>\n",
              "    <tr>\n",
              "      <th>2</th>\n",
              "      <td>32</td>\n",
              "      <td>0</td>\n",
              "      <td>Travel_Frequently</td>\n",
              "      <td>Research &amp; Development</td>\n",
              "      <td>17</td>\n",
              "      <td>4</td>\n",
              "      <td>Other</td>\n",
              "      <td>1</td>\n",
              "      <td>3</td>\n",
              "      <td>Male</td>\n",
              "      <td>...</td>\n",
              "      <td>5</td>\n",
              "      <td>2</td>\n",
              "      <td>5</td>\n",
              "      <td>0</td>\n",
              "      <td>3</td>\n",
              "      <td>2</td>\n",
              "      <td>2</td>\n",
              "      <td>1</td>\n",
              "      <td>3</td>\n",
              "      <td>3</td>\n",
              "    </tr>\n",
              "    <tr>\n",
              "      <th>3</th>\n",
              "      <td>38</td>\n",
              "      <td>0</td>\n",
              "      <td>Non-Travel</td>\n",
              "      <td>Research &amp; Development</td>\n",
              "      <td>2</td>\n",
              "      <td>5</td>\n",
              "      <td>Life Sciences</td>\n",
              "      <td>1</td>\n",
              "      <td>4</td>\n",
              "      <td>Male</td>\n",
              "      <td>...</td>\n",
              "      <td>13</td>\n",
              "      <td>5</td>\n",
              "      <td>8</td>\n",
              "      <td>7</td>\n",
              "      <td>5</td>\n",
              "      <td>4</td>\n",
              "      <td>4</td>\n",
              "      <td>3</td>\n",
              "      <td>2</td>\n",
              "      <td>3</td>\n",
              "    </tr>\n",
              "    <tr>\n",
              "      <th>4</th>\n",
              "      <td>32</td>\n",
              "      <td>0</td>\n",
              "      <td>Travel_Rarely</td>\n",
              "      <td>Research &amp; Development</td>\n",
              "      <td>10</td>\n",
              "      <td>1</td>\n",
              "      <td>Medical</td>\n",
              "      <td>1</td>\n",
              "      <td>5</td>\n",
              "      <td>Male</td>\n",
              "      <td>...</td>\n",
              "      <td>9</td>\n",
              "      <td>2</td>\n",
              "      <td>6</td>\n",
              "      <td>0</td>\n",
              "      <td>4</td>\n",
              "      <td>4</td>\n",
              "      <td>1</td>\n",
              "      <td>3</td>\n",
              "      <td>3</td>\n",
              "      <td>3</td>\n",
              "    </tr>\n",
              "    <tr>\n",
              "      <th>...</th>\n",
              "      <td>...</td>\n",
              "      <td>...</td>\n",
              "      <td>...</td>\n",
              "      <td>...</td>\n",
              "      <td>...</td>\n",
              "      <td>...</td>\n",
              "      <td>...</td>\n",
              "      <td>...</td>\n",
              "      <td>...</td>\n",
              "      <td>...</td>\n",
              "      <td>...</td>\n",
              "      <td>...</td>\n",
              "      <td>...</td>\n",
              "      <td>...</td>\n",
              "      <td>...</td>\n",
              "      <td>...</td>\n",
              "      <td>...</td>\n",
              "      <td>...</td>\n",
              "      <td>...</td>\n",
              "      <td>...</td>\n",
              "      <td>...</td>\n",
              "    </tr>\n",
              "    <tr>\n",
              "      <th>3818</th>\n",
              "      <td>28</td>\n",
              "      <td>1</td>\n",
              "      <td>Travel_Rarely</td>\n",
              "      <td>Human Resources</td>\n",
              "      <td>1</td>\n",
              "      <td>3</td>\n",
              "      <td>Medical</td>\n",
              "      <td>1</td>\n",
              "      <td>3819</td>\n",
              "      <td>Female</td>\n",
              "      <td>...</td>\n",
              "      <td>11</td>\n",
              "      <td>2</td>\n",
              "      <td>1</td>\n",
              "      <td>0</td>\n",
              "      <td>0</td>\n",
              "      <td>3</td>\n",
              "      <td>2</td>\n",
              "      <td>3</td>\n",
              "      <td>3</td>\n",
              "      <td>3</td>\n",
              "    </tr>\n",
              "    <tr>\n",
              "      <th>3910</th>\n",
              "      <td>41</td>\n",
              "      <td>0</td>\n",
              "      <td>Non-Travel</td>\n",
              "      <td>Sales</td>\n",
              "      <td>2</td>\n",
              "      <td>2</td>\n",
              "      <td>Medical</td>\n",
              "      <td>1</td>\n",
              "      <td>3911</td>\n",
              "      <td>Male</td>\n",
              "      <td>...</td>\n",
              "      <td>10</td>\n",
              "      <td>5</td>\n",
              "      <td>3</td>\n",
              "      <td>1</td>\n",
              "      <td>2</td>\n",
              "      <td>3</td>\n",
              "      <td>2</td>\n",
              "      <td>3</td>\n",
              "      <td>1</td>\n",
              "      <td>3</td>\n",
              "    </tr>\n",
              "    <tr>\n",
              "      <th>4226</th>\n",
              "      <td>36</td>\n",
              "      <td>0</td>\n",
              "      <td>Travel_Rarely</td>\n",
              "      <td>Research &amp; Development</td>\n",
              "      <td>2</td>\n",
              "      <td>3</td>\n",
              "      <td>Life Sciences</td>\n",
              "      <td>1</td>\n",
              "      <td>4227</td>\n",
              "      <td>Male</td>\n",
              "      <td>...</td>\n",
              "      <td>5</td>\n",
              "      <td>2</td>\n",
              "      <td>1</td>\n",
              "      <td>0</td>\n",
              "      <td>0</td>\n",
              "      <td>2</td>\n",
              "      <td>4</td>\n",
              "      <td>3</td>\n",
              "      <td>3</td>\n",
              "      <td>3</td>\n",
              "    </tr>\n",
              "    <tr>\n",
              "      <th>4395</th>\n",
              "      <td>40</td>\n",
              "      <td>0</td>\n",
              "      <td>Travel_Rarely</td>\n",
              "      <td>Research &amp; Development</td>\n",
              "      <td>2</td>\n",
              "      <td>3</td>\n",
              "      <td>Life Sciences</td>\n",
              "      <td>1</td>\n",
              "      <td>4396</td>\n",
              "      <td>Male</td>\n",
              "      <td>...</td>\n",
              "      <td>9</td>\n",
              "      <td>4</td>\n",
              "      <td>9</td>\n",
              "      <td>4</td>\n",
              "      <td>7</td>\n",
              "      <td>1</td>\n",
              "      <td>4</td>\n",
              "      <td>3</td>\n",
              "      <td>2</td>\n",
              "      <td>3</td>\n",
              "    </tr>\n",
              "    <tr>\n",
              "      <th>4409</th>\n",
              "      <td>40</td>\n",
              "      <td>0</td>\n",
              "      <td>Travel_Rarely</td>\n",
              "      <td>Research &amp; Development</td>\n",
              "      <td>28</td>\n",
              "      <td>3</td>\n",
              "      <td>Medical</td>\n",
              "      <td>1</td>\n",
              "      <td>4410</td>\n",
              "      <td>Male</td>\n",
              "      <td>...</td>\n",
              "      <td>11</td>\n",
              "      <td>6</td>\n",
              "      <td>21</td>\n",
              "      <td>3</td>\n",
              "      <td>9</td>\n",
              "      <td>1</td>\n",
              "      <td>3</td>\n",
              "      <td>3</td>\n",
              "      <td>4</td>\n",
              "      <td>3</td>\n",
              "    </tr>\n",
              "  </tbody>\n",
              "</table>\n",
              "<p>1498 rows × 29 columns</p>\n",
              "</div>\n",
              "      <button class=\"colab-df-convert\" onclick=\"convertToInteractive('df-96d63c25-a950-4ce2-8a19-6849f417ddbe')\"\n",
              "              title=\"Convert this dataframe to an interactive table.\"\n",
              "              style=\"display:none;\">\n",
              "        \n",
              "  <svg xmlns=\"http://www.w3.org/2000/svg\" height=\"24px\"viewBox=\"0 0 24 24\"\n",
              "       width=\"24px\">\n",
              "    <path d=\"M0 0h24v24H0V0z\" fill=\"none\"/>\n",
              "    <path d=\"M18.56 5.44l.94 2.06.94-2.06 2.06-.94-2.06-.94-.94-2.06-.94 2.06-2.06.94zm-11 1L8.5 8.5l.94-2.06 2.06-.94-2.06-.94L8.5 2.5l-.94 2.06-2.06.94zm10 10l.94 2.06.94-2.06 2.06-.94-2.06-.94-.94-2.06-.94 2.06-2.06.94z\"/><path d=\"M17.41 7.96l-1.37-1.37c-.4-.4-.92-.59-1.43-.59-.52 0-1.04.2-1.43.59L10.3 9.45l-7.72 7.72c-.78.78-.78 2.05 0 2.83L4 21.41c.39.39.9.59 1.41.59.51 0 1.02-.2 1.41-.59l7.78-7.78 2.81-2.81c.8-.78.8-2.07 0-2.86zM5.41 20L4 18.59l7.72-7.72 1.47 1.35L5.41 20z\"/>\n",
              "  </svg>\n",
              "      </button>\n",
              "      \n",
              "  <style>\n",
              "    .colab-df-container {\n",
              "      display:flex;\n",
              "      flex-wrap:wrap;\n",
              "      gap: 12px;\n",
              "    }\n",
              "\n",
              "    .colab-df-convert {\n",
              "      background-color: #E8F0FE;\n",
              "      border: none;\n",
              "      border-radius: 50%;\n",
              "      cursor: pointer;\n",
              "      display: none;\n",
              "      fill: #1967D2;\n",
              "      height: 32px;\n",
              "      padding: 0 0 0 0;\n",
              "      width: 32px;\n",
              "    }\n",
              "\n",
              "    .colab-df-convert:hover {\n",
              "      background-color: #E2EBFA;\n",
              "      box-shadow: 0px 1px 2px rgba(60, 64, 67, 0.3), 0px 1px 3px 1px rgba(60, 64, 67, 0.15);\n",
              "      fill: #174EA6;\n",
              "    }\n",
              "\n",
              "    [theme=dark] .colab-df-convert {\n",
              "      background-color: #3B4455;\n",
              "      fill: #D2E3FC;\n",
              "    }\n",
              "\n",
              "    [theme=dark] .colab-df-convert:hover {\n",
              "      background-color: #434B5C;\n",
              "      box-shadow: 0px 1px 3px 1px rgba(0, 0, 0, 0.15);\n",
              "      filter: drop-shadow(0px 1px 2px rgba(0, 0, 0, 0.3));\n",
              "      fill: #FFFFFF;\n",
              "    }\n",
              "  </style>\n",
              "\n",
              "      <script>\n",
              "        const buttonEl =\n",
              "          document.querySelector('#df-96d63c25-a950-4ce2-8a19-6849f417ddbe button.colab-df-convert');\n",
              "        buttonEl.style.display =\n",
              "          google.colab.kernel.accessAllowed ? 'block' : 'none';\n",
              "\n",
              "        async function convertToInteractive(key) {\n",
              "          const element = document.querySelector('#df-96d63c25-a950-4ce2-8a19-6849f417ddbe');\n",
              "          const dataTable =\n",
              "            await google.colab.kernel.invokeFunction('convertToInteractive',\n",
              "                                                     [key], {});\n",
              "          if (!dataTable) return;\n",
              "\n",
              "          const docLinkHtml = 'Like what you see? Visit the ' +\n",
              "            '<a target=\"_blank\" href=https://colab.research.google.com/notebooks/data_table.ipynb>data table notebook</a>'\n",
              "            + ' to learn more about interactive tables.';\n",
              "          element.innerHTML = '';\n",
              "          dataTable['output_type'] = 'display_data';\n",
              "          await google.colab.output.renderOutput(dataTable, element);\n",
              "          const docLink = document.createElement('div');\n",
              "          docLink.innerHTML = docLinkHtml;\n",
              "          element.appendChild(docLink);\n",
              "        }\n",
              "      </script>\n",
              "    </div>\n",
              "  </div>\n",
              "  "
            ]
          },
          "metadata": {},
          "execution_count": 27
        }
      ]
    },
    {
      "cell_type": "code",
      "source": [
        "hrdf['NumCompaniesWorked'] = hrdf['NumCompaniesWorked'].astype(int)\n",
        "hrdf['TotalWorkingYears'] = hrdf['TotalWorkingYears'].astype(int)\n",
        "hrdf['EnvironmentSatisfaction'] = hrdf['EnvironmentSatisfaction'].astype(int)\n",
        "hrdf['JobSatisfaction'] = hrdf['JobSatisfaction'].astype(int)\n",
        "hrdf['WorkLifeBalance'] = hrdf['WorkLifeBalance'].astype(int)\n",
        "hrdf['Attrition'] = hrdf['Attrition'].astype(int)"
      ],
      "metadata": {
        "id": "iezekxOBBecF"
      },
      "execution_count": null,
      "outputs": []
    },
    {
      "cell_type": "code",
      "source": [
        "hrdf.drop(['BusinessTravel', 'EmployeeCount', 'Department',\n",
        "            'StandardHours', 'Over18'], axis=1, inplace=True)\n",
        "print('Size of Full dataset is: {}'.format(hrdf.shape))"
      ],
      "metadata": {
        "colab": {
          "base_uri": "https://localhost:8080/"
        },
        "id": "sID0J_bKB8Sk",
        "outputId": "4878ce3d-a13b-479c-d34f-f1a76793f314"
      },
      "execution_count": null,
      "outputs": [
        {
          "output_type": "stream",
          "name": "stdout",
          "text": [
            "Size of Full dataset is: (1498, 24)\n"
          ]
        }
      ]
    },
    {
      "cell_type": "code",
      "source": [
        "hrdf.drop(['EducationField', 'Gender',\n",
        "            'JobRole', 'MaritalStatus'], axis=1, inplace=True)\n",
        "print('Size of Full dataset is: {}'.format(hrdf.shape))"
      ],
      "metadata": {
        "colab": {
          "base_uri": "https://localhost:8080/"
        },
        "id": "NvW3EyGlCg9s",
        "outputId": "24140a05-6df6-4428-d142-0e8e45283fc5"
      },
      "execution_count": null,
      "outputs": [
        {
          "output_type": "stream",
          "name": "stdout",
          "text": [
            "Size of Full dataset is: (1498, 20)\n"
          ]
        }
      ]
    },
    {
      "cell_type": "code",
      "source": [
        "hrdf.info()"
      ],
      "metadata": {
        "colab": {
          "base_uri": "https://localhost:8080/"
        },
        "id": "11ZWk1DtBlB9",
        "outputId": "e297add3-3df7-4187-960b-5b5ca347da8d"
      },
      "execution_count": null,
      "outputs": [
        {
          "output_type": "stream",
          "name": "stdout",
          "text": [
            "<class 'pandas.core.frame.DataFrame'>\n",
            "Int64Index: 1498 entries, 0 to 4409\n",
            "Data columns (total 20 columns):\n",
            " #   Column                   Non-Null Count  Dtype\n",
            "---  ------                   --------------  -----\n",
            " 0   Age                      1498 non-null   int64\n",
            " 1   Attrition                1498 non-null   int64\n",
            " 2   DistanceFromHome         1498 non-null   int64\n",
            " 3   Education                1498 non-null   int64\n",
            " 4   EmployeeID               1498 non-null   int64\n",
            " 5   JobLevel                 1498 non-null   int64\n",
            " 6   MonthlyIncome            1498 non-null   int64\n",
            " 7   NumCompaniesWorked       1498 non-null   int64\n",
            " 8   PercentSalaryHike        1498 non-null   int64\n",
            " 9   StockOptionLevel         1498 non-null   int64\n",
            " 10  TotalWorkingYears        1498 non-null   int64\n",
            " 11  TrainingTimesLastYear    1498 non-null   int64\n",
            " 12  YearsAtCompany           1498 non-null   int64\n",
            " 13  YearsSinceLastPromotion  1498 non-null   int64\n",
            " 14  YearsWithCurrManager     1498 non-null   int64\n",
            " 15  EnvironmentSatisfaction  1498 non-null   int64\n",
            " 16  JobSatisfaction          1498 non-null   int64\n",
            " 17  WorkLifeBalance          1498 non-null   int64\n",
            " 18  JobInvolvement           1498 non-null   int64\n",
            " 19  PerformanceRating        1498 non-null   int64\n",
            "dtypes: int64(20)\n",
            "memory usage: 245.8 KB\n"
          ]
        }
      ]
    },
    {
      "cell_type": "markdown",
      "source": [
        "# **MLflow**"
      ],
      "metadata": {
        "id": "0Xixv-xcrSTm"
      }
    },
    {
      "cell_type": "markdown",
      "source": [
        "Here Elasticnet is selected from scikit-learn. To perform Elasticnet at forst some evaluation metrics has been set. Where RMSE, MAE and R2 (R square test) will be the priority. Then data has been spilited for train and test focusing on the attrition in the data set. Where yes is 1 and No is 0. Added to that for the prediction MLflow has started to run. Where in the backend API MLflow will start to store the prediction of the model with the accuracy level and the result. In the final stage of the MLflow, logging parameter and metrics is the final task. Based on which MLflow API will perform the chart related analysis. After performing the code, all the model will shift to MLflow.\n",
        "\n",
        "\n",
        "In the next step evaluation of every training model based on different parameter will give different RMSE, MAE and R2 score. The operator of the model then can identify which model is the best depending on the different parameter that has been used in the model. In this project 5 different set of training model has been evaluated."
      ],
      "metadata": {
        "id": "HmWoqRzVLZHN"
      }
    },
    {
      "cell_type": "code",
      "source": [
        "def eval_metrics(actual, pred):\n",
        "        rmse = np.sqrt(mean_squared_error(actual, pred))\n",
        "        mae = mean_absolute_error(actual, pred)\n",
        "        r2 = r2_score(actual, pred)\n",
        "        return rmse, mae, r2"
      ],
      "metadata": {
        "id": "QMDR-Z2H61JW"
      },
      "execution_count": null,
      "outputs": []
    },
    {
      "cell_type": "code",
      "source": [
        "def train_model(alpha, l1_ratio):\n",
        "    train, test = train_test_split(hrdf)\n",
        "    train_x = train.drop([\"Attrition\"], axis=1)\n",
        "    test_x = test.drop([\"Attrition\"], axis=1)\n",
        "    train_y = train[[\"Attrition\"]]\n",
        "    test_y = test[[\"Attrition\"]]\n",
        "\n",
        "    with mlflow.start_run():\n",
        "        lr = ElasticNet(alpha=alpha, l1_ratio=l1_ratio, random_state=42)\n",
        "        lr.fit(train_x, train_y)\n",
        "\n",
        "        predicted_qualities = lr.predict(test_x)\n",
        "        (rmse, mae, r2) = eval_metrics(test_y, predicted_qualities)\n",
        "\n",
        "        print(\"Elasticnet model (alpha=%f, l1_ratio=%f):\" % (alpha, l1_ratio))\n",
        "        print(\"  RMSE: %s\" % rmse)\n",
        "        print(\"  MAE: %s\" % mae)\n",
        "        print(\"  R2: %s\" % r2)\n",
        "\n",
        "        mlflow.log_param(\"alpha\", alpha)\n",
        "        mlflow.log_param(\"l1_ratio\", l1_ratio)\n",
        "        mlflow.log_metric(\"rmse\", rmse)\n",
        "        mlflow.log_metric(\"r2\", r2)\n",
        "        mlflow.log_metric(\"mae\", mae)\n",
        "\n",
        "        mlflow.sklearn.log_model(lr, \"model\")"
      ],
      "metadata": {
        "id": "h_wJsPaI6189"
      },
      "execution_count": null,
      "outputs": []
    },
    {
      "cell_type": "code",
      "source": [
        "train_model(0.5, 0.5)"
      ],
      "metadata": {
        "id": "DTcBijXt6Uhr",
        "colab": {
          "base_uri": "https://localhost:8080/"
        },
        "outputId": "1f99509b-b857-4fa2-9d77-a7ec17ce9623"
      },
      "execution_count": null,
      "outputs": [
        {
          "output_type": "stream",
          "name": "stdout",
          "text": [
            "Elasticnet model (alpha=0.500000, l1_ratio=0.500000):\n",
            "  RMSE: 0.36412347817953805\n",
            "  MAE: 0.2647159355514592\n",
            "  R2: 0.013497713083597151\n"
          ]
        }
      ]
    },
    {
      "cell_type": "code",
      "source": [
        "train_model(0.4, 0.4)"
      ],
      "metadata": {
        "colab": {
          "base_uri": "https://localhost:8080/"
        },
        "id": "cwHcDyJK_klV",
        "outputId": "05b6dd61-366c-4b2d-d7b4-1f3d7e50916d"
      },
      "execution_count": null,
      "outputs": [
        {
          "output_type": "stream",
          "name": "stdout",
          "text": [
            "Elasticnet model (alpha=0.400000, l1_ratio=0.400000):\n",
            "  RMSE: 0.374640616278113\n",
            "  MAE: 0.27085629643579073\n",
            "  R2: 0.03219059352076681\n"
          ]
        }
      ]
    },
    {
      "cell_type": "code",
      "source": [
        "train_model(0.3, 0.3)"
      ],
      "metadata": {
        "colab": {
          "base_uri": "https://localhost:8080/"
        },
        "id": "D3COK6P1BVZl",
        "outputId": "85bb3571-0d65-4dc6-e971-2747222048eb"
      },
      "execution_count": null,
      "outputs": [
        {
          "output_type": "stream",
          "name": "stdout",
          "text": [
            "Elasticnet model (alpha=0.300000, l1_ratio=0.300000):\n",
            "  RMSE: 0.3392687997328692\n",
            "  MAE: 0.2510799010914887\n",
            "  R2: 0.036294108112017165\n"
          ]
        }
      ]
    },
    {
      "cell_type": "code",
      "source": [
        "train_model(0.2, 0.2)"
      ],
      "metadata": {
        "colab": {
          "base_uri": "https://localhost:8080/"
        },
        "id": "PFoeVmVQBYKY",
        "outputId": "86980a94-12aa-472a-bbdf-93ee715fae0f"
      },
      "execution_count": null,
      "outputs": [
        {
          "output_type": "stream",
          "name": "stdout",
          "text": [
            "Elasticnet model (alpha=0.200000, l1_ratio=0.200000):\n",
            "  RMSE: 0.38040706775969724\n",
            "  MAE: 0.27703533034667077\n",
            "  R2: 0.03619500478520066\n"
          ]
        }
      ]
    },
    {
      "cell_type": "code",
      "source": [
        "train_model(0.1, 0.1)"
      ],
      "metadata": {
        "colab": {
          "base_uri": "https://localhost:8080/"
        },
        "id": "bQ-W0UNSBaHx",
        "outputId": "e69c3833-8f2c-460c-bce0-7613f71d9acc"
      },
      "execution_count": null,
      "outputs": [
        {
          "output_type": "stream",
          "name": "stdout",
          "text": [
            "Elasticnet model (alpha=0.100000, l1_ratio=0.100000):\n",
            "  RMSE: 0.3625076197413757\n",
            "  MAE: 0.26403162327349167\n",
            "  R2: 0.03519991798790345\n"
          ]
        }
      ]
    },
    {
      "cell_type": "markdown",
      "source": [
        "# **NGROK**"
      ],
      "metadata": {
        "id": "-ED-Y0dDr6m2"
      }
    },
    {
      "cell_type": "markdown",
      "source": [
        "NGROK has been used to visualize the MLflow UI. Through NGROK the local host will able to showcase the different model through MLflow UI. Here 5000 Mlflow UI port has been used in this project."
      ],
      "metadata": {
        "id": "fzt9zJT-Nmu3"
      }
    },
    {
      "cell_type": "code",
      "source": [
        "# run tracking UI in the background\n",
        "get_ipython().system_raw(\"mlflow ui --backend-store-uri sqlite:///mlruns.db --port 5000 &\")# run tracking UI in the background"
      ],
      "metadata": {
        "id": "QHIGa0KMr4DF"
      },
      "execution_count": null,
      "outputs": []
    },
    {
      "cell_type": "code",
      "source": [
        "# run tracking UI in the background\n",
        "get_ipython().system_raw(\"mlflow ui --port 5000 &\")\n",
        "## Step 3 - Installing pyngrok for remote tunnel access using ngrock.com\n",
        "\n",
        "from pyngrok import ngrok\n",
        "from getpass import getpass\n",
        "# Terminate open tunnels if any exist\n",
        "ngrok.kill()\n",
        "## Step 4 - Login on ngrok.com and get your authtoken from https://dashboard.ngrok.com/auth\n",
        "# Enter your auth token when the code is running\n",
        "NGROK_AUTH_TOKEN = getpass('Enter the ngrok authtoken: ')\n",
        "ngrok.set_auth_token(NGROK_AUTH_TOKEN)\n",
        "ngrok_tunnel = ngrok.connect(addr=\"5000\", proto=\"http\", bind_tls=True)\n",
        "print(\"MLflow Tracking UI:\", ngrok_tunnel.public_url)"
      ],
      "metadata": {
        "colab": {
          "base_uri": "https://localhost:8080/"
        },
        "id": "0Iqvn_lvL-Fu",
        "outputId": "1524db0b-258e-4ec8-eb68-480de23579aa"
      },
      "execution_count": null,
      "outputs": [
        {
          "output_type": "stream",
          "name": "stdout",
          "text": [
            "Enter the ngrok authtoken: ··········\n"
          ]
        },
        {
          "output_type": "stream",
          "name": "stderr",
          "text": [
            "WARNING:pyngrok.process.ngrok:t=2023-04-26T19:57:15+0000 lvl=warn msg=\"ngrok config file found at legacy location, move to XDG location\" xdg_path=/root/.config/ngrok/ngrok.yml legacy_path=/root/.ngrok2/ngrok.yml\n"
          ]
        },
        {
          "output_type": "stream",
          "name": "stdout",
          "text": [
            "MLflow Tracking UI: https://8b70-34-32-134-167.ngrok-free.app\n"
          ]
        }
      ]
    }
  ]
}