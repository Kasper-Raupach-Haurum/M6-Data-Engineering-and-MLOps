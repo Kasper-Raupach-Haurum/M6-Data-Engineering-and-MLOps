{
 "cells": [
  {
   "cell_type": "code",
   "execution_count": 1,
   "metadata": {},
   "outputs": [
    {
     "name": "stderr",
     "output_type": "stream",
     "text": [
      "fatal: destination path 'M6-Data-Engineering-and-MLOps' already exists and is not an empty directory.\n"
     ]
    }
   ],
   "source": [
    "!git clone \"https://github.com/Kasper-Raupach-Haurum/M6-Data-Engineering-and-MLOps.git\""
   ]
  },
  {
   "cell_type": "code",
   "execution_count": 2,
   "metadata": {},
   "outputs": [
    {
     "name": "stdout",
     "output_type": "stream",
     "text": [
      "Note: you may need to restart the kernel to use updated packages.\n",
      "Usage: mlflow [OPTIONS] COMMAND [ARGS]...\n",
      "\n",
      "Options:\n",
      "  --version  Show the version and exit.\n",
      "  --help     Show this message and exit.\n",
      "\n",
      "Commands:\n",
      "  artifacts    Upload, list, and download artifacts from an MLflow...\n",
      "  db           Commands for managing an MLflow tracking database.\n",
      "  deployments  Deploy MLflow models to custom targets.\n",
      "  doctor       Prints out useful information for debugging issues with MLflow.\n",
      "  experiments  Manage experiments.\n",
      "  gc           Permanently delete runs in the `deleted` lifecycle stage.\n",
      "  models       Deploy MLflow models locally.\n",
      "  recipes      Run MLflow Recipes and inspect recipe results.\n",
      "  run          Run an MLflow project from the given URI.\n",
      "  runs         Manage runs.\n",
      "  sagemaker    Serve models on SageMaker.\n",
      "  server       Run the MLflow tracking server.\n",
      "2.3.0\n"
     ]
    }
   ],
   "source": [
    "%pip install mlflow --quiet\n",
    "!mlflow\n",
    "import os\n",
    "import shutil\n",
    "import pprint\n",
    "import sys\n",
    "import pandas as pd\n",
    "from pandas.plotting import scatter_matrix\n",
    "import numpy as np\n",
    "\n",
    "from random import random, randint\n",
    "import mlflow\n",
    "import mlflow.sklearn\n",
    "mlflow.set_experiment('HR')\n",
    "\n",
    "from mlflow import log_metric, log_param, log_artifacts\n",
    "from sklearn.model_selection import train_test_split\n",
    "from sklearn.ensemble import RandomForestRegressor\n",
    "from sklearn.linear_model import ElasticNet\n",
    "from sklearn.metrics import mean_squared_error, mean_absolute_error, r2_score\n",
    "from mlflow.tracking import MlflowClient\n",
    "import warnings\n",
    "\n",
    "warnings.filterwarnings(\"ignore\")\n",
    "print(mlflow.__version__)"
   ]
  },
  {
   "cell_type": "code",
   "execution_count": 3,
   "metadata": {},
   "outputs": [],
   "source": [
    "path = 'M6-Data-Engineering-and-MLOps\\general_data.csv'\n",
    "HR = pd.read_csv(path)\n",
    "path1 = 'M6-Data-Engineering-and-MLOps\\employee_survey_data.csv'\n",
    "ES = pd.read_csv(path1)\n",
    "path2 = 'M6-Data-Engineering-and-MLOps\\manager_survey_data.csv'\n",
    "MS = pd.read_csv(path2)\n",
    "EMS = pd.merge(ES, MS)\n",
    "hr_df = pd.merge(HR, EMS)"
   ]
  },
  {
   "cell_type": "code",
   "execution_count": 4,
   "metadata": {},
   "outputs": [
    {
     "name": "stdout",
     "output_type": "stream",
     "text": [
      "Size of Full dataset is: (1498, 24)\n",
      "Size of Full dataset is: (1498, 20)\n"
     ]
    }
   ],
   "source": [
    "hrdf = hr_df.drop_duplicates(subset = ['Age', 'Attrition', 'BusinessTravel', 'Department', 'DistanceFromHome', 'Education', 'EducationField', 'Gender', 'JobLevel', 'JobRole', 'MaritalStatus', 'MonthlyIncome', 'NumCompaniesWorked', 'PercentSalaryHike', 'StockOptionLevel', 'TotalWorkingYears', 'TrainingTimesLastYear', 'YearsAtCompany', 'YearsSinceLastPromotion', 'YearsWithCurrManager'])\n",
    "\n",
    "hrdf.NumCompaniesWorked = hrdf.NumCompaniesWorked.fillna(3)\n",
    "hrdf.EnvironmentSatisfaction = hrdf.EnvironmentSatisfaction.fillna(3)\n",
    "hrdf.JobSatisfaction = hrdf.JobSatisfaction.fillna(3)\n",
    "hrdf.WorkLifeBalance = hrdf.WorkLifeBalance.fillna(3)\n",
    "hrdf.TotalWorkingYears = hrdf.TotalWorkingYears.fillna(11)\n",
    "\n",
    "hrdf['NumCompaniesWorked'] = hrdf['NumCompaniesWorked'].astype(int)\n",
    "hrdf['TotalWorkingYears'] = hrdf['TotalWorkingYears'].astype(int)\n",
    "hrdf['EnvironmentSatisfaction'] = hrdf['EnvironmentSatisfaction'].astype(int)\n",
    "hrdf['JobSatisfaction'] = hrdf['JobSatisfaction'].astype(int)\n",
    "hrdf['WorkLifeBalance'] = hrdf['WorkLifeBalance'].astype(int)\n",
    "\n",
    "hrdf['Attrition'].replace({'No' : '0'}, inplace=True)\n",
    "hrdf['Attrition'].replace({'Yes' : '1'}, inplace=True)\n",
    "\n",
    "hrdf['NumCompaniesWorked'] = hrdf['NumCompaniesWorked'].astype(int)\n",
    "hrdf['TotalWorkingYears'] = hrdf['TotalWorkingYears'].astype(int)\n",
    "hrdf['EnvironmentSatisfaction'] = hrdf['EnvironmentSatisfaction'].astype(int)\n",
    "hrdf['JobSatisfaction'] = hrdf['JobSatisfaction'].astype(int)\n",
    "hrdf['WorkLifeBalance'] = hrdf['WorkLifeBalance'].astype(int)\n",
    "hrdf['Attrition'] = hrdf['Attrition'].astype(int)\n",
    "\n",
    "hrdf.drop(['BusinessTravel', 'EmployeeCount', 'Department',\n",
    "            'StandardHours', 'Over18'], axis=1, inplace=True)\n",
    "print('Size of Full dataset is: {}'.format(hrdf.shape))\n",
    "\n",
    "hrdf.drop(['EducationField', 'Gender',\n",
    "            'JobRole', 'MaritalStatus'], axis=1, inplace=True)\n",
    "print('Size of Full dataset is: {}'.format(hrdf.shape))"
   ]
  },
  {
   "cell_type": "code",
   "execution_count": 5,
   "metadata": {},
   "outputs": [
    {
     "name": "stdout",
     "output_type": "stream",
     "text": [
      "<class 'pandas.core.frame.DataFrame'>\n",
      "Int64Index: 1498 entries, 0 to 4409\n",
      "Data columns (total 20 columns):\n",
      " #   Column                   Non-Null Count  Dtype\n",
      "---  ------                   --------------  -----\n",
      " 0   Age                      1498 non-null   int64\n",
      " 1   Attrition                1498 non-null   int32\n",
      " 2   DistanceFromHome         1498 non-null   int64\n",
      " 3   Education                1498 non-null   int64\n",
      " 4   EmployeeID               1498 non-null   int64\n",
      " 5   JobLevel                 1498 non-null   int64\n",
      " 6   MonthlyIncome            1498 non-null   int64\n",
      " 7   NumCompaniesWorked       1498 non-null   int32\n",
      " 8   PercentSalaryHike        1498 non-null   int64\n",
      " 9   StockOptionLevel         1498 non-null   int64\n",
      " 10  TotalWorkingYears        1498 non-null   int32\n",
      " 11  TrainingTimesLastYear    1498 non-null   int64\n",
      " 12  YearsAtCompany           1498 non-null   int64\n",
      " 13  YearsSinceLastPromotion  1498 non-null   int64\n",
      " 14  YearsWithCurrManager     1498 non-null   int64\n",
      " 15  EnvironmentSatisfaction  1498 non-null   int32\n",
      " 16  JobSatisfaction          1498 non-null   int32\n",
      " 17  WorkLifeBalance          1498 non-null   int32\n",
      " 18  JobInvolvement           1498 non-null   int64\n",
      " 19  PerformanceRating        1498 non-null   int64\n",
      "dtypes: int32(6), int64(14)\n",
      "memory usage: 210.7 KB\n"
     ]
    }
   ],
   "source": [
    "hrdf.info()"
   ]
  },
  {
   "cell_type": "code",
   "execution_count": 6,
   "metadata": {},
   "outputs": [
    {
     "name": "stdout",
     "output_type": "stream",
     "text": [
      "Size of Full dataset is: (1498, 15)\n",
      "Size of Full dataset is: (1498, 10)\n",
      "Size of Full dataset is: (1498, 6)\n"
     ]
    }
   ],
   "source": [
    "hrdf.drop(['Education', 'EmployeeID', 'JobLevel',\n",
    "            'NumCompaniesWorked', 'StockOptionLevel'], axis=1, inplace=True)\n",
    "print('Size of Full dataset is: {}'.format(hrdf.shape))\n",
    "\n",
    "hrdf.drop(['TrainingTimesLastYear', 'YearsAtCompany', 'YearsSinceLastPromotion',\n",
    "            'YearsWithCurrManager', 'EnvironmentSatisfaction'], axis=1, inplace=True)\n",
    "print('Size of Full dataset is: {}'.format(hrdf.shape))\n",
    "\n",
    "hrdf.drop(['JobSatisfaction', 'WorkLifeBalance',\n",
    "            'JobInvolvement', 'PerformanceRating'], axis=1, inplace=True)\n",
    "print('Size of Full dataset is: {}'.format(hrdf.shape))"
   ]
  },
  {
   "cell_type": "code",
   "execution_count": 7,
   "metadata": {},
   "outputs": [
    {
     "name": "stdout",
     "output_type": "stream",
     "text": [
      "<class 'pandas.core.frame.DataFrame'>\n",
      "Int64Index: 1498 entries, 0 to 4409\n",
      "Data columns (total 6 columns):\n",
      " #   Column             Non-Null Count  Dtype\n",
      "---  ------             --------------  -----\n",
      " 0   Age                1498 non-null   int64\n",
      " 1   Attrition          1498 non-null   int32\n",
      " 2   DistanceFromHome   1498 non-null   int64\n",
      " 3   MonthlyIncome      1498 non-null   int64\n",
      " 4   PercentSalaryHike  1498 non-null   int64\n",
      " 5   TotalWorkingYears  1498 non-null   int32\n",
      "dtypes: int32(2), int64(4)\n",
      "memory usage: 70.2 KB\n"
     ]
    }
   ],
   "source": [
    "hrdf.info()"
   ]
  },
  {
   "cell_type": "code",
   "execution_count": 8,
   "metadata": {},
   "outputs": [],
   "source": [
    "def eval_metrics(actual, pred):\n",
    "        rmse = np.sqrt(mean_squared_error(actual, pred))\n",
    "        mae = mean_absolute_error(actual, pred)\n",
    "        r2 = r2_score(actual, pred)\n",
    "        return rmse, mae, r2"
   ]
  },
  {
   "cell_type": "code",
   "execution_count": 9,
   "metadata": {},
   "outputs": [],
   "source": [
    "def train_model(alpha, l1_ratio):\n",
    "    train, test = train_test_split(hrdf)\n",
    "    train_x = train.drop([\"Attrition\"], axis=1)\n",
    "    test_x = test.drop([\"Attrition\"], axis=1)\n",
    "    train_y = train[[\"Attrition\"]]\n",
    "    test_y = test[[\"Attrition\"]]\n",
    "\n",
    "    with mlflow.start_run():\n",
    "        lr = ElasticNet(alpha=alpha, l1_ratio=l1_ratio, random_state=42)\n",
    "        lr.fit(train_x, train_y)\n",
    "\n",
    "        predicted_qualities = lr.predict(test_x)\n",
    "        (rmse, mae, r2) = eval_metrics(test_y, predicted_qualities)\n",
    "\n",
    "        print(\"Elasticnet model (alpha=%f, l1_ratio=%f):\" % (alpha, l1_ratio))\n",
    "        print(\"  RMSE: %s\" % rmse)\n",
    "        print(\"  MAE: %s\" % mae)\n",
    "        print(\"  R2: %s\" % r2)\n",
    "\n",
    "        mlflow.log_param(\"alpha\", alpha)\n",
    "        mlflow.log_param(\"l1_ratio\", l1_ratio)\n",
    "        mlflow.log_metric(\"rmse\", rmse)\n",
    "        mlflow.log_metric(\"r2\", r2)\n",
    "        mlflow.log_metric(\"mae\", mae)\n",
    "\n",
    "        mlflow.sklearn.log_model(lr, \"model\")"
   ]
  },
  {
   "cell_type": "code",
   "execution_count": 10,
   "metadata": {},
   "outputs": [
    {
     "name": "stdout",
     "output_type": "stream",
     "text": [
      "Elasticnet model (alpha=0.500000, l1_ratio=0.500000):\n",
      "  RMSE: 0.3432310006513717\n",
      "  MAE: 0.26029040072092735\n",
      "  R2: 0.013653103535368305\n"
     ]
    }
   ],
   "source": [
    "train_model(0.5, 0.5)"
   ]
  },
  {
   "cell_type": "code",
   "execution_count": 11,
   "metadata": {},
   "outputs": [
    {
     "name": "stdout",
     "output_type": "stream",
     "text": [
      "Elasticnet model (alpha=0.500000, l1_ratio=0.400000):\n",
      "  RMSE: 0.36985255526200395\n",
      "  MAE: 0.2668504160719858\n",
      "  R2: 0.02135622257158798\n"
     ]
    }
   ],
   "source": [
    "train_model(0.5, 0.4)"
   ]
  },
  {
   "cell_type": "code",
   "execution_count": 12,
   "metadata": {},
   "outputs": [
    {
     "name": "stdout",
     "output_type": "stream",
     "text": [
      "Elasticnet model (alpha=0.500000, l1_ratio=0.300000):\n",
      "  RMSE: 0.3721395591055112\n",
      "  MAE: 0.2705336812874234\n",
      "  R2: 0.009215806352705136\n"
     ]
    }
   ],
   "source": [
    "train_model(0.5, 0.3)"
   ]
  },
  {
   "cell_type": "code",
   "execution_count": 13,
   "metadata": {},
   "outputs": [
    {
     "name": "stdout",
     "output_type": "stream",
     "text": [
      "Elasticnet model (alpha=0.500000, l1_ratio=0.200000):\n",
      "  RMSE: 0.38582721625763367\n",
      "  MAE: 0.27665943816775734\n",
      "  R2: 0.030123755410522923\n"
     ]
    }
   ],
   "source": [
    "train_model(0.5, 0.2)"
   ]
  },
  {
   "cell_type": "code",
   "execution_count": 14,
   "metadata": {},
   "outputs": [
    {
     "name": "stdout",
     "output_type": "stream",
     "text": [
      "Elasticnet model (alpha=0.500000, l1_ratio=0.100000):\n",
      "  RMSE: 0.3726190585561381\n",
      "  MAE: 0.27196168206361243\n",
      "  R2: 0.03101375217636204\n"
     ]
    }
   ],
   "source": [
    "train_model(0.5, 0.1)"
   ]
  }
 ],
 "metadata": {
  "kernelspec": {
   "display_name": "base",
   "language": "python",
   "name": "python3"
  },
  "language_info": {
   "codemirror_mode": {
    "name": "ipython",
    "version": 3
   },
   "file_extension": ".py",
   "mimetype": "text/x-python",
   "name": "python",
   "nbconvert_exporter": "python",
   "pygments_lexer": "ipython3",
   "version": "3.9.12"
  },
  "orig_nbformat": 4
 },
 "nbformat": 4,
 "nbformat_minor": 2
}
